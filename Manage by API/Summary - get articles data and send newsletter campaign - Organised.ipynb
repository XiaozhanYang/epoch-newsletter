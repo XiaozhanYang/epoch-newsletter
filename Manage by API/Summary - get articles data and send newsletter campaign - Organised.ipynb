{
 "cells": [
  {
   "cell_type": "code",
   "execution_count": 43,
   "metadata": {},
   "outputs": [],
   "source": [
    "# for article content scripting with BeautifulSoup\n",
    "import requests\n",
    "from bs4 import BeautifulSoup\n",
    "import re\n",
    "\n",
    "# for rendering html template with Jinja\n",
    "from jinja2 import Environment, FileSystemLoader\n",
    "import os\n",
    "\n",
    "# for building and sending emails with MailChimp\n",
    "import mailchimp_marketing as MailchimpMarketing\n",
    "from mailchimp_marketing.api_client import ApiClientError\n",
    "import json\n",
    "\n",
    "# for viewing the email draft in webpage\n",
    "import webbrowser\n",
    "from datetime import date\n",
    "\n",
    "import config as cf\n",
    "import importlib\n",
    "cf = importlib.reload(cf)"
   ]
  },
  {
   "cell_type": "markdown",
   "metadata": {},
   "source": [
    "# Define the Article Object with BeautifulSoup"
   ]
  },
  {
   "cell_type": "code",
   "execution_count": 2,
   "metadata": {
    "code_folding": [
     0
    ]
   },
   "outputs": [],
   "source": [
    "class Article():\n",
    "    \n",
    "    def __init__(self, url, title=None, img_url=None, preview_text=None, tag=None, label=None, class_name='article', id_name='main', video_page_url=None):\n",
    "        \n",
    "        self._url = url.replace('/gb/', '/b5/')\n",
    "        self._title = title\n",
    "        self._img_url = img_url\n",
    "        self._preview_text = preview_text\n",
    "        self._tag = tag\n",
    "        self._label = label\n",
    "        self._video_page_url = video_page_url.replace('/gb/', '/b5/')\n",
    "        \n",
    "        page = requests.get(self._url)\n",
    "        self._soup = BeautifulSoup(page.text, 'html.parser')\n",
    "        \n",
    "        self._article = self._soup.find(class_=class_name)\n",
    "        \n",
    "        if not self._article:\n",
    "            self._article = self._soup.find(id=id_name)\n",
    "            \n",
    "        if not self._article:\n",
    "            self._article = self._soup.find('article')\n",
    "        \n",
    "    @property\n",
    "    def url(self):\n",
    "        return self._url\n",
    "    \n",
    "    @url.setter\n",
    "    def url(self, value):\n",
    "        self._url = value\n",
    "        \n",
    "    @property\n",
    "    def title(self, class_name='title'):\n",
    "        \n",
    "        if not self._title:\n",
    "            article_title = self._article.find(class_=class_name)\n",
    "            self._title = article_title.text\n",
    "            \n",
    "        return self._title\n",
    "    \n",
    "    @title.setter\n",
    "    def title(self, value):\n",
    "        self._title = value\n",
    "    \n",
    "    @property\n",
    "    def img_url(self, class_name='featured_image'):\n",
    "        \n",
    "        if not self._img_url:\n",
    "            try:\n",
    "                self._img_url = self._article.find(class_=class_name).find('a').get('href')\n",
    "            except:\n",
    "                try:\n",
    "                    self._img_url = self._article.find(class_=class_name).find('figure').find('img').get('src')\n",
    "                except:\n",
    "                    try:\n",
    "                        self._img_url = self._article.find(class_='wp-post-image').get('src')\n",
    "                    except:\n",
    "                        page = requests.get(self._video_page_url)\n",
    "                        video_page_soup = BeautifulSoup(page.text, 'html.parser')\n",
    "                        self._img_url = video_page_soup.select_one(f\"a[href='{self._url}']\").find('img').get('src')\n",
    "        \n",
    "        return self._img_url\n",
    "    \n",
    "    @img_url.setter\n",
    "    def img_url(self, value):\n",
    "        self._img_url = value\n",
    "    \n",
    "    @property\n",
    "    def preview_text(self, id_name='artbody'):\n",
    "        \n",
    "        paragraph_index = 0\n",
    "        \n",
    "        while not self._preview_text:\n",
    "            article_first_paragraph = self._article.find(id=id_name).find_all('p')[paragraph_index].text\n",
    "            article_preview_text = re.sub(r'\\【[^)]*\\】', '', article_first_paragraph)\n",
    "            article_preview_text = re.sub(r'\\n', '', article_preview_text) \n",
    "            article_preview_text = re.sub(r'\\（英文大纪元[^)]*\\编译）', '', article_preview_text)\n",
    "            article_preview_text = re.sub(r'\\（英文大紀元[^)]*\\編譯）', '', article_preview_text)\n",
    "            article_preview_text = re.sub(r'\\（英國[^)]*\\報導）', '', article_preview_text)\n",
    "            article_preview_text = re.sub(r'\\（大紀元[^)]*\\報導）', '', article_preview_text)\n",
    "            article_preview_text = re.sub(r'\\(大紀元[^)]*\\報導\\)', '', article_preview_text)\n",
    "            article_preview_text = re.sub(r'\\（大纪元[^)]*\\报导）', '', article_preview_text)\n",
    "            self._preview_text = article_preview_text.strip()\n",
    "            paragraph_index += 1\n",
    "        \n",
    "        return self._preview_text\n",
    "    \n",
    "    @preview_text.setter\n",
    "    def preview_text(self, value):\n",
    "        self._preview_text = value\n",
    "        \n",
    "    @property\n",
    "    def tag(self, id_name='breadcrumb'):\n",
    "        \n",
    "        if not self._tag:\n",
    "            breadcrumb = self._soup.find(id=id_name)\n",
    "            raw_tag = breadcrumb.findAll('a')[-1].text\n",
    "            raw_tag = re.sub(r'\\([^)]*\\)', '', raw_tag)\n",
    "            self._tag = re.sub(r'\\（[^)]*\\）', '', raw_tag)\n",
    "        \n",
    "        return self._tag\n",
    "    \n",
    "    @tag.setter\n",
    "    def tag(self, value):\n",
    "        self._tag = value\n",
    "        \n",
    "    @property\n",
    "    def label(self):\n",
    "        return self._label\n",
    "    \n",
    "    @label.setter\n",
    "    def label(self, value):\n",
    "        self._label = value"
   ]
  },
  {
   "cell_type": "code",
   "execution_count": 3,
   "metadata": {
    "code_folding": [
     0
    ]
   },
   "outputs": [],
   "source": [
    "class Content(Article):\n",
    "    \n",
    "    def __init__(self, article_url_list, video_url_list, video_page_url=None):\n",
    "        \n",
    "        # parse data\n",
    "        self.article_list = [Article(article_url, video_page_url=video_page_url) for article_url in article_url_list]\n",
    "        \n",
    "        self.video_list = [Article(video_url, video_page_url=video_page_url) for video_url in video_url_list]\n",
    "        self.video_pair_list = [[value, self.video_list[counter+1]] for counter, value in enumerate(self.video_list) if counter%2 == 0]      "
   ]
  },
  {
   "cell_type": "code",
   "execution_count": 4,
   "metadata": {
    "code_folding": [
     0
    ]
   },
   "outputs": [],
   "source": [
    "class Jinja_Template(Content):\n",
    "    \n",
    "    def __init__(self, \n",
    "                 template_folder_name = 'Jinja Templates', \n",
    "                 template_file_name = 'newsletter_as_jinja_template_base.html'):\n",
    "\n",
    "        file_loader = FileSystemLoader('../'+template_folder_name+'/')\n",
    "        self.env = Environment(loader=file_loader, extensions=['jinja2.ext.do'])\n",
    "\n",
    "        # render the base template\n",
    "        self.template = self.env.get_template(template_file_name)\n",
    "        \n",
    "    def render(self, source_contect, \n",
    "               folder_name='Exported HTML', \n",
    "               rendered_newsletter_filename = 'rendered_newsletter.html'):\n",
    "        \n",
    "        # description: subject_line and preview_text\n",
    "        self.subject_line = source_contect.article_list[0].title\n",
    "        article_title_list = [article.title for article in source_contect.article_list]\n",
    "        self.preview_text = ' · '.join(article_title_list[1:])\n",
    "        \n",
    "        self.rendered_content = self.template.render(env=self.env, \n",
    "                                                   header=source_contect.article_list[0], \n",
    "                                                   article_list=source_contect.article_list, \n",
    "                                                   video_pair_list=source_contect.video_pair_list)\n",
    "        \n",
    "        self.folder_path = '../' + folder_name + '/'\n",
    "        \n",
    "        if not os.path.exists(self.folder_path):\n",
    "            os.makedirs(self.folder_path)\n",
    "        \n",
    "        self.newsletter_path = self.folder_path + rendered_newsletter_filename\n",
    "        \n",
    "        with open(self.newsletter_path, \"w\") as fh:\n",
    "            fh.write(self.rendered_content)\n",
    "            \n",
    "        print('newsletter rendered at: '+ self.newsletter_path)\n",
    "        \n",
    "    def preview(self):\n",
    "\n",
    "        webbrowser.open('file://' + os.path.realpath(self.newsletter_path))"
   ]
  },
  {
   "cell_type": "code",
   "execution_count": 5,
   "metadata": {
    "code_folding": []
   },
   "outputs": [],
   "source": [
    "class MailChimp_Campaign(Jinja_Template):\n",
    "\n",
    "    def __init__(self, newsletter, mailchimp_config,\n",
    "                 # sender information\n",
    "                 from_name='Anonymous Sender',\n",
    "                 reply_to='no_reply@email.com'):\n",
    "\n",
    "        self.subject_line = newsletter.subject_line\n",
    "        self.preview_text = newsletter.preview_text\n",
    "        self.rendered_content = newsletter.rendered_content\n",
    "        self.mailchimp_config = mailchimp_config\n",
    "\n",
    "        # sender information\n",
    "        self.from_name = from_name\n",
    "        self.reply_to = reply_to\n",
    "        \n",
    "        # campaign name\n",
    "        today = date.today().strftime(\"%d %B %Y\")\n",
    "        self.campaign_title = 'Campaign_Created_through_API' + today\n",
    "\n",
    "    def connect_to_MailChimp(self):\n",
    "\n",
    "        self.client = MailchimpMarketing.Client()\n",
    "        self.client.set_config({\n",
    "            \"api_key\": self.mailchimp_config[\"API_KEY\"],\n",
    "            \"server\": self.mailchimp_config[\"API_KEY\"].split('-')[-1]\n",
    "        })\n",
    "\n",
    "        response_ping = self.client.ping.get()\n",
    "\n",
    "        if response_ping['health_status'] == \"Everything's Chimpy!\":\n",
    "            print(\"MailChimp account connected!\")\n",
    "\n",
    "    def update_MailChimp_template(self):\n",
    "\n",
    "        response = self.client.templates.update_template(\n",
    "            self.mailchimp_config['template_id'], {\"name\": \"Template_Created_through_API\", \"html\": self.rendered_content})\n",
    "        print(\"Template updated at:\", response['date_edited'])\n",
    "\n",
    "    def specify_recipients(self):\n",
    "\n",
    "        if self.mailchimp_config['segment_id']:\n",
    "            self.recipients = {'segment_opts':\n",
    "                               {'saved_segment_id':\n",
    "                                   self.mailchimp_config['segment_id']},\n",
    "                               'list_id': self.mailchimp_config['list_id']}\n",
    "        else:\n",
    "            self.recipients = {'list_id': self.mailchimp_config['list_id']}\n",
    "\n",
    "        print('recipients specified.')\n",
    "\n",
    "    def create(self):\n",
    "\n",
    "        self.connect_to_MailChimp()\n",
    "        self.update_MailChimp_template()\n",
    "        self.specify_recipients()\n",
    "\n",
    "        self.created_campaign = self.client.campaigns.create({\"type\": \"regular\",\n",
    "                                                              'recipients': self.recipients,\n",
    "                                                              \"settings\":\n",
    "                                                              {\"title\": self.campaign_title,\n",
    "                                                               \"subject_line\": self.subject_line,\n",
    "                                                               \"preview_text\": self.preview_text,\n",
    "                                                               \"from_name\": self.from_name,\n",
    "                                                               \"reply_to\": self.reply_to,\n",
    "                                                               \"template_id\": self.mailchimp_config['template_id'],\n",
    "                                                               \"auto_footer\": False}})\n",
    "        print('Campaign created successfully!')\n",
    "\n",
    "    def send(self):\n",
    "\n",
    "        campaign_id = self.created_campaign['id']\n",
    "        response_of_campaigns_send = self.client.campaigns.send(campaign_id)\n",
    "\n",
    "        return response_of_campaigns_send"
   ]
  },
  {
   "cell_type": "markdown",
   "metadata": {},
   "source": [
    "# Processing Part"
   ]
  },
  {
   "cell_type": "code",
   "execution_count": 33,
   "metadata": {},
   "outputs": [],
   "source": [
    "article_url_list = ['https://www.epochtimes.com/b5/21/5/27/n12980341.htm',\n",
    "                    'https://www.epochtimes.com/b5/21/5/27/n12980264.htm',\n",
    "                    'https://www.epochtimes.com/b5/21/5/28/n12981990.htm',\n",
    "                    'https://www.epochtimes.com/b5/21/5/27/n12980233.htm']\n",
    "\n",
    "video_url_list = ['https://www.ntdtv.com/b5/2021/05/29/a103130228.html',\n",
    "                  'https://www.epochtimes.com/b5/21/5/28/n12981371.htm',\n",
    "                  'https://www.epochtimes.com/b5/21/5/28/n12983334.htm',\n",
    "                  'https://www.ntdtv.com/b5/2021/05/28/a103129745.html']\n",
    "\n",
    "video_page_url = 'https://www.epochtimes.com/gb/ncid1247351.htm'"
   ]
  },
  {
   "cell_type": "code",
   "execution_count": 34,
   "metadata": {},
   "outputs": [],
   "source": [
    "source_content = Content(article_url_list, video_url_list, video_page_url=video_page_url)"
   ]
  },
  {
   "cell_type": "code",
   "execution_count": 35,
   "metadata": {
    "scrolled": true
   },
   "outputs": [
    {
     "name": "stdout",
     "output_type": "stream",
     "text": [
      "黛安娜採訪醜聞 BBC面臨整肅\n",
      "社會新聞\n",
      "None\n",
      "黛安娜採訪醜聞的揭開，讓外界看到了BBC的管理層在其中掩蓋真相的活動，因此BBC將不可避免地面臨一些整肅，甚至可能是徹底整肅。\n",
      "\n",
      "慶祝解封 英國人上個週末消費12億鎊\n",
      "社會新聞\n",
      "None\n",
      "上週一（5月17日）開始，英格蘭允許人們到餐館、酒吧內消費，許多人在週末的時候湧入餐飲場所。據估計，這個週末英國人一個在這些場所消費了12億鎊。\n",
      "\n",
      "組圖：倫敦昔日拘留所改警察博物館對外開放\n",
      "軟性新聞\n",
      "None\n",
      "英國倫敦一間廢棄的警察局經過改造後，如今成為「弓街警察博物館」（Bow Street Police Museum），即昔日的拘留所也對民眾開放。\n",
      "\n",
      "2021年英國富豪排名 戴森退居第四位\n",
      "社會新聞\n",
      "None\n",
      "《星期日泰晤士報》近日公佈了英國最新的富豪排名，去年高居榜首的英國本土富豪戴森（James Dyson）今年排名第四。\n",
      "\n"
     ]
    }
   ],
   "source": [
    "for article in source_content.article_list:\n",
    "    print(article.title)\n",
    "    print(article.tag)\n",
    "    print(article.label)\n",
    "    print(article.preview_text)\n",
    "    print()"
   ]
  },
  {
   "cell_type": "code",
   "execution_count": 110,
   "metadata": {},
   "outputs": [],
   "source": [
    "# source_content.article_list[0].title = '疫情导致去年英国经济缩水创300年记录'"
   ]
  },
  {
   "cell_type": "code",
   "execution_count": 36,
   "metadata": {
    "scrolled": true
   },
   "outputs": [
    {
     "name": "stdout",
     "output_type": "stream",
     "text": [
      "\n",
      "【熱點互動】專訪王琛：神韻特別節目網絡首播帶來驚喜\n",
      "\n",
      "【拍案驚奇】新華社報官員沒錢了 廣州疫情嚴重\n",
      "新聞拍案驚奇\n",
      "大家好，歡迎收看《新聞拍案驚奇》，我是大宇。\n",
      "https://i.epochtimes.com/assets/uploads/2021/05/id12981426-29dbefd865c9bcdcd38f1da0b3909ab1-600x400.jpg\n",
      "\n",
      "【秦鵬直播】中國科學家起義？論文打臉石正麗\n",
      "每日新聞\n",
      "觀眾朋友大家好，今天是美東時間的5月28日，北京港台時間的5月29日。今天我和Iris一起來為大家做這一期節目。\n",
      "https://i.epochtimes.com/assets/uploads/2021/05/id12983387-1200-800-600x400.jpg\n",
      "\n",
      "【時事小品】文革2.0的好時代\n",
      "時事小品\n"
     ]
    }
   ],
   "source": [
    "for article in source_content.video_list:\n",
    "    try:\n",
    "        print(article.title)\n",
    "        print(article.tag)\n",
    "        print(article.preview_text)\n",
    "        print(article.img_url)\n",
    "        print()\n",
    "    except:\n",
    "        pass"
   ]
  },
  {
   "cell_type": "code",
   "execution_count": 37,
   "metadata": {},
   "outputs": [],
   "source": [
    "source_content.video_list[0].img_url = 'https://i.ntdtv.com/assets/uploads/2021/05/maxresdefault-70-800x450.jpg'"
   ]
  },
  {
   "cell_type": "code",
   "execution_count": 38,
   "metadata": {},
   "outputs": [],
   "source": [
    "source_content.video_list[3].img_url = 'https://i.ntdtv.com/assets/uploads/2021/05/maxresdefault-1-46-192x108.jpg'"
   ]
  },
  {
   "cell_type": "code",
   "execution_count": 39,
   "metadata": {},
   "outputs": [
    {
     "name": "stdout",
     "output_type": "stream",
     "text": [
      "https://i.ntdtv.com/assets/uploads/2021/05/maxresdefault-70-800x450.jpg\n",
      "https://i.epochtimes.com/assets/uploads/2021/05/id12981426-29dbefd865c9bcdcd38f1da0b3909ab1-600x400.jpg\n",
      "https://i.epochtimes.com/assets/uploads/2021/05/id12983387-1200-800-600x400.jpg\n",
      "https://i.ntdtv.com/assets/uploads/2021/05/maxresdefault-1-46-192x108.jpg\n"
     ]
    }
   ],
   "source": [
    "for video in source_content.video_list:\n",
    "    print(video.img_url)"
   ]
  },
  {
   "cell_type": "code",
   "execution_count": 40,
   "metadata": {},
   "outputs": [],
   "source": [
    "newsletter = Jinja_Template()"
   ]
  },
  {
   "cell_type": "code",
   "execution_count": 41,
   "metadata": {},
   "outputs": [
    {
     "name": "stdout",
     "output_type": "stream",
     "text": [
      "newsletter rendered at: ../Exported HTML/rendered_newsletter.html\n"
     ]
    }
   ],
   "source": [
    "newsletter.render(source_content)"
   ]
  },
  {
   "cell_type": "code",
   "execution_count": 42,
   "metadata": {},
   "outputs": [],
   "source": [
    "newsletter.preview()"
   ]
  },
  {
   "cell_type": "markdown",
   "metadata": {},
   "source": [
    "# Connect to MailChimp"
   ]
  },
  {
   "cell_type": "markdown",
   "metadata": {},
   "source": [
    "## Test Campaign"
   ]
  },
  {
   "cell_type": "code",
   "execution_count": 44,
   "metadata": {},
   "outputs": [],
   "source": [
    "mailchimp_config_test = {\n",
    "    \"API_KEY\": cf.mailchimp_config_test.API_KEY,\n",
    "    \"template_id\": cf.mailchimp_config_test.template_id,\n",
    "    \"segment_id\": cf.mailchimp_config_test.segment_id, # recipients\n",
    "    \"list_id\": cf.mailchimp_config_test.list_id # members list\n",
    "}"
   ]
  },
  {
   "cell_type": "markdown",
   "metadata": {},
   "source": [
    "### Create MailChimp campaign"
   ]
  },
  {
   "cell_type": "code",
   "execution_count": 45,
   "metadata": {},
   "outputs": [],
   "source": [
    "test_campaign = MailChimp_Campaign(newsletter, mailchimp_config_test, \n",
    "                                   from_name=cf.mailchimp_compaign.from_name, \n",
    "                                   reply_to=cf.mailchimp_compaign.reply_to)"
   ]
  },
  {
   "cell_type": "code",
   "execution_count": 46,
   "metadata": {},
   "outputs": [
    {
     "name": "stdout",
     "output_type": "stream",
     "text": [
      "MailChimp account connected!\n",
      "Template updated at: 2021-05-29T16:57:20+00:00\n",
      "recipients specified.\n",
      "Campaign created successfully!\n"
     ]
    }
   ],
   "source": [
    "test_campaign.create()"
   ]
  },
  {
   "cell_type": "code",
   "execution_count": 47,
   "metadata": {},
   "outputs": [
    {
     "data": {
      "text/plain": [
       "<Response [204]>"
      ]
     },
     "execution_count": 47,
     "metadata": {},
     "output_type": "execute_result"
    }
   ],
   "source": [
    "test_campaign.send()"
   ]
  },
  {
   "cell_type": "markdown",
   "metadata": {},
   "source": [
    "## Real Campaign"
   ]
  },
  {
   "cell_type": "code",
   "execution_count": 48,
   "metadata": {},
   "outputs": [],
   "source": [
    "mailchimp_config_real = {\n",
    "    \"API_KEY\": cf.mailchimp_config_real.API_KEY,\n",
    "    \"template_id\": cf.mailchimp_config_real.template_id,\n",
    "    \"segment_id\": cf.mailchimp_config_real.segment_id, # recipients\n",
    "    \"list_id\": cf.mailchimp_config_real.list_id # members list\n",
    "}"
   ]
  },
  {
   "cell_type": "code",
   "execution_count": 49,
   "metadata": {},
   "outputs": [],
   "source": [
    "real_campaign = MailChimp_Campaign(newsletter, mailchimp_config_real, \n",
    "                                   from_name=cf.mailchimp_compaign.from_name, \n",
    "                                   reply_to=cf.mailchimp_compaign.reply_to)"
   ]
  },
  {
   "cell_type": "code",
   "execution_count": 50,
   "metadata": {},
   "outputs": [
    {
     "name": "stdout",
     "output_type": "stream",
     "text": [
      "MailChimp account connected!\n",
      "Template updated at: 2021-05-29T16:58:52+00:00\n",
      "recipients specified.\n",
      "Campaign created successfully!\n"
     ]
    }
   ],
   "source": [
    "real_campaign.create()"
   ]
  },
  {
   "cell_type": "code",
   "execution_count": 51,
   "metadata": {},
   "outputs": [
    {
     "data": {
      "text/plain": [
       "<Response [204]>"
      ]
     },
     "execution_count": 51,
     "metadata": {},
     "output_type": "execute_result"
    }
   ],
   "source": [
    "real_campaign.send()"
   ]
  },
  {
   "cell_type": "markdown",
   "metadata": {},
   "source": [
    "## Drafts"
   ]
  },
  {
   "cell_type": "code",
   "execution_count": 200,
   "metadata": {
    "code_folding": []
   },
   "outputs": [],
   "source": [
    "# define article tag\n",
    "tag_list = ['英国新闻', '英国新闻', '英国新闻', '英国新闻']\n",
    "\n",
    "for index in range(len(tag_list)):\n",
    "    article_list[index].tag = tag_list[index]\n",
    "    \n",
    "# article_list[0].img_url = 'https://i.epochtimes.com/assets/uploads/2020/12/2012112056442124.jpg'"
   ]
  }
 ],
 "metadata": {
  "kernelspec": {
   "display_name": "Python 3",
   "language": "python",
   "name": "python3"
  },
  "language_info": {
   "codemirror_mode": {
    "name": "ipython",
    "version": 3
   },
   "file_extension": ".py",
   "mimetype": "text/x-python",
   "name": "python",
   "nbconvert_exporter": "python",
   "pygments_lexer": "ipython3",
   "version": "3.7.4"
  }
 },
 "nbformat": 4,
 "nbformat_minor": 2
}
