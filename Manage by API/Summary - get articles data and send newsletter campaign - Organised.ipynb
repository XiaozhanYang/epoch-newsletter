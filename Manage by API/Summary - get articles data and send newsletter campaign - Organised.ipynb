{
 "cells": [
  {
   "cell_type": "code",
   "execution_count": 1,
   "metadata": {},
   "outputs": [],
   "source": [
    "# for article content scripting with BeautifulSoup\n",
    "import requests\n",
    "from bs4 import BeautifulSoup\n",
    "import re\n",
    "\n",
    "# for rendering html template with Jinja\n",
    "from jinja2 import Environment, FileSystemLoader\n",
    "import os\n",
    "\n",
    "# for building and sending emails with MailChimp\n",
    "import mailchimp_marketing as MailchimpMarketing\n",
    "from mailchimp_marketing.api_client import ApiClientError\n",
    "import json\n",
    "\n",
    "# for viewing the email draft in webpage\n",
    "import webbrowser\n",
    "from datetime import date\n",
    "\n",
    "import config as cf\n",
    "import importlib\n",
    "cf = importlib.reload(cf)"
   ]
  },
  {
   "cell_type": "markdown",
   "metadata": {},
   "source": [
    "# Define the Article Object with BeautifulSoup"
   ]
  },
  {
   "cell_type": "code",
   "execution_count": 49,
   "metadata": {
    "code_folding": []
   },
   "outputs": [],
   "source": [
    "class Article():\n",
    "    \n",
    "    def __init__(self, url, title=None, img_url=None, preview_text=None, tag=None, label=None, class_name='article', id_name='main', video_page_url=None):\n",
    "        \n",
    "        self._url = url.replace('/gb/', '/b5/')\n",
    "        self._title = title\n",
    "        self._img_url = img_url\n",
    "        self._preview_text = preview_text\n",
    "        self._tag = tag\n",
    "        self._label = label\n",
    "        self._video_page_url = video_page_url.replace('/gb/', '/b5/')\n",
    "        \n",
    "        page = requests.get(self._url)\n",
    "        self._soup = BeautifulSoup(page.text, 'html.parser')\n",
    "        \n",
    "        self._article = self._soup.find(class_=class_name)\n",
    "        \n",
    "        if not self._article:\n",
    "            self._article = self._soup.find(id=id_name)\n",
    "            \n",
    "        if not self._article:\n",
    "            self._article = self._soup.find('article')\n",
    "        \n",
    "    @property\n",
    "    def url(self):\n",
    "        return self._url\n",
    "    \n",
    "    @url.setter\n",
    "    def url(self, value):\n",
    "        self._url = value\n",
    "        \n",
    "    @property\n",
    "    def title(self, class_name='title'):\n",
    "        \n",
    "        if not self._title:\n",
    "            article_title = self._article.find(class_=class_name)\n",
    "            self._title = article_title.text\n",
    "            \n",
    "        return self._title\n",
    "    \n",
    "    @title.setter\n",
    "    def title(self, value):\n",
    "        self._title = value\n",
    "    \n",
    "    @property\n",
    "    def img_url(self, class_name='featured_image'):\n",
    "        \n",
    "        if not self._img_url:\n",
    "            try:\n",
    "                self._img_url = self._article.find(class_=class_name).find('a').get('href')\n",
    "            except:\n",
    "                try:\n",
    "                    self._img_url = self._article.find(class_=class_name).find('figure').find('img').get('src')\n",
    "                except:\n",
    "                    try:\n",
    "                        self._img_url = self._article.find(class_='wp-post-image').get('src')\n",
    "                    except:\n",
    "                        page = requests.get(self._video_page_url)\n",
    "                        video_page_soup = BeautifulSoup(page.text, 'html.parser')\n",
    "                        self._img_url = video_page_soup.select_one(f\"a[href='{self._url}']\").find('img').get('src')\n",
    "        \n",
    "        return self._img_url\n",
    "    \n",
    "    @img_url.setter\n",
    "    def img_url(self, value):\n",
    "        self._img_url = value\n",
    "    \n",
    "    @property\n",
    "    def preview_text(self, id_name='artbody'):\n",
    "        \n",
    "        paragraph_index = 0\n",
    "        \n",
    "        while not self._preview_text:\n",
    "            article_first_paragraph = self._article.find(id=id_name).find_all('p')[paragraph_index].text\n",
    "            article_preview_text = re.sub(r'\\【[^)]*\\】', '', article_first_paragraph)\n",
    "            article_preview_text = re.sub(r'\\n', '', article_preview_text) \n",
    "            article_preview_text = re.sub(r'\\（英文大纪元[^)]*\\编译）', '', article_preview_text)\n",
    "            article_preview_text = re.sub(r'\\（英文大紀元[^)]*\\編譯）', '', article_preview_text)\n",
    "            article_preview_text = re.sub(r'\\（英國[^)]*\\報導）', '', article_preview_text)\n",
    "            article_preview_text = re.sub(r'\\（大紀元[^)]*\\報導）', '', article_preview_text)\n",
    "            article_preview_text = re.sub(r'\\(大紀元[^)]*\\報導\\)', '', article_preview_text)\n",
    "            article_preview_text = re.sub(r'\\（大纪元[^)]*\\报导）', '', article_preview_text)\n",
    "            self._preview_text = article_preview_text.strip()\n",
    "            paragraph_index += 1\n",
    "        \n",
    "        return self._preview_text\n",
    "    \n",
    "    @preview_text.setter\n",
    "    def preview_text(self, value):\n",
    "        self._preview_text = value\n",
    "        \n",
    "    @property\n",
    "    def tag(self, id_name='breadcrumb'):\n",
    "        \n",
    "        if not self._tag:\n",
    "            breadcrumb = self._soup.find(id=id_name)\n",
    "            raw_tag = breadcrumb.findAll('a')[-1].text\n",
    "            raw_tag = re.sub(r'\\([^)]*\\)', '', raw_tag)\n",
    "            self._tag = re.sub(r'\\（[^)]*\\）', '', raw_tag)\n",
    "        \n",
    "        return self._tag\n",
    "    \n",
    "    @tag.setter\n",
    "    def tag(self, value):\n",
    "        self._tag = value\n",
    "        \n",
    "    @property\n",
    "    def label(self):\n",
    "        return self._label\n",
    "    \n",
    "    @label.setter\n",
    "    def label(self, value):\n",
    "        self._label = value"
   ]
  },
  {
   "cell_type": "code",
   "execution_count": 50,
   "metadata": {
    "code_folding": [
     0
    ]
   },
   "outputs": [],
   "source": [
    "class Content(Article):\n",
    "    \n",
    "    def __init__(self, article_url_list, video_url_list, video_page_url=None):\n",
    "        \n",
    "        # parse data\n",
    "        self.article_list = [Article(article_url, video_page_url=video_page_url) for article_url in article_url_list]\n",
    "        \n",
    "        self.video_list = [Article(video_url, video_page_url=video_page_url) for video_url in video_url_list]\n",
    "        self.video_pair_list = [[value, self.video_list[counter+1]] for counter, value in enumerate(self.video_list) if counter%2 == 0]      "
   ]
  },
  {
   "cell_type": "code",
   "execution_count": 51,
   "metadata": {
    "code_folding": [
     0
    ]
   },
   "outputs": [],
   "source": [
    "class Jinja_Template(Content):\n",
    "    \n",
    "    def __init__(self, \n",
    "                 template_folder_name = 'Jinja Templates', \n",
    "                 template_file_name = 'newsletter_as_jinja_template_base.html'):\n",
    "\n",
    "        file_loader = FileSystemLoader('../'+template_folder_name+'/')\n",
    "        self.env = Environment(loader=file_loader, extensions=['jinja2.ext.do'])\n",
    "\n",
    "        # render the base template\n",
    "        self.template = self.env.get_template(template_file_name)\n",
    "        \n",
    "    def render(self, source_contect, \n",
    "               folder_name='Exported HTML', \n",
    "               rendered_newsletter_filename = 'rendered_newsletter.html'):\n",
    "        \n",
    "        # description: subject_line and preview_text\n",
    "        self.subject_line = source_contect.article_list[0].title\n",
    "        article_title_list = [article.title for article in source_contect.article_list]\n",
    "        self.preview_text = ' · '.join(article_title_list[1:])\n",
    "        \n",
    "        self.rendered_content = self.template.render(env=self.env, \n",
    "                                                   header=source_contect.article_list[0], \n",
    "                                                   article_list=source_contect.article_list, \n",
    "                                                   video_pair_list=source_contect.video_pair_list)\n",
    "        \n",
    "        self.folder_path = '../' + folder_name + '/'\n",
    "        \n",
    "        if not os.path.exists(self.folder_path):\n",
    "            os.makedirs(self.folder_path)\n",
    "        \n",
    "        self.newsletter_path = self.folder_path + rendered_newsletter_filename\n",
    "        \n",
    "        with open(self.newsletter_path, \"w\") as fh:\n",
    "            fh.write(self.rendered_content)\n",
    "            \n",
    "        print('newsletter rendered at: '+ self.newsletter_path)\n",
    "        \n",
    "    def preview(self):\n",
    "\n",
    "        webbrowser.open('file://' + os.path.realpath(self.newsletter_path))"
   ]
  },
  {
   "cell_type": "code",
   "execution_count": 52,
   "metadata": {
    "code_folding": [
     0
    ]
   },
   "outputs": [],
   "source": [
    "class MailChimp_Campaign(Jinja_Template):\n",
    "\n",
    "    def __init__(self, newsletter, mailchimp_config,\n",
    "                 # sender information\n",
    "                 from_name='Anonymous Sender',\n",
    "                 reply_to='no_reply@email.com'):\n",
    "\n",
    "        self.subject_line = newsletter.subject_line\n",
    "        self.preview_text = newsletter.preview_text\n",
    "        self.rendered_content = newsletter.rendered_content\n",
    "        self.mailchimp_config = mailchimp_config\n",
    "\n",
    "        # sender information\n",
    "        self.from_name = from_name\n",
    "        self.reply_to = reply_to\n",
    "        \n",
    "        # campaign name\n",
    "        today = date.today().strftime(\"%d %B %Y\")\n",
    "        self.campaign_title = 'Campaign_Created_through_API' + today\n",
    "\n",
    "    def connect_to_MailChimp(self):\n",
    "\n",
    "        self.client = MailchimpMarketing.Client()\n",
    "        self.client.set_config({\n",
    "            \"api_key\": self.mailchimp_config[\"API_KEY\"],\n",
    "            \"server\": self.mailchimp_config[\"API_KEY\"].split('-')[-1]\n",
    "        })\n",
    "\n",
    "        response_ping = self.client.ping.get()\n",
    "\n",
    "        if response_ping['health_status'] == \"Everything's Chimpy!\":\n",
    "            print(\"MailChimp account connected!\")\n",
    "\n",
    "    def update_MailChimp_template(self):\n",
    "\n",
    "        response = self.client.templates.update_template(\n",
    "            self.mailchimp_config['template_id'], {\"name\": \"Template_Created_through_API\", \"html\": self.rendered_content})\n",
    "        print(\"Template updated at:\", response['date_edited'])\n",
    "\n",
    "    def specify_recipients(self):\n",
    "\n",
    "        if self.mailchimp_config['segment_id']:\n",
    "            self.recipients = {'segment_opts':\n",
    "                               {'saved_segment_id':\n",
    "                                   self.mailchimp_config['segment_id']},\n",
    "                               'list_id': self.mailchimp_config['list_id']}\n",
    "        else:\n",
    "            self.recipients = {'list_id': self.mailchimp_config['list_id']}\n",
    "\n",
    "        print('recipients specified.')\n",
    "\n",
    "    def create(self):\n",
    "\n",
    "        self.connect_to_MailChimp()\n",
    "        self.update_MailChimp_template()\n",
    "        self.specify_recipients()\n",
    "\n",
    "        self.created_campaign = self.client.campaigns.create({\"type\": \"regular\",\n",
    "                                                              'recipients': self.recipients,\n",
    "                                                              \"settings\":\n",
    "                                                              {\"title\": self.campaign_title,\n",
    "                                                               \"subject_line\": self.subject_line,\n",
    "                                                               \"preview_text\": self.preview_text,\n",
    "                                                               \"from_name\": self.from_name,\n",
    "                                                               \"reply_to\": self.reply_to,\n",
    "                                                               \"template_id\": self.mailchimp_config['template_id'],\n",
    "                                                               \"auto_footer\": False}})\n",
    "        print('Campaign created successfully!')\n",
    "\n",
    "    def send(self):\n",
    "\n",
    "        campaign_id = self.created_campaign['id']\n",
    "        response_of_campaigns_send = self.client.campaigns.send(campaign_id)\n",
    "\n",
    "        return response_of_campaigns_send"
   ]
  },
  {
   "cell_type": "markdown",
   "metadata": {},
   "source": [
    "# Processing Part"
   ]
  },
  {
   "cell_type": "code",
   "execution_count": 53,
   "metadata": {},
   "outputs": [],
   "source": [
    "article_url_list = ['https://www.epochtimes.com/b5/21/5/22/n12967665.htm',\n",
    "                    'https://www.epochtimes.com/b5/21/5/20/n12963653.htm',\n",
    "                    'https://www.epochtimes.com/b5/21/5/20/n12963673.htm',\n",
    "                    'https://www.epochtimes.com/b5/21/5/20/n12963647.htm']\n",
    "\n",
    "video_url_list = ['https://www.epochtimes.com/b5/21/5/19/n12961559.htm',\n",
    "                  'https://www.epochtimes.com/b5/21/5/19/n12961300.htm',\n",
    "                  'https://www.epochtimes.com/b5/21/5/20/n12964086.htm',\n",
    "                  'https://www.ntdtv.com/b5/2021/05/23/a103126080.html']\n",
    "\n",
    "video_page_url = 'https://www.epochtimes.com/gb/ncid1247351.htm'"
   ]
  },
  {
   "cell_type": "code",
   "execution_count": 54,
   "metadata": {},
   "outputs": [],
   "source": [
    "source_content = Content(article_url_list, video_url_list, video_page_url=video_page_url)"
   ]
  },
  {
   "cell_type": "code",
   "execution_count": 55,
   "metadata": {
    "scrolled": true
   },
   "outputs": [
    {
     "name": "stdout",
     "output_type": "stream",
     "text": [
      "組圖：英國首相約翰遜訪問伊麗莎白女王號\n",
      "國際要聞\n",
      "None\n",
      "週五（5月21日），英國首相鮑里斯．約翰遜（Boris Johnson）至樸次茅斯（Portsmouth）訪問伊麗莎白女王號（HMS Queen Elizabeth）航空母艦，週六（22日）伊麗莎白女王號將進行遠洋部署，預計前往約40個國家，並與多國軍隊進行聯合演習。\n",
      "\n",
      "強硬派當選DUP領袖 北愛局勢更難料\n",
      "政治新聞\n",
      "None\n",
      "近日，強硬派普茨（Edwin Poots）當選北愛最大親英國黨派民主統一黨（DUP）領袖。由於他在脫歐等問題上的立場，北愛的局勢可能變得更加難以預料。\n",
      "\n",
      "英國高端百貨Selfridges將主辦婚禮\n",
      "英倫生活\n",
      "None\n",
      "近日，英國高端百貨商店塞爾弗里奇（Selfridges）獲得執照，可以在倫敦牛津街的旗艦店為顧客舉行婚禮。\n",
      "\n",
      "英國多所大學網課持續至秋季\n",
      "教育新聞\n",
      "None\n",
      "近日，英國多所大學表示，他們會繼續為學生提供網絡課程，這種情況會一直持續到今年9月開始的新學年的第一個學期。許多學生非常氣憤，要求學校退還學費。\n",
      "\n"
     ]
    }
   ],
   "source": [
    "for article in source_content.article_list:\n",
    "    print(article.title)\n",
    "    print(article.tag)\n",
    "    print(article.label)\n",
    "    print(article.preview_text)\n",
    "    print()"
   ]
  },
  {
   "cell_type": "code",
   "execution_count": 110,
   "metadata": {},
   "outputs": [],
   "source": [
    "# source_content.article_list[0].title = '疫情导致去年英国经济缩水创300年记录'"
   ]
  },
  {
   "cell_type": "code",
   "execution_count": 9,
   "metadata": {
    "scrolled": true
   },
   "outputs": [
    {
     "name": "stdout",
     "output_type": "stream",
     "text": [
      "【有冇搞錯】杭州失蹤的金錢豹哪去了？\n",
      "時政評論\n",
      "《有冇搞錯》。5月20日。\n",
      "https://i.epochtimes.com/assets/uploads/2021/05/id12963238-68c14447541d1ed1b03a771b00ded154-320x200.jpg\n",
      "\n",
      "【探索時分】太平洋定海神針 美救台的第七艦隊\n",
      "軍事天地\n",
      "1950年6月28日台灣基隆港外，一艘軍艦緩緩駛來，你仔細一看，艦首兩門兩聯裝的127毫米火炮，舷號DD-745，這不是美國驅逐艦「布拉什號」（USS Brush）嗎？美國驅逐艦為什麼要到台灣來？\n",
      "https://i.epochtimes.com/assets/uploads/2021/05/id12961305-ea6c2c3d9bf92975378a456fcdbdfeff-320x200.jpg\n",
      "\n",
      "【未解之謎】水往高處流 探祕「神祕點」\n",
      "神秘地帶\n",
      "大家好，我是扶搖。\n",
      "https://i.epochtimes.com/assets/uploads/2021/05/id12964160-1200x800-2-320x200.jpg\n",
      "\n",
      "【慶豐茶館】騙子扎堆兒了，茶館要被公私合營了？\n",
      "時事小品\n"
     ]
    }
   ],
   "source": [
    "for article in source_content.video_list:\n",
    "    try:\n",
    "        print(article.title)\n",
    "        print(article.tag)\n",
    "        print(article.preview_text)\n",
    "        print(article.img_url)\n",
    "        print()\n",
    "    except:\n",
    "        pass"
   ]
  },
  {
   "cell_type": "code",
   "execution_count": 11,
   "metadata": {},
   "outputs": [],
   "source": [
    "source_content.video_list[3].img_url = 'https://i.ntdtv.com/assets/uploads/2021/05/maxresdefault-56-360x202.jpg'"
   ]
  },
  {
   "cell_type": "code",
   "execution_count": 12,
   "metadata": {},
   "outputs": [
    {
     "name": "stdout",
     "output_type": "stream",
     "text": [
      "https://i.epochtimes.com/assets/uploads/2021/05/id12963238-68c14447541d1ed1b03a771b00ded154-320x200.jpg\n",
      "https://i.epochtimes.com/assets/uploads/2021/05/id12961305-ea6c2c3d9bf92975378a456fcdbdfeff-320x200.jpg\n",
      "https://i.epochtimes.com/assets/uploads/2021/05/id12964160-1200x800-2-320x200.jpg\n",
      "https://i.ntdtv.com/assets/uploads/2021/05/maxresdefault-56-360x202.jpg\n"
     ]
    }
   ],
   "source": [
    "for video in source_content.video_list:\n",
    "    print(video.img_url)"
   ]
  },
  {
   "cell_type": "code",
   "execution_count": 13,
   "metadata": {},
   "outputs": [],
   "source": [
    "newsletter = Jinja_Template()"
   ]
  },
  {
   "cell_type": "code",
   "execution_count": 14,
   "metadata": {},
   "outputs": [
    {
     "name": "stdout",
     "output_type": "stream",
     "text": [
      "newsletter rendered at: ../Exported HTML/rendered_newsletter.html\n"
     ]
    }
   ],
   "source": [
    "newsletter.render(source_content)"
   ]
  },
  {
   "cell_type": "code",
   "execution_count": 15,
   "metadata": {},
   "outputs": [],
   "source": [
    "newsletter.preview()"
   ]
  },
  {
   "cell_type": "markdown",
   "metadata": {},
   "source": [
    "# Connect to MailChimp"
   ]
  },
  {
   "cell_type": "markdown",
   "metadata": {},
   "source": [
    "## Test Campaign"
   ]
  },
  {
   "cell_type": "code",
   "execution_count": 16,
   "metadata": {},
   "outputs": [],
   "source": [
    "mailchimp_config_test = {\n",
    "    \"API_KEY\": cf.mailchimp_config_test.API_KEY,\n",
    "    \"template_id\": cf.mailchimp_config_test.template_id,\n",
    "    \"segment_id\": cf.mailchimp_config_test.segment_id, # recipients\n",
    "    \"list_id\": cf.mailchimp_config_test.list_id # members list\n",
    "}"
   ]
  },
  {
   "cell_type": "markdown",
   "metadata": {},
   "source": [
    "### Create MailChimp campaign"
   ]
  },
  {
   "cell_type": "code",
   "execution_count": 17,
   "metadata": {},
   "outputs": [],
   "source": [
    "test_campaign = MailChimp_Campaign(newsletter, mailchimp_config_test, \n",
    "                                   from_name=cf.mailchimp_compaign.from_name, \n",
    "                                   reply_to=cf.mailchimp_compaign.reply_to)"
   ]
  },
  {
   "cell_type": "code",
   "execution_count": 18,
   "metadata": {},
   "outputs": [
    {
     "name": "stdout",
     "output_type": "stream",
     "text": [
      "MailChimp account connected!\n",
      "Template updated at: 2021-05-23T17:46:09+00:00\n",
      "recipients specified.\n",
      "Campaign created successfully!\n"
     ]
    }
   ],
   "source": [
    "test_campaign.create()"
   ]
  },
  {
   "cell_type": "code",
   "execution_count": 19,
   "metadata": {},
   "outputs": [
    {
     "data": {
      "text/plain": [
       "<Response [204]>"
      ]
     },
     "execution_count": 19,
     "metadata": {},
     "output_type": "execute_result"
    }
   ],
   "source": [
    "test_campaign.send()"
   ]
  },
  {
   "cell_type": "markdown",
   "metadata": {},
   "source": [
    "## Real Campaign"
   ]
  },
  {
   "cell_type": "code",
   "execution_count": 20,
   "metadata": {},
   "outputs": [],
   "source": [
    "mailchimp_config_real = {\n",
    "    \"API_KEY\": cf.mailchimp_config_real.API_KEY,\n",
    "    \"template_id\": cf.mailchimp_config_real.template_id,\n",
    "    \"segment_id\": cf.mailchimp_config_real.segment_id, # recipients\n",
    "    \"list_id\": cf.mailchimp_config_real.list_id # members list\n",
    "}"
   ]
  },
  {
   "cell_type": "code",
   "execution_count": 21,
   "metadata": {},
   "outputs": [],
   "source": [
    "real_campaign = MailChimp_Campaign(newsletter, mailchimp_config_real, \n",
    "                                   from_name=cf.mailchimp_compaign.from_name, \n",
    "                                   reply_to=cf.mailchimp_compaign.reply_to)"
   ]
  },
  {
   "cell_type": "code",
   "execution_count": 22,
   "metadata": {},
   "outputs": [
    {
     "name": "stdout",
     "output_type": "stream",
     "text": [
      "MailChimp account connected!\n",
      "Template updated at: 2021-05-23T17:46:24+00:00\n",
      "recipients specified.\n",
      "Campaign created successfully!\n"
     ]
    }
   ],
   "source": [
    "real_campaign.create()"
   ]
  },
  {
   "cell_type": "code",
   "execution_count": 23,
   "metadata": {},
   "outputs": [
    {
     "data": {
      "text/plain": [
       "<Response [204]>"
      ]
     },
     "execution_count": 23,
     "metadata": {},
     "output_type": "execute_result"
    }
   ],
   "source": [
    "real_campaign.send()"
   ]
  },
  {
   "cell_type": "markdown",
   "metadata": {},
   "source": [
    "## Drafts"
   ]
  },
  {
   "cell_type": "code",
   "execution_count": 200,
   "metadata": {
    "code_folding": []
   },
   "outputs": [],
   "source": [
    "# define article tag\n",
    "tag_list = ['英国新闻', '英国新闻', '英国新闻', '英国新闻']\n",
    "\n",
    "for index in range(len(tag_list)):\n",
    "    article_list[index].tag = tag_list[index]\n",
    "    \n",
    "# article_list[0].img_url = 'https://i.epochtimes.com/assets/uploads/2020/12/2012112056442124.jpg'"
   ]
  }
 ],
 "metadata": {
  "kernelspec": {
   "display_name": "Python 3",
   "language": "python",
   "name": "python3"
  },
  "language_info": {
   "codemirror_mode": {
    "name": "ipython",
    "version": 3
   },
   "file_extension": ".py",
   "mimetype": "text/x-python",
   "name": "python",
   "nbconvert_exporter": "python",
   "pygments_lexer": "ipython3",
   "version": "3.7.4"
  }
 },
 "nbformat": 4,
 "nbformat_minor": 2
}
