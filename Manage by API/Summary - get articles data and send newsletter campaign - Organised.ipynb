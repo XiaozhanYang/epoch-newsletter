{
 "cells": [
  {
   "cell_type": "code",
   "execution_count": 1,
   "metadata": {},
   "outputs": [],
   "source": [
    "# for article content scripting with BeautifulSoup\n",
    "import requests\n",
    "from bs4 import BeautifulSoup\n",
    "import re\n",
    "\n",
    "# for rendering html template with Jinja\n",
    "from jinja2 import Environment, FileSystemLoader\n",
    "import os\n",
    "\n",
    "# for building and sending emails with MailChimp\n",
    "import mailchimp_marketing as MailchimpMarketing\n",
    "from mailchimp_marketing.api_client import ApiClientError\n",
    "import json\n",
    "\n",
    "# for viewing the email draft in webpage\n",
    "import webbrowser\n",
    "from datetime import date\n",
    "\n",
    "import config as cf\n",
    "import importlib\n",
    "cf = importlib.reload(cf)"
   ]
  },
  {
   "cell_type": "markdown",
   "metadata": {},
   "source": [
    "# Define the Article Object with BeautifulSoup"
   ]
  },
  {
   "cell_type": "code",
   "execution_count": 19,
   "metadata": {
    "code_folding": []
   },
   "outputs": [],
   "source": [
    "class Article():\n",
    "    \n",
    "    def __init__(self, url, title=None, img_url=None, preview_text=None, tag=None, label=None, class_name='article', id_name='main', video_page_url=None):\n",
    "        \n",
    "        self._url = url.replace('/gb/', '/b5/')\n",
    "        self._title = title\n",
    "        self._img_url = img_url\n",
    "        self._preview_text = preview_text\n",
    "        self._tag = tag\n",
    "        self._label = label\n",
    "        self._video_page_url = video_page_url.replace('/gb/', '/b5/')\n",
    "        \n",
    "        page = requests.get(self._url)\n",
    "        self._soup = BeautifulSoup(page.text, 'html.parser')\n",
    "        \n",
    "        self._article = self._soup.find(class_=class_name)\n",
    "        \n",
    "        if not self._article:\n",
    "            self._article = self._soup.find(id=id_name)\n",
    "            \n",
    "        if not self._article:\n",
    "            self._article = self._soup.find('article')\n",
    "        \n",
    "    @property\n",
    "    def url(self):\n",
    "        return self._url\n",
    "    \n",
    "    @url.setter\n",
    "    def url(self, value):\n",
    "        self._url = value\n",
    "        \n",
    "    @property\n",
    "    def title(self, class_name='title'):\n",
    "        \n",
    "        if not self._title:\n",
    "            article_title = self._article.find(class_=class_name)\n",
    "            self._title = article_title.text\n",
    "            \n",
    "        return self._title\n",
    "    \n",
    "    @title.setter\n",
    "    def title(self, value):\n",
    "        self._title = value\n",
    "    \n",
    "    @property\n",
    "    def img_url(self, class_name='featured_image'):\n",
    "        \n",
    "        if not self._img_url:\n",
    "            try:\n",
    "                self._img_url = self._article.find(class_=class_name).find('a').get('href')\n",
    "            except:\n",
    "                try:\n",
    "                    self._img_url = self._article.find(class_=class_name).find('figure').find('img').get('src')\n",
    "                except:\n",
    "                    try:\n",
    "                        self._img_url = self._article.find(class_='wp-post-image').get('src')\n",
    "                    except:\n",
    "                        page = requests.get(self._video_page_url)\n",
    "                        video_page_soup = BeautifulSoup(page.text, 'html.parser')\n",
    "                        self._img_url = video_page_soup.select_one(f\"a[href='{self._url}']\").find('img').get('src')\n",
    "        \n",
    "        return self._img_url\n",
    "    \n",
    "    @img_url.setter\n",
    "    def img_url(self, value):\n",
    "        self._img_url = value\n",
    "    \n",
    "    @property\n",
    "    def preview_text(self, id_name='artbody'):\n",
    "        \n",
    "        paragraph_index = 0\n",
    "        \n",
    "        while not self._preview_text:\n",
    "            article_first_paragraph = self._article.find(id=id_name).find_all('p')[paragraph_index].text\n",
    "            article_preview_text = re.sub(r'\\【[^)]*\\】', '', article_first_paragraph)\n",
    "            article_preview_text = re.sub(r'\\n', '', article_preview_text) \n",
    "            article_preview_text = re.sub(r'\\（英文大纪元[^)]*\\编译）', '', article_preview_text)\n",
    "            article_preview_text = re.sub(r'\\（英文大紀元[^)]*\\編譯）', '', article_preview_text)\n",
    "            article_preview_text = re.sub(r'\\（英國[^)]*\\報導）', '', article_preview_text)\n",
    "            article_preview_text = re.sub(r'\\（大紀元[^)]*\\報導）', '', article_preview_text)\n",
    "            article_preview_text = re.sub(r'\\（大紀元[^)]*\\報導）', '', article_preview_text)\n",
    "            self._preview_text = re.sub(r'\\（大纪元[^)]*\\报导）', '', article_preview_text)\n",
    "            paragraph_index += 1\n",
    "        \n",
    "        return self._preview_text\n",
    "    \n",
    "    @preview_text.setter\n",
    "    def preview_text(self, value):\n",
    "        self._preview_text = value\n",
    "        \n",
    "    @property\n",
    "    def tag(self, id_name='breadcrumb'):\n",
    "        \n",
    "        if not self._tag:\n",
    "            breadcrumb = self._soup.find(id=id_name)\n",
    "            raw_tag = breadcrumb.findAll('a')[-1].text\n",
    "            raw_tag = re.sub(r'\\([^)]*\\)', '', raw_tag)\n",
    "            self._tag = re.sub(r'\\（[^)]*\\）', '', raw_tag)\n",
    "        \n",
    "        return self._tag\n",
    "    \n",
    "    @tag.setter\n",
    "    def tag(self, value):\n",
    "        self._tag = value\n",
    "        \n",
    "    @property\n",
    "    def label(self):\n",
    "        return self._label\n",
    "    \n",
    "    @label.setter\n",
    "    def label(self, value):\n",
    "        self._label = value"
   ]
  },
  {
   "cell_type": "code",
   "execution_count": 20,
   "metadata": {
    "code_folding": [
     0
    ]
   },
   "outputs": [],
   "source": [
    "class Content(Article):\n",
    "    \n",
    "    def __init__(self, article_url_list, video_url_list, video_page_url=None):\n",
    "        \n",
    "        # parse data\n",
    "        self.article_list = [Article(article_url, video_page_url=video_page_url) for article_url in article_url_list]\n",
    "        \n",
    "        self.video_list = [Article(video_url, video_page_url=video_page_url) for video_url in video_url_list]\n",
    "        self.video_pair_list = [[value, self.video_list[counter+1]] for counter, value in enumerate(self.video_list) if counter%2 == 0]      "
   ]
  },
  {
   "cell_type": "code",
   "execution_count": 21,
   "metadata": {
    "code_folding": [
     0
    ]
   },
   "outputs": [],
   "source": [
    "class Jinja_Template(Content):\n",
    "    \n",
    "    def __init__(self, \n",
    "                 template_folder_name = 'Jinja Templates', \n",
    "                 template_file_name = 'newsletter_as_jinja_template_base.html'):\n",
    "\n",
    "        file_loader = FileSystemLoader('../'+template_folder_name+'/')\n",
    "        self.env = Environment(loader=file_loader, extensions=['jinja2.ext.do'])\n",
    "\n",
    "        # render the base template\n",
    "        self.template = self.env.get_template(template_file_name)\n",
    "        \n",
    "    def render(self, source_contect, \n",
    "               folder_name='Exported HTML', \n",
    "               rendered_newsletter_filename = 'rendered_newsletter.html'):\n",
    "        \n",
    "        # description: subject_line and preview_text\n",
    "        self.subject_line = source_contect.article_list[0].title\n",
    "        article_title_list = [article.title for article in source_contect.article_list]\n",
    "        self.preview_text = ' · '.join(article_title_list[1:])\n",
    "        \n",
    "        self.rendered_content = self.template.render(env=self.env, \n",
    "                                                   header=source_contect.article_list[0], \n",
    "                                                   article_list=source_contect.article_list, \n",
    "                                                   video_pair_list=source_contect.video_pair_list)\n",
    "        \n",
    "        self.folder_path = '../' + folder_name + '/'\n",
    "        \n",
    "        if not os.path.exists(self.folder_path):\n",
    "            os.makedirs(self.folder_path)\n",
    "        \n",
    "        self.newsletter_path = self.folder_path + rendered_newsletter_filename\n",
    "        \n",
    "        with open(self.newsletter_path, \"w\") as fh:\n",
    "            fh.write(self.rendered_content)\n",
    "            \n",
    "        print('newsletter rendered at: '+ self.newsletter_path)\n",
    "        \n",
    "    def preview(self):\n",
    "\n",
    "        webbrowser.open('file://' + os.path.realpath(self.newsletter_path))"
   ]
  },
  {
   "cell_type": "code",
   "execution_count": 22,
   "metadata": {
    "code_folding": [
     0
    ]
   },
   "outputs": [],
   "source": [
    "class MailChimp_Campaign(Jinja_Template):\n",
    "\n",
    "    def __init__(self, newsletter, mailchimp_config,\n",
    "                 # sender information\n",
    "                 from_name='Anonymous Sender',\n",
    "                 reply_to='no_reply@email.com'):\n",
    "\n",
    "        self.subject_line = newsletter.subject_line\n",
    "        self.preview_text = newsletter.preview_text\n",
    "        self.rendered_content = newsletter.rendered_content\n",
    "        self.mailchimp_config = mailchimp_config\n",
    "\n",
    "        # sender information\n",
    "        self.from_name = from_name\n",
    "        self.reply_to = reply_to\n",
    "        \n",
    "        # campaign name\n",
    "        today = date.today().strftime(\"%d %B %Y\")\n",
    "        self.campaign_title = 'Campaign_Created_through_API' + today\n",
    "\n",
    "    def connect_to_MailChimp(self):\n",
    "\n",
    "        self.client = MailchimpMarketing.Client()\n",
    "        self.client.set_config({\n",
    "            \"api_key\": self.mailchimp_config[\"API_KEY\"],\n",
    "            \"server\": self.mailchimp_config[\"API_KEY\"].split('-')[-1]\n",
    "        })\n",
    "\n",
    "        response_ping = self.client.ping.get()\n",
    "\n",
    "        if response_ping['health_status'] == \"Everything's Chimpy!\":\n",
    "            print(\"MailChimp account connected!\")\n",
    "\n",
    "    def update_MailChimp_template(self):\n",
    "\n",
    "        response = self.client.templates.update_template(\n",
    "            self.mailchimp_config['template_id'], {\"name\": \"Template_Created_through_API\", \"html\": self.rendered_content})\n",
    "        print(\"Template updated at:\", response['date_edited'])\n",
    "\n",
    "    def specify_recipients(self):\n",
    "\n",
    "        if self.mailchimp_config['segment_id']:\n",
    "            self.recipients = {'segment_opts':\n",
    "                               {'saved_segment_id':\n",
    "                                   self.mailchimp_config['segment_id']},\n",
    "                               'list_id': self.mailchimp_config['list_id']}\n",
    "        else:\n",
    "            self.recipients = {'list_id': self.mailchimp_config['list_id']}\n",
    "\n",
    "        print('recipients specified.')\n",
    "\n",
    "    def create(self):\n",
    "\n",
    "        self.connect_to_MailChimp()\n",
    "        self.update_MailChimp_template()\n",
    "        self.specify_recipients()\n",
    "\n",
    "        self.created_campaign = self.client.campaigns.create({\"type\": \"regular\",\n",
    "                                                              'recipients': self.recipients,\n",
    "                                                              \"settings\":\n",
    "                                                              {\"title\": self.campaign_title,\n",
    "                                                               \"subject_line\": self.subject_line,\n",
    "                                                               \"preview_text\": self.preview_text,\n",
    "                                                               \"from_name\": self.from_name,\n",
    "                                                               \"reply_to\": self.reply_to,\n",
    "                                                               \"template_id\": self.mailchimp_config['template_id'],\n",
    "                                                               \"auto_footer\": False}})\n",
    "        print('Campaign created successfully!')\n",
    "\n",
    "    def send(self):\n",
    "\n",
    "        campaign_id = self.created_campaign['id']\n",
    "        response_of_campaigns_send = self.client.campaigns.send(campaign_id)\n",
    "\n",
    "        return response_of_campaigns_send"
   ]
  },
  {
   "cell_type": "markdown",
   "metadata": {},
   "source": [
    "# Processing Part"
   ]
  },
  {
   "cell_type": "code",
   "execution_count": 23,
   "metadata": {},
   "outputs": [],
   "source": [
    "article_url_list = ['https://www.epochtimes.com/b5/21/5/4/n12923742.htm',\n",
    "                    'https://www.epochtimes.com/b5/21/5/1/n12917316.htm',\n",
    "                    'https://www.epochtimes.com/b5/21/5/5/n12927188.htm',\n",
    "                    'https://www.epochtimes.com/b5/21/5/7/n12931073.htm']\n",
    "\n",
    "video_url_list = ['https://www.epochtimes.com/gb/21/5/8/n12933638.htm',\n",
    "                  'https://www.epochtimes.com/gb/21/5/7/n12932139.htm',\n",
    "                  'https://www.epochtimes.com/gb/21/5/5/n12926621.htm',\n",
    "                  'https://www.epochtimes.com/gb/21/5/8/n12933014.htm']\n",
    "\n",
    "video_page_url = 'https://www.epochtimes.com/gb/ncid1247351.htm'"
   ]
  },
  {
   "cell_type": "code",
   "execution_count": 24,
   "metadata": {},
   "outputs": [],
   "source": [
    "source_content = Content(article_url_list, video_url_list, video_page_url=video_page_url)"
   ]
  },
  {
   "cell_type": "code",
   "execution_count": 25,
   "metadata": {
    "scrolled": false
   },
   "outputs": [
    {
     "name": "stdout",
     "output_type": "stream",
     "text": [
      "組圖：G7外長會議 英日外長舉行雙邊會談\n",
      "國際要聞\n",
      "None\n",
      "七國集團（G7）外長會議目前於英國倫敦舉行，會期從5月3日至5月5日共三天。日本外務大臣茂木敏充於3日與英國外交大臣多米尼克・拉布（Dominic Raab）會晤，兩國舉行了雙邊會談。\n",
      "\n",
      "兩位臺灣藝術家獲選，進駐倫敦戴芬娜基金會展開國際交流\n",
      "教育新聞\n",
      "None\n",
      "中華民國（台灣）文化部駐英國代表處文化組與英國知名藝術機構戴芬娜基金會（Delfina Foundation）在今年合作公開遴選臺灣藝術家駐村的計劃，該會總監亞倫・西薩（Aaron Cezar）表示，由英國策展人、藝評家等專業人士組成的評選委員會對於臺灣藝術家的實力感到驚艷，決定增額邀請共兩位藝術家吳權倫及致穎，分別於夏季及秋季到英國，展開為期各3個月之駐村，期待協助臺灣新銳創作者與國際創作者交流，促成英國與歐陸策展人、藝評家，認識兩位藝術家的獨特創意及潛力。\n",
      "\n",
      "首相府「裝修門」 監督部門正式調查\n",
      "政治新聞\n",
      "None\n",
      "近日，有關英國首相約翰遜裝修首相府的資金來源問題，成為全國人的焦點。上週三（4月28日）監督部門「選舉委員會」（The Electoral Commission）宣佈正式對此展開調查。\n",
      "\n",
      "組圖：歐聯盃半決賽次回合 曼聯總分8:5晉級\n",
      "國際足球\n",
      "None\n",
      "5月6日，意大利羅馬，2020/21賽季歐聯盃半決賽次回合，英超曼徹斯特聯隊（簡稱「曼聯」）與意大利羅馬隊的比賽在奧林匹克球場（Stadio Olimpico）舉行，曼聯隊以2:3敗給羅馬隊。曼聯隊總分8:5勝羅馬隊，獲得晉級決賽的資格。\n",
      "\n"
     ]
    }
   ],
   "source": [
    "for article in source_content.article_list:\n",
    "    print(article.title)\n",
    "    print(article.tag)\n",
    "    print(article.label)\n",
    "    print(article.preview_text)\n",
    "    print()"
   ]
  },
  {
   "cell_type": "code",
   "execution_count": 110,
   "metadata": {},
   "outputs": [],
   "source": [
    "# source_content.article_list[0].title = '疫情导致去年英国经济缩水创300年记录'"
   ]
  },
  {
   "cell_type": "code",
   "execution_count": 26,
   "metadata": {
    "scrolled": true
   },
   "outputs": [
    {
     "name": "stdout",
     "output_type": "stream",
     "text": [
      "【新聞看點】習加緊造神 高官知中共內情急退黨\n",
      "新聞看點\n",
      "大家好，歡迎關注新聞看點，我是李沐陽。今天是美東時間5月8日，星期六；亞洲時間是5月9日，星期日。\n",
      "https://i.epochtimes.com/assets/uploads/2021/05/id12933656-0509-DJY-600x400.jpg\n",
      "\n",
      "專訪李南央：我的兩本書《母親》和《繼母》（3）\n",
      "熱點互動\n",
      "特別節目，我是主持人方菲。本期節目我們再度請來李南央女士，來談一談她寫過的兩本很有影響的書。\n",
      "https://i.epochtimes.com/assets/uploads/2021/05/id12935018-ttl7daypnY_ccdcfedf8de2a199.jpg\n",
      "\n",
      "【探索時分】不要和美國開戰的五個理由（下）\n",
      "軍事天地\n",
      "大家好，我是子定，世界上總有些人想和美國開戰，我們上集介紹了不要和美國開戰的3個理由，不要和美國開戰的五個理由（上）。\n",
      "https://i.epochtimes.com/assets/uploads/2021/05/id12926662-a8946dc1771cd08018c0b5f97f98033b-320x200.jpg\n",
      "\n",
      "【唐浩視界】透視五大內幕 G7歐盟熱挺台灣\n",
      "世界的十字路口\n",
      "大家好，我是唐浩，今天都好嗎？\n",
      "https://i.epochtimes.com/assets/uploads/2021/05/id12933041-959fe3a21766b8dfd6553b05448c5d3a-320x200.jpg\n",
      "\n"
     ]
    }
   ],
   "source": [
    "for article in source_content.video_list:\n",
    "    try:\n",
    "        print(article.title)\n",
    "        print(article.tag)\n",
    "        print(article.preview_text)\n",
    "        print(article.img_url)\n",
    "        print()\n",
    "    except:\n",
    "        pass"
   ]
  },
  {
   "cell_type": "code",
   "execution_count": 27,
   "metadata": {},
   "outputs": [
    {
     "data": {
      "text/plain": [
       "'https://i.epochtimes.com/assets/uploads/2021/05/id12935018-ttl7daypnY_ccdcfedf8de2a199.jpg'"
      ]
     },
     "execution_count": 27,
     "metadata": {},
     "output_type": "execute_result"
    }
   ],
   "source": [
    "source_content.video_list[1].img_url"
   ]
  },
  {
   "cell_type": "code",
   "execution_count": 28,
   "metadata": {},
   "outputs": [
    {
     "name": "stdout",
     "output_type": "stream",
     "text": [
      "https://i.epochtimes.com/assets/uploads/2021/05/id12933656-0509-DJY-600x400.jpg\n",
      "https://i.epochtimes.com/assets/uploads/2021/05/id12935018-ttl7daypnY_ccdcfedf8de2a199.jpg\n",
      "https://i.epochtimes.com/assets/uploads/2021/05/id12926662-a8946dc1771cd08018c0b5f97f98033b-320x200.jpg\n",
      "https://i.epochtimes.com/assets/uploads/2021/05/id12933041-959fe3a21766b8dfd6553b05448c5d3a-320x200.jpg\n"
     ]
    }
   ],
   "source": [
    "for video in source_content.video_list:\n",
    "    print(video.img_url)"
   ]
  },
  {
   "cell_type": "code",
   "execution_count": 29,
   "metadata": {},
   "outputs": [],
   "source": [
    "source_content.video_list[0].img_url = 'https://i.ntdtv.com/assets/uploads/2021/04/maxresdefault-2-16-800x450.jpg'"
   ]
  },
  {
   "cell_type": "code",
   "execution_count": 36,
   "metadata": {},
   "outputs": [],
   "source": [
    "source_content.video_list[1].img_url = 'https://i.epochtimes.com/assets/uploads/2021/04/id12871696-731c1292faf8ecb1db04b660aa2871c3-600x400.jpg'"
   ]
  },
  {
   "cell_type": "code",
   "execution_count": 37,
   "metadata": {},
   "outputs": [],
   "source": [
    "source_content.video_list[2].img_url = 'https://i.epochtimes.com/assets/uploads/2021/04/id12871426-a948bfecbdb0af2e8292697829ecb2a5-320x200.jpg'"
   ]
  },
  {
   "cell_type": "code",
   "execution_count": 38,
   "metadata": {},
   "outputs": [],
   "source": [
    "source_content.video_list[3].img_url = 'https://i.epochtimes.com/assets/uploads/2021/04/id12871886-51960545c5e2f1bfd1522d9ccab9f3d5-320x200.jpg'"
   ]
  },
  {
   "cell_type": "code",
   "execution_count": 29,
   "metadata": {},
   "outputs": [],
   "source": [
    "newsletter = Jinja_Template()"
   ]
  },
  {
   "cell_type": "code",
   "execution_count": 30,
   "metadata": {},
   "outputs": [
    {
     "name": "stdout",
     "output_type": "stream",
     "text": [
      "newsletter rendered at: ../Exported HTML/rendered_newsletter.html\n"
     ]
    }
   ],
   "source": [
    "newsletter.render(source_content)"
   ]
  },
  {
   "cell_type": "code",
   "execution_count": 31,
   "metadata": {},
   "outputs": [],
   "source": [
    "newsletter.preview()"
   ]
  },
  {
   "cell_type": "markdown",
   "metadata": {},
   "source": [
    "# Connect to MailChimp"
   ]
  },
  {
   "cell_type": "markdown",
   "metadata": {},
   "source": [
    "## Test Campaign"
   ]
  },
  {
   "cell_type": "code",
   "execution_count": 32,
   "metadata": {},
   "outputs": [],
   "source": [
    "mailchimp_config_test = {\n",
    "    \"API_KEY\": cf.mailchimp_config_test.API_KEY,\n",
    "    \"template_id\": cf.mailchimp_config_test.template_id,\n",
    "    \"segment_id\": cf.mailchimp_config_test.segment_id, # recipients\n",
    "    \"list_id\": cf.mailchimp_config_test.list_id # members list\n",
    "}"
   ]
  },
  {
   "cell_type": "markdown",
   "metadata": {},
   "source": [
    "### Create MailChimp campaign"
   ]
  },
  {
   "cell_type": "code",
   "execution_count": 33,
   "metadata": {},
   "outputs": [],
   "source": [
    "test_campaign = MailChimp_Campaign(newsletter, mailchimp_config_test, \n",
    "                                   from_name=cf.mailchimp_compaign.from_name, \n",
    "                                   reply_to=cf.mailchimp_compaign.reply_to)"
   ]
  },
  {
   "cell_type": "code",
   "execution_count": 34,
   "metadata": {},
   "outputs": [
    {
     "name": "stdout",
     "output_type": "stream",
     "text": [
      "MailChimp account connected!\n",
      "Template updated at: 2021-05-09T18:59:13+00:00\n",
      "recipients specified.\n",
      "Campaign created successfully!\n"
     ]
    }
   ],
   "source": [
    "test_campaign.create()"
   ]
  },
  {
   "cell_type": "code",
   "execution_count": 35,
   "metadata": {},
   "outputs": [
    {
     "data": {
      "text/plain": [
       "<Response [204]>"
      ]
     },
     "execution_count": 35,
     "metadata": {},
     "output_type": "execute_result"
    }
   ],
   "source": [
    "test_campaign.send()"
   ]
  },
  {
   "cell_type": "markdown",
   "metadata": {},
   "source": [
    "## Real Campaign"
   ]
  },
  {
   "cell_type": "code",
   "execution_count": 36,
   "metadata": {},
   "outputs": [],
   "source": [
    "mailchimp_config_real = {\n",
    "    \"API_KEY\": cf.mailchimp_config_real.API_KEY,\n",
    "    \"template_id\": cf.mailchimp_config_real.template_id,\n",
    "    \"segment_id\": cf.mailchimp_config_real.segment_id, # recipients\n",
    "    \"list_id\": cf.mailchimp_config_real.list_id # members list\n",
    "}"
   ]
  },
  {
   "cell_type": "code",
   "execution_count": 37,
   "metadata": {},
   "outputs": [],
   "source": [
    "real_campaign = MailChimp_Campaign(newsletter, mailchimp_config_real, \n",
    "                                   from_name=cf.mailchimp_compaign.from_name, \n",
    "                                   reply_to=cf.mailchimp_compaign.reply_to)"
   ]
  },
  {
   "cell_type": "code",
   "execution_count": 38,
   "metadata": {},
   "outputs": [
    {
     "name": "stdout",
     "output_type": "stream",
     "text": [
      "MailChimp account connected!\n",
      "Template updated at: 2021-05-09T18:59:53+00:00\n",
      "recipients specified.\n",
      "Campaign created successfully!\n"
     ]
    }
   ],
   "source": [
    "real_campaign.create()"
   ]
  },
  {
   "cell_type": "code",
   "execution_count": 39,
   "metadata": {},
   "outputs": [
    {
     "data": {
      "text/plain": [
       "<Response [204]>"
      ]
     },
     "execution_count": 39,
     "metadata": {},
     "output_type": "execute_result"
    }
   ],
   "source": [
    "real_campaign.send()"
   ]
  },
  {
   "cell_type": "markdown",
   "metadata": {},
   "source": [
    "## Drafts"
   ]
  },
  {
   "cell_type": "code",
   "execution_count": 200,
   "metadata": {
    "code_folding": []
   },
   "outputs": [],
   "source": [
    "# define article tag\n",
    "tag_list = ['英国新闻', '英国新闻', '英国新闻', '英国新闻']\n",
    "\n",
    "for index in range(len(tag_list)):\n",
    "    article_list[index].tag = tag_list[index]\n",
    "    \n",
    "# article_list[0].img_url = 'https://i.epochtimes.com/assets/uploads/2020/12/2012112056442124.jpg'"
   ]
  }
 ],
 "metadata": {
  "kernelspec": {
   "display_name": "Python 3",
   "language": "python",
   "name": "python3"
  },
  "language_info": {
   "codemirror_mode": {
    "name": "ipython",
    "version": 3
   },
   "file_extension": ".py",
   "mimetype": "text/x-python",
   "name": "python",
   "nbconvert_exporter": "python",
   "pygments_lexer": "ipython3",
   "version": "3.7.4"
  }
 },
 "nbformat": 4,
 "nbformat_minor": 2
}
