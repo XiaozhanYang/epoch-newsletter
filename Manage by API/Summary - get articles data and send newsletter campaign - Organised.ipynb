{
 "cells": [
  {
   "cell_type": "code",
   "execution_count": 1,
   "metadata": {},
   "outputs": [],
   "source": [
    "# for article content scripting with BeautifulSoup\n",
    "import requests\n",
    "from bs4 import BeautifulSoup\n",
    "import re\n",
    "\n",
    "# for rendering html template with Jinja\n",
    "from jinja2 import Environment, FileSystemLoader\n",
    "import os\n",
    "\n",
    "# for building and sending emails with MailChimp\n",
    "import mailchimp_marketing as MailchimpMarketing\n",
    "from mailchimp_marketing.api_client import ApiClientError\n",
    "import json\n",
    "\n",
    "# for viewing the email draft in webpage\n",
    "import webbrowser\n",
    "from datetime import date\n",
    "\n",
    "import config as cf\n",
    "import importlib\n",
    "cf = importlib.reload(cf)"
   ]
  },
  {
   "cell_type": "code",
   "execution_count": 114,
   "metadata": {},
   "outputs": [],
   "source": [
    "video_url_list = ['https://www.epochtimes.com/b5/21/4/15/n12882404.htm',\n",
    "                  'https://www.epochtimes.com/b5/21/4/15/n12882514.htm',\n",
    "                  'https://www.epochtimes.com/b5/21/4/15/n12882105.htm',\n",
    "                  'https://www.epochtimes.com/b5/21/4/12/n12874815.htm']\n",
    "\n",
    "video_page_url = 'https://www.epochtimes.com/gb/ncid1247351.htm'"
   ]
  },
  {
   "cell_type": "code",
   "execution_count": 115,
   "metadata": {},
   "outputs": [],
   "source": [
    "page = requests.get(video_page_url.replace('/gb/', '/b5/'))"
   ]
  },
  {
   "cell_type": "code",
   "execution_count": 116,
   "metadata": {},
   "outputs": [],
   "source": [
    "video_page_soup = BeautifulSoup(page.text, 'html.parser')"
   ]
  },
  {
   "cell_type": "code",
   "execution_count": 119,
   "metadata": {},
   "outputs": [],
   "source": [
    "img_url = video_page_soup.select_one(f\"a[href='{video_url_list[1].replace('/gb/', '/b5/')}']\").find('img').get('src')"
   ]
  },
  {
   "cell_type": "code",
   "execution_count": 120,
   "metadata": {},
   "outputs": [
    {
     "data": {
      "text/plain": [
       "'https://i.epochtimes.com/assets/uploads/2021/04/id12871696-731c1292faf8ecb1db04b660aa2871c3-600x400.jpg'"
      ]
     },
     "execution_count": 120,
     "metadata": {},
     "output_type": "execute_result"
    }
   ],
   "source": [
    "img_url"
   ]
  },
  {
   "cell_type": "markdown",
   "metadata": {},
   "source": [
    "# Define the Article Object with BeautifulSoup"
   ]
  },
  {
   "cell_type": "code",
   "execution_count": 2,
   "metadata": {
    "code_folding": [
     0
    ]
   },
   "outputs": [],
   "source": [
    "class Article():\n",
    "    \n",
    "    def __init__(self, url, title=None, img_url=None, preview_text=None, tag=None, label=None, class_name='article', id_name='main', video_page_url=None):\n",
    "        \n",
    "        self._url = url.replace('/gb/', '/b5/')\n",
    "        self._title = title\n",
    "        self._img_url = img_url\n",
    "        self._preview_text = preview_text\n",
    "        self._tag = tag\n",
    "        self._label = label\n",
    "        self._video_page_url = video_page_url.replace('/gb/', '/b5/')\n",
    "        \n",
    "        page = requests.get(self._url)\n",
    "        self._soup = BeautifulSoup(page.text, 'html.parser')\n",
    "        \n",
    "        self._article = self._soup.find(class_=class_name)\n",
    "        \n",
    "        if not self._article:\n",
    "            self._article = self._soup.find(id=id_name)\n",
    "            \n",
    "        if not self._article:\n",
    "            self._article = self._soup.find('article')\n",
    "        \n",
    "    @property\n",
    "    def url(self):\n",
    "        return self._url\n",
    "    \n",
    "    @url.setter\n",
    "    def url(self, value):\n",
    "        self._url = value\n",
    "        \n",
    "    @property\n",
    "    def title(self, class_name='title'):\n",
    "        \n",
    "        if not self._title:\n",
    "            article_title = self._article.find(class_=class_name)\n",
    "            self._title = article_title.text\n",
    "            \n",
    "        return self._title\n",
    "    \n",
    "    @title.setter\n",
    "    def title(self, value):\n",
    "        self._title = value\n",
    "    \n",
    "    @property\n",
    "    def img_url(self, class_name='featured_image'):\n",
    "        \n",
    "        if not self._img_url:\n",
    "            try:\n",
    "                self._img_url = self._article.find(class_=class_name).find('a').get('href')\n",
    "            except:\n",
    "                try:\n",
    "                    self._img_url = self._article.find(class_=class_name).find('figure').find('img').get('src')\n",
    "                except:\n",
    "                    try:\n",
    "                        self._img_url = self._article.find(class_='wp-post-image').get('src')\n",
    "                    except:\n",
    "                        page = requests.get(self._video_page_url)\n",
    "                        video_page_soup = BeautifulSoup(page.text, 'html.parser')\n",
    "                        self._img_url = video_page_soup.select_one(f\"a[href='{self._url}']\").find('img').get('src')\n",
    "        \n",
    "        return self._img_url\n",
    "    \n",
    "    @img_url.setter\n",
    "    def img_url(self, value):\n",
    "        self._img_url = value\n",
    "    \n",
    "    @property\n",
    "    def preview_text(self, id_name='artbody'):\n",
    "        \n",
    "        paragraph_index = 0\n",
    "        \n",
    "        while not self._preview_text:\n",
    "            article_first_paragraph = self._article.find(id=id_name).find_all('p')[paragraph_index].text\n",
    "            article_preview_text = re.sub(r'\\【[^)]*\\】', '', article_first_paragraph)\n",
    "            article_preview_text = re.sub(r'\\n', '', article_preview_text) \n",
    "            article_preview_text = re.sub(r'\\（英文大纪元[^)]*\\编译）', '', article_preview_text)\n",
    "            article_preview_text = re.sub(r'\\（英文大紀元[^)]*\\編譯）', '', article_preview_text)\n",
    "            article_preview_text = re.sub(r'\\（大紀元[^)]*\\報導）', '', article_preview_text)\n",
    "            article_preview_text = re.sub(r'\\（大紀元[^)]*\\報導）', '', article_preview_text)\n",
    "            self._preview_text = re.sub(r'\\（大纪元[^)]*\\报导）', '', article_preview_text)\n",
    "            paragraph_index += 1\n",
    "        \n",
    "        return self._preview_text\n",
    "    \n",
    "    @preview_text.setter\n",
    "    def preview_text(self, value):\n",
    "        self._preview_text = value\n",
    "        \n",
    "    @property\n",
    "    def tag(self, id_name='breadcrumb'):\n",
    "        \n",
    "        if not self._tag:\n",
    "            breadcrumb = self._soup.find(id=id_name)\n",
    "            raw_tag = breadcrumb.findAll('a')[-1].text\n",
    "            raw_tag = re.sub(r'\\([^)]*\\)', '', raw_tag)\n",
    "            self._tag = re.sub(r'\\（[^)]*\\）', '', raw_tag)\n",
    "        \n",
    "        return self._tag\n",
    "    \n",
    "    @tag.setter\n",
    "    def tag(self, value):\n",
    "        self._tag = value\n",
    "        \n",
    "    @property\n",
    "    def label(self):\n",
    "        return self._label\n",
    "    \n",
    "    @label.setter\n",
    "    def label(self, value):\n",
    "        self._label = value"
   ]
  },
  {
   "cell_type": "code",
   "execution_count": 3,
   "metadata": {
    "code_folding": [
     0
    ]
   },
   "outputs": [],
   "source": [
    "class Content(Article):\n",
    "    \n",
    "    def __init__(self, article_url_list, video_url_list, video_page_url=None):\n",
    "        \n",
    "        # parse data\n",
    "        self.article_list = [Article(article_url, video_page_url=video_page_url) for article_url in article_url_list]\n",
    "        \n",
    "        self.video_list = [Article(video_url, video_page_url=video_page_url) for video_url in video_url_list]\n",
    "        self.video_pair_list = [[value, self.video_list[counter+1]] for counter, value in enumerate(self.video_list) if counter%2 == 0]      "
   ]
  },
  {
   "cell_type": "code",
   "execution_count": 4,
   "metadata": {
    "code_folding": [
     0
    ]
   },
   "outputs": [],
   "source": [
    "class Jinja_Template(Content):\n",
    "    \n",
    "    def __init__(self, \n",
    "                 template_folder_name = 'Jinja Templates', \n",
    "                 template_file_name = 'newsletter_as_jinja_template_base.html'):\n",
    "\n",
    "        file_loader = FileSystemLoader('../'+template_folder_name+'/')\n",
    "        self.env = Environment(loader=file_loader, extensions=['jinja2.ext.do'])\n",
    "\n",
    "        # render the base template\n",
    "        self.template = self.env.get_template(template_file_name)\n",
    "        \n",
    "    def render(self, source_contect, \n",
    "               folder_name='Exported HTML', \n",
    "               rendered_newsletter_filename = 'rendered_newsletter.html'):\n",
    "        \n",
    "        # description: subject_line and preview_text\n",
    "        self.subject_line = source_contect.article_list[0].title\n",
    "        article_title_list = [article.title for article in source_contect.article_list]\n",
    "        self.preview_text = ' · '.join(article_title_list[1:])\n",
    "        \n",
    "        self.rendered_content = self.template.render(env=self.env, \n",
    "                                                   header=source_contect.article_list[0], \n",
    "                                                   article_list=source_contect.article_list, \n",
    "                                                   video_pair_list=source_contect.video_pair_list)\n",
    "        \n",
    "        self.folder_path = '../' + folder_name + '/'\n",
    "        \n",
    "        if not os.path.exists(self.folder_path):\n",
    "            os.makedirs(self.folder_path)\n",
    "        \n",
    "        self.newsletter_path = self.folder_path + rendered_newsletter_filename\n",
    "        \n",
    "        with open(self.newsletter_path, \"w\") as fh:\n",
    "            fh.write(self.rendered_content)\n",
    "            \n",
    "        print('newsletter rendered at: '+ self.newsletter_path)\n",
    "        \n",
    "    def preview(self):\n",
    "\n",
    "        webbrowser.open('file://' + os.path.realpath(self.newsletter_path))"
   ]
  },
  {
   "cell_type": "code",
   "execution_count": 5,
   "metadata": {
    "code_folding": [
     0
    ]
   },
   "outputs": [],
   "source": [
    "class MailChimp_Campaign(Jinja_Template):\n",
    "\n",
    "    def __init__(self, newsletter, mailchimp_config,\n",
    "                 # sender information\n",
    "                 from_name='Anonymous Sender',\n",
    "                 reply_to='no_reply@email.com'):\n",
    "\n",
    "        self.subject_line = newsletter.subject_line\n",
    "        self.preview_text = newsletter.preview_text\n",
    "        self.rendered_content = newsletter.rendered_content\n",
    "        self.mailchimp_config = mailchimp_config\n",
    "\n",
    "        # sender information\n",
    "        self.from_name = from_name\n",
    "        self.reply_to = reply_to\n",
    "        \n",
    "        # campaign name\n",
    "        today = date.today().strftime(\"%d %B %Y\")\n",
    "        self.campaign_title = 'Campaign_Created_through_API' + today\n",
    "\n",
    "    def connect_to_MailChimp(self):\n",
    "\n",
    "        self.client = MailchimpMarketing.Client()\n",
    "        self.client.set_config({\n",
    "            \"api_key\": self.mailchimp_config[\"API_KEY\"],\n",
    "            \"server\": self.mailchimp_config[\"API_KEY\"].split('-')[-1]\n",
    "        })\n",
    "\n",
    "        response_ping = self.client.ping.get()\n",
    "\n",
    "        if response_ping['health_status'] == \"Everything's Chimpy!\":\n",
    "            print(\"MailChimp account connected!\")\n",
    "\n",
    "    def update_MailChimp_template(self):\n",
    "\n",
    "        response = self.client.templates.update_template(\n",
    "            self.mailchimp_config['template_id'], {\"name\": \"Template_Created_through_API\", \"html\": self.rendered_content})\n",
    "        print(\"Template updated at:\", response['date_edited'])\n",
    "\n",
    "    def specify_recipients(self):\n",
    "\n",
    "        if self.mailchimp_config['segment_id']:\n",
    "            self.recipients = {'segment_opts':\n",
    "                               {'saved_segment_id':\n",
    "                                   self.mailchimp_config['segment_id']},\n",
    "                               'list_id': self.mailchimp_config['list_id']}\n",
    "        else:\n",
    "            self.recipients = {'list_id': self.mailchimp_config['list_id']}\n",
    "\n",
    "        print('recipients specified.')\n",
    "\n",
    "    def create(self):\n",
    "\n",
    "        self.connect_to_MailChimp()\n",
    "        self.update_MailChimp_template()\n",
    "        self.specify_recipients()\n",
    "\n",
    "        self.created_campaign = self.client.campaigns.create({\"type\": \"regular\",\n",
    "                                                              'recipients': self.recipients,\n",
    "                                                              \"settings\":\n",
    "                                                              {\"title\": self.campaign_title,\n",
    "                                                               \"subject_line\": self.subject_line,\n",
    "                                                               \"preview_text\": self.preview_text,\n",
    "                                                               \"from_name\": self.from_name,\n",
    "                                                               \"reply_to\": self.reply_to,\n",
    "                                                               \"template_id\": self.mailchimp_config['template_id'],\n",
    "                                                               \"auto_footer\": False}})\n",
    "        print('Campaign created successfully!')\n",
    "\n",
    "    def send(self):\n",
    "\n",
    "        campaign_id = self.created_campaign['id']\n",
    "        response_of_campaigns_send = self.client.campaigns.send(campaign_id)\n",
    "\n",
    "        return response_of_campaigns_send"
   ]
  },
  {
   "cell_type": "markdown",
   "metadata": {},
   "source": [
    "# Processing Part"
   ]
  },
  {
   "cell_type": "code",
   "execution_count": 6,
   "metadata": {},
   "outputs": [],
   "source": [
    "article_url_list = ['https://www.epochtimes.com/b5/21/4/23/n12900319.htm',\n",
    "                    'https://www.epochtimes.com/b5/21/4/22/n12898316.htm',\n",
    "                    'https://www.epochtimes.com/b5/21/4/22/n12898029.htm',\n",
    "                    'https://www.epochtimes.com/b5/21/4/22/n12898308.htm']\n",
    "\n",
    "video_url_list = ['https://www.epochtimes.com/b5/21/4/24/n12902785.htm',\n",
    "                  'https://www.epochtimes.com/b5/21/4/24/n12902456.htm',\n",
    "                  'https://www.ntdtv.com/b5/2021/04/24/a103103154.html',\n",
    "                  'https://www.ntdtv.com/b5/2021/04/25/a103104026.html']\n",
    "\n",
    "video_page_url = 'https://www.epochtimes.com/gb/ncid1247351.htm'"
   ]
  },
  {
   "cell_type": "code",
   "execution_count": 7,
   "metadata": {},
   "outputs": [],
   "source": [
    "source_content = Content(article_url_list, video_url_list, video_page_url=video_page_url)"
   ]
  },
  {
   "cell_type": "code",
   "execution_count": 8,
   "metadata": {
    "scrolled": false
   },
   "outputs": [
    {
     "name": "stdout",
     "output_type": "stream",
     "text": [
      "組圖：維吾爾族英國集會控訴中共犯種族滅絕罪\n",
      "國際要聞\n",
      "None\n",
      "4月22日，維吾爾族成員於英國倫敦舉行集會抗議，呼籲英國議會承認中共對維吾爾族穆斯林犯下種族滅絕罪和反人類罪。\n",
      "\n",
      "英國最貴豪宅 中國富豪重新裝修恐需2億鎊\n",
      "社會新聞\n",
      "None\n",
      "英國媒體披露，去年一位來自重慶、在香港發家的中國富豪購買了倫敦騎士橋的一棟豪宅，成交價達到2.1億鎊，是當時英國最貴的豪宅，現在這位富豪要重新裝修房子，可能還需要再拿出2億鎊。\n",
      "\n",
      "組圖：英超第32輪 曼城2:1勝阿斯頓維拉\n",
      "國際足球\n",
      "None\n",
      "4月21日，英國伯明翰，2020/21賽季英超第32輪比賽，曼徹斯特城隊（簡稱「曼城」）與阿斯頓維拉隊的比賽在維拉公園球場（Villa Park）舉行，曼城以2:1勝阿斯頓維拉。\n",
      "\n",
      "英神經毒劑案 兩俄特工與捷克爆炸案有關\n",
      "社會新聞\n",
      "None\n",
      "捷克共和國警方表示，涉嫌於2018年在英國使用神經毒劑投毒的兩名俄國人，跟該國2014年發生的導致兩人死亡的爆炸案有關。俄羅斯特工還涉嫌向一名軍火商投毒。\n",
      "\n"
     ]
    }
   ],
   "source": [
    "for article in source_content.article_list:\n",
    "    print(article.title)\n",
    "    print(article.tag)\n",
    "    print(article.label)\n",
    "    print(article.preview_text)\n",
    "    print()"
   ]
  },
  {
   "cell_type": "code",
   "execution_count": 110,
   "metadata": {},
   "outputs": [],
   "source": [
    "# source_content.article_list[0].title = '疫情导致去年英国经济缩水创300年记录'"
   ]
  },
  {
   "cell_type": "code",
   "execution_count": 9,
   "metadata": {
    "scrolled": true
   },
   "outputs": [
    {
     "name": "stdout",
     "output_type": "stream",
     "text": [
      "紀念四‧二五詩朗誦：《永恆的希望》\n",
      "每日新聞\n",
      "你的臉龐平靜祥和如同晨煉場上初升的暖陽可我知道你站在那裡紅牆之外懷著擔當\n",
      "https://i.epochtimes.com/assets/uploads/2020/10/0495326fe7e58dcf8ff9471e7a2a529e-320x200.jpg\n",
      "\n",
      "【拍案驚奇】日防長警告防台赤化 日媒：別再救中共\n",
      "新聞拍案驚奇\n",
      "大家好，歡迎收看《新聞拍案驚奇》，我是大宇。\n",
      "https://i.epochtimes.com/assets/uploads/2021/04/id12902492-4eb44cc4941a25c091e950adfc506d55-320x200.jpg\n",
      "\n",
      "【熱點互動】專訪劉慧卿：香港黑暗的日子\n",
      "熱點互動直播\n"
     ]
    }
   ],
   "source": [
    "for article in source_content.video_list:\n",
    "    try:\n",
    "        print(article.title)\n",
    "        print(article.tag)\n",
    "        print(article.preview_text)\n",
    "        print(article.img_url)\n",
    "        print()\n",
    "    except:\n",
    "        pass"
   ]
  },
  {
   "cell_type": "code",
   "execution_count": 10,
   "metadata": {},
   "outputs": [
    {
     "data": {
      "text/plain": [
       "'https://i.epochtimes.com/assets/uploads/2021/04/id12902492-4eb44cc4941a25c091e950adfc506d55-320x200.jpg'"
      ]
     },
     "execution_count": 10,
     "metadata": {},
     "output_type": "execute_result"
    }
   ],
   "source": [
    "source_content.video_list[1].img_url"
   ]
  },
  {
   "cell_type": "code",
   "execution_count": 12,
   "metadata": {},
   "outputs": [
    {
     "name": "stdout",
     "output_type": "stream",
     "text": [
      "https://i.epochtimes.com/assets/uploads/2020/10/0495326fe7e58dcf8ff9471e7a2a529e-320x200.jpg\n",
      "https://i.epochtimes.com/assets/uploads/2021/04/id12902492-4eb44cc4941a25c091e950adfc506d55-320x200.jpg\n",
      "https://i.ntdtv.com/assets/uploads/2021/04/maxresdefault-81-800x450.jpg\n",
      "https://i.ntdtv.com/assets/uploads/2021/04/thumbnail_d-1-7-800x450.jpg\n"
     ]
    }
   ],
   "source": [
    "for video in source_content.video_list:\n",
    "    print(video.img_url)"
   ]
  },
  {
   "cell_type": "code",
   "execution_count": 29,
   "metadata": {},
   "outputs": [],
   "source": [
    "source_content.video_list[0].img_url = 'https://i.ntdtv.com/assets/uploads/2021/04/maxresdefault-2-16-800x450.jpg'"
   ]
  },
  {
   "cell_type": "code",
   "execution_count": 36,
   "metadata": {},
   "outputs": [],
   "source": [
    "source_content.video_list[1].img_url = 'https://i.epochtimes.com/assets/uploads/2021/04/id12871696-731c1292faf8ecb1db04b660aa2871c3-600x400.jpg'"
   ]
  },
  {
   "cell_type": "code",
   "execution_count": 37,
   "metadata": {},
   "outputs": [],
   "source": [
    "source_content.video_list[2].img_url = 'https://i.epochtimes.com/assets/uploads/2021/04/id12871426-a948bfecbdb0af2e8292697829ecb2a5-320x200.jpg'"
   ]
  },
  {
   "cell_type": "code",
   "execution_count": 38,
   "metadata": {},
   "outputs": [],
   "source": [
    "source_content.video_list[3].img_url = 'https://i.epochtimes.com/assets/uploads/2021/04/id12871886-51960545c5e2f1bfd1522d9ccab9f3d5-320x200.jpg'"
   ]
  },
  {
   "cell_type": "code",
   "execution_count": 13,
   "metadata": {},
   "outputs": [],
   "source": [
    "newsletter = Jinja_Template()"
   ]
  },
  {
   "cell_type": "code",
   "execution_count": 14,
   "metadata": {},
   "outputs": [
    {
     "name": "stdout",
     "output_type": "stream",
     "text": [
      "newsletter rendered at: ../Exported HTML/rendered_newsletter.html\n"
     ]
    }
   ],
   "source": [
    "newsletter.render(source_content)"
   ]
  },
  {
   "cell_type": "code",
   "execution_count": 15,
   "metadata": {},
   "outputs": [],
   "source": [
    "newsletter.preview()"
   ]
  },
  {
   "cell_type": "markdown",
   "metadata": {},
   "source": [
    "# Connect to MailChimp"
   ]
  },
  {
   "cell_type": "markdown",
   "metadata": {},
   "source": [
    "## Test Campaign"
   ]
  },
  {
   "cell_type": "code",
   "execution_count": 16,
   "metadata": {},
   "outputs": [],
   "source": [
    "mailchimp_config_test = {\n",
    "    \"API_KEY\": cf.mailchimp_config_test.API_KEY,\n",
    "    \"template_id\": cf.mailchimp_config_test.template_id,\n",
    "    \"segment_id\": cf.mailchimp_config_test.segment_id, # recipients\n",
    "    \"list_id\": cf.mailchimp_config_test.list_id # members list\n",
    "}"
   ]
  },
  {
   "cell_type": "markdown",
   "metadata": {},
   "source": [
    "### Create MailChimp campaign"
   ]
  },
  {
   "cell_type": "code",
   "execution_count": 17,
   "metadata": {},
   "outputs": [],
   "source": [
    "test_campaign = MailChimp_Campaign(newsletter, mailchimp_config_test, \n",
    "                                   from_name=cf.mailchimp_compaign.from_name, \n",
    "                                   reply_to=cf.mailchimp_compaign.reply_to)"
   ]
  },
  {
   "cell_type": "code",
   "execution_count": 18,
   "metadata": {},
   "outputs": [
    {
     "name": "stdout",
     "output_type": "stream",
     "text": [
      "MailChimp account connected!\n",
      "Template updated at: 2021-04-25T21:47:59+00:00\n",
      "recipients specified.\n",
      "Campaign created successfully!\n"
     ]
    }
   ],
   "source": [
    "test_campaign.create()"
   ]
  },
  {
   "cell_type": "code",
   "execution_count": 19,
   "metadata": {},
   "outputs": [
    {
     "data": {
      "text/plain": [
       "<Response [204]>"
      ]
     },
     "execution_count": 19,
     "metadata": {},
     "output_type": "execute_result"
    }
   ],
   "source": [
    "test_campaign.send()"
   ]
  },
  {
   "cell_type": "markdown",
   "metadata": {},
   "source": [
    "## Real Campaign"
   ]
  },
  {
   "cell_type": "code",
   "execution_count": 20,
   "metadata": {},
   "outputs": [],
   "source": [
    "mailchimp_config_real = {\n",
    "    \"API_KEY\": cf.mailchimp_config_real.API_KEY,\n",
    "    \"template_id\": cf.mailchimp_config_real.template_id,\n",
    "    \"segment_id\": cf.mailchimp_config_real.segment_id, # recipients\n",
    "    \"list_id\": cf.mailchimp_config_real.list_id # members list\n",
    "}"
   ]
  },
  {
   "cell_type": "code",
   "execution_count": 21,
   "metadata": {},
   "outputs": [],
   "source": [
    "real_campaign = MailChimp_Campaign(newsletter, mailchimp_config_real, \n",
    "                                   from_name=cf.mailchimp_compaign.from_name, \n",
    "                                   reply_to=cf.mailchimp_compaign.reply_to)"
   ]
  },
  {
   "cell_type": "code",
   "execution_count": 22,
   "metadata": {},
   "outputs": [
    {
     "name": "stdout",
     "output_type": "stream",
     "text": [
      "MailChimp account connected!\n",
      "Template updated at: 2021-04-25T21:48:15+00:00\n",
      "recipients specified.\n",
      "Campaign created successfully!\n"
     ]
    }
   ],
   "source": [
    "real_campaign.create()"
   ]
  },
  {
   "cell_type": "code",
   "execution_count": 23,
   "metadata": {},
   "outputs": [
    {
     "data": {
      "text/plain": [
       "<Response [204]>"
      ]
     },
     "execution_count": 23,
     "metadata": {},
     "output_type": "execute_result"
    }
   ],
   "source": [
    "real_campaign.send()"
   ]
  },
  {
   "cell_type": "markdown",
   "metadata": {},
   "source": [
    "## Drafts"
   ]
  },
  {
   "cell_type": "code",
   "execution_count": 200,
   "metadata": {
    "code_folding": []
   },
   "outputs": [],
   "source": [
    "# define article tag\n",
    "tag_list = ['英国新闻', '英国新闻', '英国新闻', '英国新闻']\n",
    "\n",
    "for index in range(len(tag_list)):\n",
    "    article_list[index].tag = tag_list[index]\n",
    "    \n",
    "# article_list[0].img_url = 'https://i.epochtimes.com/assets/uploads/2020/12/2012112056442124.jpg'"
   ]
  }
 ],
 "metadata": {
  "kernelspec": {
   "display_name": "Python 3",
   "language": "python",
   "name": "python3"
  },
  "language_info": {
   "codemirror_mode": {
    "name": "ipython",
    "version": 3
   },
   "file_extension": ".py",
   "mimetype": "text/x-python",
   "name": "python",
   "nbconvert_exporter": "python",
   "pygments_lexer": "ipython3",
   "version": "3.7.4"
  }
 },
 "nbformat": 4,
 "nbformat_minor": 2
}
