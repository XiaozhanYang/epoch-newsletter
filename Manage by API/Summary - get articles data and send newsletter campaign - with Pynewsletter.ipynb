{
 "cells": [
  {
   "cell_type": "code",
   "execution_count": 2,
   "metadata": {},
   "outputs": [],
   "source": [
    "import pynewsletter as nl\n",
    "from datetime import date\n",
    "import config as cf\n",
    "import importlib\n",
    "cf = importlib.reload(cf)\n",
    "nl = importlib.reload(nl)"
   ]
  },
  {
   "cell_type": "markdown",
   "metadata": {},
   "source": [
    "# Processing Part"
   ]
  },
  {
   "cell_type": "code",
   "execution_count": 3,
   "metadata": {},
   "outputs": [],
   "source": [
    "article_url_list = ['https://www.epochtimes.com/b5/21/7/8/n13076431.htm',\n",
    "                    'https://www.epochtimes.com/b5/21/7/5/n13068801.htm',\n",
    "                    'https://www.epochtimes.com/b5/21/7/8/n13076239.htm',\n",
    "                    'https://www.epochtimes.com/b5/21/7/8/n13076214.htm']\n",
    "\n",
    "video_url_list = ['https://www.epochtimes.com/b5/21/7/8/n13076951.htm',\n",
    "                  'https://www.epochtimes.com/b5/21/7/10/n13081045.htm',\n",
    "                  'https://www.epochtimes.com/b5/21/7/9/n13079287.htm',\n",
    "                  'https://www.epochtimes.com/b5/21/7/10/n13081152.htm']\n",
    "\n",
    "video_page_url = 'https://www.epochtimes.com/gb/ncid1247351.htm'"
   ]
  },
  {
   "cell_type": "code",
   "execution_count": 22,
   "metadata": {},
   "outputs": [],
   "source": [
    "advert = nl.Article('https://www.wu.com/wuagents', \n",
    "                    img_url='https://mcusercontent.com/8d91be20c499dcf471d03d2d1/images/9ee76107-70aa-4852-ffb7-9d45f04df6ba.png')"
   ]
  },
  {
   "cell_type": "code",
   "execution_count": 13,
   "metadata": {
    "collapsed": true
   },
   "outputs": [
    {
     "name": "stdout",
     "output_type": "stream",
     "text": [
      "Help on class Content in module pynewsletter.content_script:\n",
      "\n",
      "class Content(Article)\n",
      " |  Content(article_url_list, video_url_list, video_page_url=None, advert=None)\n",
      " |  \n",
      " |  Method resolution order:\n",
      " |      Content\n",
      " |      Article\n",
      " |      builtins.object\n",
      " |  \n",
      " |  Methods defined here:\n",
      " |  \n",
      " |  __init__(self, article_url_list, video_url_list, video_page_url=None, advert=None)\n",
      " |      Initialize self.  See help(type(self)) for accurate signature.\n",
      " |  \n",
      " |  ----------------------------------------------------------------------\n",
      " |  Data descriptors inherited from Article:\n",
      " |  \n",
      " |  __dict__\n",
      " |      dictionary for instance variables (if defined)\n",
      " |  \n",
      " |  __weakref__\n",
      " |      list of weak references to the object (if defined)\n",
      " |  \n",
      " |  img_url\n",
      " |  \n",
      " |  label\n",
      " |  \n",
      " |  preview_text\n",
      " |  \n",
      " |  tag\n",
      " |  \n",
      " |  title\n",
      " |  \n",
      " |  url\n",
      "\n"
     ]
    }
   ],
   "source": [
    "help(nl.Content)"
   ]
  },
  {
   "cell_type": "code",
   "execution_count": 4,
   "metadata": {},
   "outputs": [],
   "source": [
    "source_content = nl.Content(article_url_list, video_url_list, video_page_url=video_page_url, advert=None)"
   ]
  },
  {
   "cell_type": "code",
   "execution_count": 5,
   "metadata": {
    "scrolled": true
   },
   "outputs": [
    {
     "name": "stdout",
     "output_type": "stream",
     "text": [
      "組圖：歐洲盃足球半決賽 英格蘭2:1勝丹麥\n",
      "國際足球\n",
      "None\n",
      "7月7日，2020年歐洲盃足球賽其中一場半決賽，在英國倫敦的溫布利球場（Wembley Stadium）舉行，英格蘭隊迎戰丹麥隊。結果，英格蘭隊以2:1戰勝丹麥隊。\n",
      "\n",
      "組圖：英國慶愛麗絲夢遊仙境續集出版150年\n",
      "國際要聞\n",
      "None\n",
      "今年是知名童話《愛麗絲夢遊仙境》（Alice in Wonderland）續集《鏡中奇遇記》（Through the Looking Glass）出版150周年，英國牛津於7月3日舉行了「愛麗絲日」（Alice’s Day）慶祝活動。\n",
      "\n",
      "溫網英國新秀 擁有一半華人血統\n",
      "體育新聞\n",
      "None\n",
      "溫布爾登網球賽正在如火如荼地進行，今年一名有一半華人血統的18歲英國女孩無疑是人們關注的中心。\n",
      "\n",
      "建築質量問題 屋主追責時效延長至15年\n",
      "社會新聞\n",
      "None\n",
      "英國計劃修改法律，屋主對建築質量問題追究開發商責任的有效期從六年延長至15年。\n",
      "\n"
     ]
    }
   ],
   "source": [
    "for article in source_content.article_list:\n",
    "    print(article.title)\n",
    "    print(article.tag)\n",
    "    print(article.label)\n",
    "    print(article.preview_text)\n",
    "    print()"
   ]
  },
  {
   "cell_type": "code",
   "execution_count": 6,
   "metadata": {},
   "outputs": [],
   "source": [
    "source_content.article_list[0].img_url = 'https://i.epochtimes.com/assets/uploads/2021/06/id13000951-GettyImages-1233263048-600x400.jpg'"
   ]
  },
  {
   "cell_type": "code",
   "execution_count": 6,
   "metadata": {},
   "outputs": [],
   "source": [
    "source_content.article_list[3].preview_text = '根據本週公佈的《建築安全議案》（Building Safety Bill），屋主追究開發商和建築工人責任的有效期最長可達15年，比現有的規定長了九年。這條議案提議，把追責期15年的規定回溯至2010年開始。'"
   ]
  },
  {
   "cell_type": "code",
   "execution_count": 5,
   "metadata": {},
   "outputs": [],
   "source": [
    "# source_content.article_list[0].title = '疫情导致去年英国经济缩水创300年记录'"
   ]
  },
  {
   "cell_type": "code",
   "execution_count": 7,
   "metadata": {
    "scrolled": true
   },
   "outputs": [
    {
     "name": "stdout",
     "output_type": "stream",
     "text": [
      "【未解之謎】翻轉人生的瀕死體驗\n",
      "瀕死體驗\n",
      "大家好，我是扶搖。\n",
      "https://i.epochtimes.com/assets/uploads/2021/07/id13077107-1200x800-320x200.jpg\n",
      "\n",
      "【馬克時空】俄羅斯欲重振航天事業 未來計畫有哪些？\n",
      "軍事天地\n",
      "俄羅斯計劃在7月下旬發射科學號實驗艙（國際空間站的最新模塊）。自蘇聯解體後，俄羅斯雖然繼承其主要航天遺產，但苦於經濟不振，航天事業受阻。近年，隨著俄國經濟起色，航天活動逐漸熱絡。今天來談談俄羅斯重振航天計畫，包括：科學號實驗艙、新設計的安加拉（Angara）火箭、可複用的阿穆爾（Amur）火箭，以及未來的航天計劃。\n",
      "https://i.epochtimes.com/assets/uploads/2021/07/id13081070-fea3c56706f9fbbcca29e90f42e74dc3-600x400.jpg\n",
      "\n",
      "【古韻流芳】高風亮節虞世南 大唐第一詠蟬詩\n",
      "文學賞析\n",
      "《莊子》曾說過：「蟪蛄不知春秋。」就是說蟬壽命很短，不知道春天和秋天的存在，所以很多文學家把蟬作為感嘆時光流逝、人生短暫的意象。但同時，蟬也作為一種道德高尚的動物，深受文人的喜愛。這是為什麼呢？我們不妨來看看這樣一個畫面：\n",
      "https://i.epochtimes.com/assets/uploads/2021/07/id13079302-8f61440e8a50fb718541bc93d13a2f36-600x400.jpg\n",
      "\n",
      "【橫河觀點】孟晚舟懸了 美撤軍阿富汗中共急入？\n",
      "每日新聞\n",
      "觀眾朋友們好，我是橫河，歡迎大家來到橫河觀點頻道，今天是7月10日，星期六。\n",
      "https://i.epochtimes.com/assets/uploads/2021/07/id13081213-1adf88f0fd7cd29cdd4faf589fa902d5-600x400.jpg\n",
      "\n"
     ]
    }
   ],
   "source": [
    "for article in source_content.video_list:\n",
    "    try:\n",
    "        print(article.title)\n",
    "        print(article.tag)\n",
    "        print(article.preview_text)\n",
    "        print(article.img_url)\n",
    "        print()\n",
    "    except:\n",
    "        pass"
   ]
  },
  {
   "cell_type": "code",
   "execution_count": 56,
   "metadata": {},
   "outputs": [],
   "source": [
    "source_content.video_list[1].img_url = 'https://i.ntdtv.com/assets/uploads/2021/06/maxresdefault-4-3-360x202.jpg'"
   ]
  },
  {
   "cell_type": "code",
   "execution_count": 10,
   "metadata": {},
   "outputs": [],
   "source": [
    "source_content.video_list[3].img_url = 'https://i.ntdtv.com/assets/uploads/2021/06/thumbnail_d-966-192x108.jpg'"
   ]
  },
  {
   "cell_type": "code",
   "execution_count": 8,
   "metadata": {},
   "outputs": [
    {
     "name": "stdout",
     "output_type": "stream",
     "text": [
      "https://i.epochtimes.com/assets/uploads/2021/07/id13077107-1200x800-320x200.jpg\n",
      "https://i.epochtimes.com/assets/uploads/2021/07/id13081070-fea3c56706f9fbbcca29e90f42e74dc3-600x400.jpg\n",
      "https://i.epochtimes.com/assets/uploads/2021/07/id13079302-8f61440e8a50fb718541bc93d13a2f36-600x400.jpg\n",
      "https://i.epochtimes.com/assets/uploads/2021/07/id13081213-1adf88f0fd7cd29cdd4faf589fa902d5-600x400.jpg\n"
     ]
    }
   ],
   "source": [
    "for video in source_content.video_list:\n",
    "    print(video.img_url)"
   ]
  },
  {
   "cell_type": "code",
   "execution_count": 9,
   "metadata": {},
   "outputs": [],
   "source": [
    "newsletter = nl.Jinja_Template()"
   ]
  },
  {
   "cell_type": "code",
   "execution_count": 10,
   "metadata": {},
   "outputs": [
    {
     "name": "stdout",
     "output_type": "stream",
     "text": [
      "newsletter rendered at: ../Exported HTML/rendered_newsletter.html\n"
     ]
    }
   ],
   "source": [
    "newsletter.render(source_content)"
   ]
  },
  {
   "cell_type": "code",
   "execution_count": 11,
   "metadata": {},
   "outputs": [],
   "source": [
    "newsletter.preview()"
   ]
  },
  {
   "cell_type": "markdown",
   "metadata": {},
   "source": [
    "# Connect to MailChimp"
   ]
  },
  {
   "cell_type": "markdown",
   "metadata": {},
   "source": [
    "## Test Campaign"
   ]
  },
  {
   "cell_type": "code",
   "execution_count": 12,
   "metadata": {},
   "outputs": [],
   "source": [
    "mailchimp_config_test = {\n",
    "    \"API_KEY\": cf.mailchimp_config_test.API_KEY,\n",
    "    \"template_id\": cf.mailchimp_config_test.template_id,\n",
    "    \"segment_id\": cf.mailchimp_config_test.segment_id, # recipients\n",
    "    \"list_id\": cf.mailchimp_config_test.list_id # members list\n",
    "}"
   ]
  },
  {
   "cell_type": "markdown",
   "metadata": {},
   "source": [
    "### Create MailChimp campaign"
   ]
  },
  {
   "cell_type": "code",
   "execution_count": 13,
   "metadata": {},
   "outputs": [],
   "source": [
    "test_campaign = nl.MailChimp_Campaign(newsletter, mailchimp_config_test, \n",
    "                                   from_name=cf.mailchimp_compaign.from_name, \n",
    "                                   reply_to=cf.mailchimp_compaign.reply_to)"
   ]
  },
  {
   "cell_type": "code",
   "execution_count": 14,
   "metadata": {},
   "outputs": [
    {
     "name": "stdout",
     "output_type": "stream",
     "text": [
      "MailChimp account connected!\n",
      "Template updated at: 2021-07-11T10:48:34+00:00\n",
      "recipients specified.\n",
      "Campaign created successfully!\n"
     ]
    }
   ],
   "source": [
    "test_campaign.create()"
   ]
  },
  {
   "cell_type": "code",
   "execution_count": 15,
   "metadata": {},
   "outputs": [
    {
     "data": {
      "text/plain": [
       "<Response [204]>"
      ]
     },
     "execution_count": 15,
     "metadata": {},
     "output_type": "execute_result"
    }
   ],
   "source": [
    "test_campaign.send()"
   ]
  },
  {
   "cell_type": "markdown",
   "metadata": {},
   "source": [
    "## Real Campaign"
   ]
  },
  {
   "cell_type": "code",
   "execution_count": 16,
   "metadata": {},
   "outputs": [],
   "source": [
    "mailchimp_config_real = {\n",
    "    \"API_KEY\": cf.mailchimp_config_real.API_KEY,\n",
    "    \"template_id\": cf.mailchimp_config_real.template_id,\n",
    "    \"segment_id\": cf.mailchimp_config_real.segment_id, # recipients\n",
    "    \"list_id\": cf.mailchimp_config_real.list_id # members list\n",
    "}"
   ]
  },
  {
   "cell_type": "code",
   "execution_count": 17,
   "metadata": {},
   "outputs": [],
   "source": [
    "real_campaign = nl.MailChimp_Campaign(newsletter, mailchimp_config_real, \n",
    "                                   from_name=cf.mailchimp_compaign.from_name, \n",
    "                                   reply_to=cf.mailchimp_compaign.reply_to)"
   ]
  },
  {
   "cell_type": "code",
   "execution_count": 18,
   "metadata": {
    "scrolled": true
   },
   "outputs": [
    {
     "name": "stdout",
     "output_type": "stream",
     "text": [
      "MailChimp account connected!\n",
      "Template updated at: 2021-07-11T10:48:45+00:00\n",
      "recipients specified.\n",
      "Campaign created successfully!\n"
     ]
    }
   ],
   "source": [
    "real_campaign.create()"
   ]
  },
  {
   "cell_type": "code",
   "execution_count": 19,
   "metadata": {},
   "outputs": [
    {
     "data": {
      "text/plain": [
       "<Response [204]>"
      ]
     },
     "execution_count": 19,
     "metadata": {},
     "output_type": "execute_result"
    }
   ],
   "source": [
    "real_campaign.send()"
   ]
  },
  {
   "cell_type": "markdown",
   "metadata": {},
   "source": [
    "## Drafts"
   ]
  },
  {
   "cell_type": "code",
   "execution_count": 200,
   "metadata": {
    "code_folding": []
   },
   "outputs": [],
   "source": [
    "# define article tag\n",
    "tag_list = ['英国新闻', '英国新闻', '英国新闻', '英国新闻']\n",
    "\n",
    "for index in range(len(tag_list)):\n",
    "    article_list[index].tag = tag_list[index]\n",
    "    \n",
    "# article_list[0].img_url = 'https://i.epochtimes.com/assets/uploads/2020/12/2012112056442124.jpg'"
   ]
  }
 ],
 "metadata": {
  "kernelspec": {
   "display_name": "Python 3",
   "language": "python",
   "name": "python3"
  },
  "language_info": {
   "codemirror_mode": {
    "name": "ipython",
    "version": 3
   },
   "file_extension": ".py",
   "mimetype": "text/x-python",
   "name": "python",
   "nbconvert_exporter": "python",
   "pygments_lexer": "ipython3",
   "version": "3.7.4"
  }
 },
 "nbformat": 4,
 "nbformat_minor": 2
}
