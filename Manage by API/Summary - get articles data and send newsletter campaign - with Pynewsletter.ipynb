{
 "cells": [
  {
   "cell_type": "code",
   "execution_count": 3,
   "metadata": {},
   "outputs": [],
   "source": [
    "import pynewsletter as nl\n",
    "from datetime import date\n",
    "import config as cf\n",
    "import importlib\n",
    "cf = importlib.reload(cf)\n",
    "nl = importlib.reload(nl)"
   ]
  },
  {
   "cell_type": "markdown",
   "metadata": {},
   "source": [
    "# Processing Part"
   ]
  },
  {
   "cell_type": "code",
   "execution_count": 14,
   "metadata": {},
   "outputs": [],
   "source": [
    "article_url_list = ['https://www.epochtimes.com/b5/21/8/5/n13140843.htm',\n",
    "                    'https://www.epochtimes.com/b5/21/8/5/n13140557.htm',\n",
    "                    'https://www.epochtimes.com/b5/21/8/5/n13140536.htm',\n",
    "                    'https://www.epochtimes.com/b5/21/8/5/n13140522.htm']\n",
    "\n",
    "video_url_list = ['https://www.epochtimes.com/gb/21/8/7/n13146217.htm',\n",
    "                  'https://www.epochtimes.com/gb/21/8/6/n13144520.htm',\n",
    "                  'https://www.epochtimes.com/gb/21/8/4/n13139314.htm',\n",
    "                  'https://www.epochtimes.com/gb/21/8/5/n13141850.htm']\n",
    "\n",
    "video_page_url = 'https://www.epochtimes.com/gb/ncid1247351.htm'"
   ]
  },
  {
   "cell_type": "code",
   "execution_count": 22,
   "metadata": {},
   "outputs": [],
   "source": [
    "advert = nl.Article('https://www.wu.com/wuagents', \n",
    "                    img_url='https://mcusercontent.com/8d91be20c499dcf471d03d2d1/images/9ee76107-70aa-4852-ffb7-9d45f04df6ba.png')"
   ]
  },
  {
   "cell_type": "code",
   "execution_count": 13,
   "metadata": {
    "collapsed": true
   },
   "outputs": [
    {
     "name": "stdout",
     "output_type": "stream",
     "text": [
      "Help on class Content in module pynewsletter.content_script:\n",
      "\n",
      "class Content(Article)\n",
      " |  Content(article_url_list, video_url_list, video_page_url=None, advert=None)\n",
      " |  \n",
      " |  Method resolution order:\n",
      " |      Content\n",
      " |      Article\n",
      " |      builtins.object\n",
      " |  \n",
      " |  Methods defined here:\n",
      " |  \n",
      " |  __init__(self, article_url_list, video_url_list, video_page_url=None, advert=None)\n",
      " |      Initialize self.  See help(type(self)) for accurate signature.\n",
      " |  \n",
      " |  ----------------------------------------------------------------------\n",
      " |  Data descriptors inherited from Article:\n",
      " |  \n",
      " |  __dict__\n",
      " |      dictionary for instance variables (if defined)\n",
      " |  \n",
      " |  __weakref__\n",
      " |      list of weak references to the object (if defined)\n",
      " |  \n",
      " |  img_url\n",
      " |  \n",
      " |  label\n",
      " |  \n",
      " |  preview_text\n",
      " |  \n",
      " |  tag\n",
      " |  \n",
      " |  title\n",
      " |  \n",
      " |  url\n",
      "\n"
     ]
    }
   ],
   "source": [
    "help(nl.Content)"
   ]
  },
  {
   "cell_type": "code",
   "execution_count": 15,
   "metadata": {},
   "outputs": [],
   "source": [
    "source_content = nl.Content(article_url_list, video_url_list, video_page_url=video_page_url, advert=None)"
   ]
  },
  {
   "cell_type": "code",
   "execution_count": 13,
   "metadata": {
    "scrolled": true
   },
   "outputs": [
    {
     "name": "stdout",
     "output_type": "stream",
     "text": [
      "兩度奧運奪金 如何保持冠軍心態\n",
      "英倫生活\n",
      "None\n",
      "皮提（Adam Peaty）在東京奧運上為英國奪得首金。這位26歲的混合泳世界紀錄保持者在2016年里約奧運的時候就奪得了這個項目的金牌。這次成為奧運歷史上首位衛冕成功的男子混合泳100米選手。\n",
      "\n",
      "邊打工邊訓練 英國金牌女孩的故事\n",
      "英倫生活精選\n",
      "None\n",
      "今年英國參加BMX自行車項目的隊伍非常成功，獲得兩枚金牌，實現突破。許多人認為，這是今年英國在奧運會上最有價值的金牌。而這兩名金牌的得主是兩位非常勤奮的女孩。\n",
      "\n",
      "沈舟：「山東號」能拼過伊麗莎白號航母嗎？\n",
      "社會新聞\n",
      "None\n",
      "7月25日，馬來西亞海軍公佈與英國海軍的「伊麗莎白女王號」航空母艦（HMS Queen Elizabeth）共同演習，英國航母正式進入了南海。中共的「山東號」航母早已配屬在海南三亞，應該不敢與美軍航母對峙或對戰，那麼是否與英國的「伊麗莎白女王號」航母有一拼呢？\n",
      "\n",
      "英國應對疫情費用 幾十年才能還清\n",
      "經濟新聞\n",
      "None\n",
      "近日英國議會的報告警告，英國應對中共病毒疫情耗資巨大，這些費用可能需要「幾十年」的時間才能還清。\n",
      "\n"
     ]
    }
   ],
   "source": [
    "for article in source_content.article_list:\n",
    "    print(article.title)\n",
    "    print(article.tag)\n",
    "    print(article.label)\n",
    "    print(article.preview_text)\n",
    "    print()"
   ]
  },
  {
   "cell_type": "code",
   "execution_count": 12,
   "metadata": {},
   "outputs": [],
   "source": [
    "source_content.article_list[0].img_url = 'https://i.epochtimes.com/assets/uploads/2021/07/id13111863-GettyImages-1330201450.jpg'"
   ]
  },
  {
   "cell_type": "code",
   "execution_count": 16,
   "metadata": {},
   "outputs": [],
   "source": [
    "source_content.article_list[2].preview_text = '馬來西亞海軍與英國海軍共同演習，英國航母正式進入了南海。中共的「山東號」航母早已配屬在海南三亞，應該不敢與美軍航母對峙或對戰，那麼是否與英國的「伊麗莎白女王號」航母有一拼呢？'"
   ]
  },
  {
   "cell_type": "code",
   "execution_count": 17,
   "metadata": {},
   "outputs": [],
   "source": [
    "source_content.article_list[3].preview_text = '近日英國議會的報告警告，英國應對中共病毒疫情耗資巨大，這些費用可能需要「幾十年」的時間才能還清。這意味著英國的納稅人將在「未來幾十年裡面臨顯著的經濟風險」。'"
   ]
  },
  {
   "cell_type": "code",
   "execution_count": 6,
   "metadata": {},
   "outputs": [],
   "source": [
    "# source_content.article_list[0].title = '疫情导致去年英国经济缩水创300年记录'"
   ]
  },
  {
   "cell_type": "code",
   "execution_count": 18,
   "metadata": {
    "scrolled": true
   },
   "outputs": [
    {
     "name": "stdout",
     "output_type": "stream",
     "text": [
      "【十字路口】Delta病毒中國蔓延 需防7大風險\n",
      "世界的十字路口\n",
      "大家好，我是唐浩，今天都好嗎？\n",
      "https://i.epochtimes.com/assets/uploads/2021/08/id13146232-f7b4f8ff580647b9acedccbd276cba66-600x400.jpg\n",
      "\n",
      "【古韻流芳】白居易《觀刈麥》嘆民間疾苦\n",
      "唐詩\n",
      "白居易不僅是一位有責任感的詩人，也是盡忠職守的官員。他主要生活在唐憲宗時代，憲宗是盛唐之後很有作為的皇帝，曾大力征討藩鎮，讓唐朝再次出現統一的中興局面，史稱「元和中興」。\n",
      "https://i.epochtimes.com/assets/uploads/2021/08/id13144531-45340b6ea8b100aba5833f655bbf0c5a-600x400.jpg\n",
      "\n",
      "【秦鵬直播】中共停發護照 原因涉國家機密？\n",
      "每日新聞\n",
      "大家好，現在是美東時間8月4日晚上6:30，北京時間8月5日。歡迎收看時事天天聊。我是Sydney（王愉賀）；我是秦鵬。\n",
      "https://i.epochtimes.com/assets/uploads/2021/08/id13139324-1200-800-600x400.jpg\n",
      "\n",
      "【未解之謎】畫出天堂的神童\n",
      "文明探索\n",
      "大家好，我是扶搖。今天我們來講畫。\n",
      "https://i.epochtimes.com/assets/uploads/2021/08/id13141856-1200x800-3-320x200.jpg\n",
      "\n"
     ]
    }
   ],
   "source": [
    "for article in source_content.video_list:\n",
    "    try:\n",
    "        print(article.title)\n",
    "        print(article.tag)\n",
    "        print(article.preview_text)\n",
    "        print(article.img_url)\n",
    "        print()\n",
    "    except:\n",
    "        pass"
   ]
  },
  {
   "cell_type": "code",
   "execution_count": 56,
   "metadata": {},
   "outputs": [],
   "source": [
    "source_content.video_list[1].img_url = 'https://i.ntdtv.com/assets/uploads/2021/06/maxresdefault-4-3-360x202.jpg'"
   ]
  },
  {
   "cell_type": "code",
   "execution_count": 10,
   "metadata": {},
   "outputs": [],
   "source": [
    "source_content.video_list[3].img_url = 'https://i.ntdtv.com/assets/uploads/2021/06/thumbnail_d-966-192x108.jpg'"
   ]
  },
  {
   "cell_type": "code",
   "execution_count": 19,
   "metadata": {},
   "outputs": [
    {
     "name": "stdout",
     "output_type": "stream",
     "text": [
      "https://i.epochtimes.com/assets/uploads/2021/08/id13146232-f7b4f8ff580647b9acedccbd276cba66-600x400.jpg\n",
      "https://i.epochtimes.com/assets/uploads/2021/08/id13144531-45340b6ea8b100aba5833f655bbf0c5a-600x400.jpg\n",
      "https://i.epochtimes.com/assets/uploads/2021/08/id13139324-1200-800-600x400.jpg\n",
      "https://i.epochtimes.com/assets/uploads/2021/08/id13141856-1200x800-3-320x200.jpg\n"
     ]
    }
   ],
   "source": [
    "for video in source_content.video_list:\n",
    "    print(video.img_url)"
   ]
  },
  {
   "cell_type": "code",
   "execution_count": 20,
   "metadata": {},
   "outputs": [],
   "source": [
    "newsletter = nl.Jinja_Template()"
   ]
  },
  {
   "cell_type": "code",
   "execution_count": 21,
   "metadata": {},
   "outputs": [
    {
     "name": "stdout",
     "output_type": "stream",
     "text": [
      "newsletter rendered at: ../Exported HTML/rendered_newsletter.html\n"
     ]
    }
   ],
   "source": [
    "newsletter.render(source_content)"
   ]
  },
  {
   "cell_type": "code",
   "execution_count": 22,
   "metadata": {},
   "outputs": [],
   "source": [
    "newsletter.preview()"
   ]
  },
  {
   "cell_type": "markdown",
   "metadata": {},
   "source": [
    "# Connect to MailChimp"
   ]
  },
  {
   "cell_type": "markdown",
   "metadata": {},
   "source": [
    "## Test Campaign"
   ]
  },
  {
   "cell_type": "code",
   "execution_count": 23,
   "metadata": {},
   "outputs": [],
   "source": [
    "mailchimp_config_test = {\n",
    "    \"API_KEY\": cf.mailchimp_config_test.API_KEY,\n",
    "    \"template_id\": cf.mailchimp_config_test.template_id,\n",
    "    \"segment_id\": cf.mailchimp_config_test.segment_id, # recipients\n",
    "    \"list_id\": cf.mailchimp_config_test.list_id # members list\n",
    "}"
   ]
  },
  {
   "cell_type": "markdown",
   "metadata": {},
   "source": [
    "### Create MailChimp campaign"
   ]
  },
  {
   "cell_type": "code",
   "execution_count": 24,
   "metadata": {},
   "outputs": [],
   "source": [
    "test_campaign = nl.MailChimp_Campaign(newsletter, mailchimp_config_test, \n",
    "                                   from_name=cf.mailchimp_compaign.from_name, \n",
    "                                   reply_to=cf.mailchimp_compaign.reply_to)"
   ]
  },
  {
   "cell_type": "code",
   "execution_count": 25,
   "metadata": {},
   "outputs": [
    {
     "name": "stdout",
     "output_type": "stream",
     "text": [
      "MailChimp account connected!\n",
      "Template updated at: 2021-08-07T22:55:06+00:00\n",
      "recipients specified.\n",
      "Campaign created successfully!\n"
     ]
    }
   ],
   "source": [
    "test_campaign.create()"
   ]
  },
  {
   "cell_type": "code",
   "execution_count": 26,
   "metadata": {},
   "outputs": [
    {
     "data": {
      "text/plain": [
       "<Response [204]>"
      ]
     },
     "execution_count": 26,
     "metadata": {},
     "output_type": "execute_result"
    }
   ],
   "source": [
    "test_campaign.send()"
   ]
  },
  {
   "cell_type": "markdown",
   "metadata": {},
   "source": [
    "## Real Campaign"
   ]
  },
  {
   "cell_type": "code",
   "execution_count": 27,
   "metadata": {},
   "outputs": [],
   "source": [
    "mailchimp_config_real = {\n",
    "    \"API_KEY\": cf.mailchimp_config_real.API_KEY,\n",
    "    \"template_id\": cf.mailchimp_config_real.template_id,\n",
    "    \"segment_id\": cf.mailchimp_config_real.segment_id, # recipients\n",
    "    \"list_id\": cf.mailchimp_config_real.list_id # members list\n",
    "}"
   ]
  },
  {
   "cell_type": "code",
   "execution_count": 28,
   "metadata": {},
   "outputs": [],
   "source": [
    "real_campaign = nl.MailChimp_Campaign(newsletter, mailchimp_config_real, \n",
    "                                   from_name=cf.mailchimp_compaign.from_name, \n",
    "                                   reply_to=cf.mailchimp_compaign.reply_to)"
   ]
  },
  {
   "cell_type": "code",
   "execution_count": 29,
   "metadata": {
    "scrolled": true
   },
   "outputs": [
    {
     "name": "stdout",
     "output_type": "stream",
     "text": [
      "MailChimp account connected!\n",
      "Template updated at: 2021-08-07T22:55:17+00:00\n",
      "recipients specified.\n",
      "Campaign created successfully!\n"
     ]
    }
   ],
   "source": [
    "real_campaign.create()"
   ]
  },
  {
   "cell_type": "code",
   "execution_count": 30,
   "metadata": {},
   "outputs": [
    {
     "data": {
      "text/plain": [
       "<Response [204]>"
      ]
     },
     "execution_count": 30,
     "metadata": {},
     "output_type": "execute_result"
    }
   ],
   "source": [
    "real_campaign.send()"
   ]
  },
  {
   "cell_type": "markdown",
   "metadata": {},
   "source": [
    "## Drafts"
   ]
  },
  {
   "cell_type": "code",
   "execution_count": 200,
   "metadata": {
    "code_folding": []
   },
   "outputs": [],
   "source": [
    "# define article tag\n",
    "tag_list = ['英国新闻', '英国新闻', '英国新闻', '英国新闻']\n",
    "\n",
    "for index in range(len(tag_list)):\n",
    "    article_list[index].tag = tag_list[index]\n",
    "    \n",
    "# article_list[0].img_url = 'https://i.epochtimes.com/assets/uploads/2020/12/2012112056442124.jpg'"
   ]
  }
 ],
 "metadata": {
  "kernelspec": {
   "display_name": "Python 3",
   "language": "python",
   "name": "python3"
  },
  "language_info": {
   "codemirror_mode": {
    "name": "ipython",
    "version": 3
   },
   "file_extension": ".py",
   "mimetype": "text/x-python",
   "name": "python",
   "nbconvert_exporter": "python",
   "pygments_lexer": "ipython3",
   "version": "3.7.4"
  }
 },
 "nbformat": 4,
 "nbformat_minor": 2
}
