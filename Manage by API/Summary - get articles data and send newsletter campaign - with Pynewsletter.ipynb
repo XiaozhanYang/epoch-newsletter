{
 "cells": [
  {
   "cell_type": "code",
   "execution_count": 2,
   "metadata": {},
   "outputs": [],
   "source": [
    "import pynewsletter as nl\n",
    "from datetime import date\n",
    "import config as cf\n",
    "import importlib\n",
    "cf = importlib.reload(cf)\n",
    "nl = importlib.reload(nl)"
   ]
  },
  {
   "cell_type": "markdown",
   "metadata": {},
   "source": [
    "# Processing Part"
   ]
  },
  {
   "cell_type": "code",
   "execution_count": 21,
   "metadata": {},
   "outputs": [],
   "source": [
    "article_url_list = ['https://www.epochtimes.com/b5/21/7/1/n13060714.htm',\n",
    "                    'https://www.epochtimes.com/b5/21/7/2/n13062550.htm',\n",
    "                    'https://www.epochtimes.com/b5/21/7/1/n13060925.htm',\n",
    "                    'https://www.epochtimes.com/b5/21/7/1/n13060775.htm']\n",
    "\n",
    "video_url_list = ['https://www.epochtimes.com/b5/21/7/3/n13065355.htm',\n",
    "                  'https://www.epochtimes.com/b5/21/7/3/n13065384.htm',\n",
    "                  'https://www.epochtimes.com/b5/21/7/3/n13065867.htm',\n",
    "                  'https://www.epochtimes.com/b5/21/7/1/n13061464.htm']\n",
    "\n",
    "video_page_url = 'https://www.epochtimes.com/gb/ncid1247351.htm'"
   ]
  },
  {
   "cell_type": "code",
   "execution_count": 22,
   "metadata": {},
   "outputs": [],
   "source": [
    "advert = nl.Article('https://www.wu.com/wuagents', \n",
    "                    img_url='https://mcusercontent.com/8d91be20c499dcf471d03d2d1/images/9ee76107-70aa-4852-ffb7-9d45f04df6ba.png')"
   ]
  },
  {
   "cell_type": "code",
   "execution_count": 13,
   "metadata": {
    "collapsed": true
   },
   "outputs": [
    {
     "name": "stdout",
     "output_type": "stream",
     "text": [
      "Help on class Content in module pynewsletter.content_script:\n",
      "\n",
      "class Content(Article)\n",
      " |  Content(article_url_list, video_url_list, video_page_url=None, advert=None)\n",
      " |  \n",
      " |  Method resolution order:\n",
      " |      Content\n",
      " |      Article\n",
      " |      builtins.object\n",
      " |  \n",
      " |  Methods defined here:\n",
      " |  \n",
      " |  __init__(self, article_url_list, video_url_list, video_page_url=None, advert=None)\n",
      " |      Initialize self.  See help(type(self)) for accurate signature.\n",
      " |  \n",
      " |  ----------------------------------------------------------------------\n",
      " |  Data descriptors inherited from Article:\n",
      " |  \n",
      " |  __dict__\n",
      " |      dictionary for instance variables (if defined)\n",
      " |  \n",
      " |  __weakref__\n",
      " |      list of weak references to the object (if defined)\n",
      " |  \n",
      " |  img_url\n",
      " |  \n",
      " |  label\n",
      " |  \n",
      " |  preview_text\n",
      " |  \n",
      " |  tag\n",
      " |  \n",
      " |  title\n",
      " |  \n",
      " |  url\n",
      "\n"
     ]
    }
   ],
   "source": [
    "help(nl.Content)"
   ]
  },
  {
   "cell_type": "code",
   "execution_count": 23,
   "metadata": {},
   "outputs": [],
   "source": [
    "source_content = nl.Content(article_url_list, video_url_list, video_page_url=video_page_url, advert=None)"
   ]
  },
  {
   "cell_type": "code",
   "execution_count": 24,
   "metadata": {
    "scrolled": true
   },
   "outputs": [
    {
     "name": "stdout",
     "output_type": "stream",
     "text": [
      "打擊偷渡不利 英國邊境部隊面臨徹底改革\n",
      "移民新聞\n",
      "None\n",
      "近日，非法移民偷渡英吉利海峽的情況絲毫沒有減弱，這種情況促使內政大臣帕特爾（Priti Patel）決定徹底改革英國的邊境部隊。英國還計劃把尋求避難者送到非洲處理他們的申請。\n",
      "\n",
      "7.1倫敦集會 海外港人心繫香港 齊聚唐人街聲援\n",
      "國際\n",
      "None\n",
      "今年7月1日，全英國逾10個城市舉行7.1集會，首都倫敦繼中使館外的集會後，「港援」（Hong Kong Aid）接力於倫敦唐人街華埠牌坊舉行聲援港人活動，於現場或透過影片發表演說的有前港督彭定康、梁頌恒、許智峯、劉祖迪、羅冠聰及陳凱興等。\n",
      "\n",
      "英國央行預計通貨膨脹率可能會達到3%\n",
      "經濟新聞\n",
      "None\n",
      "英格蘭銀行預計，隨著英國的解封和經濟的復甦，通貨膨脹率可能會一直上漲到3%，甚至更高。但是銀行決定基準利率仍保持在0.1%的歷史最低點。\n",
      "\n",
      "擔心疫情 歐洲一些國家對英國遊客設限\n",
      "社會新聞\n",
      "None\n",
      "近日，英國政府打算放寬本國遊客去海外度假的限制，但是歐洲大陸一些國家因為擔心英國的印度變種病毒疫情而打算對英國的遊客施加一些限制。\n",
      "\n"
     ]
    }
   ],
   "source": [
    "for article in source_content.article_list:\n",
    "    print(article.title)\n",
    "    print(article.tag)\n",
    "    print(article.label)\n",
    "    print(article.preview_text)\n",
    "    print()"
   ]
  },
  {
   "cell_type": "code",
   "execution_count": 6,
   "metadata": {},
   "outputs": [],
   "source": [
    "source_content.article_list[0].img_url = 'https://i.epochtimes.com/assets/uploads/2021/06/id13000951-GettyImages-1233263048-600x400.jpg'"
   ]
  },
  {
   "cell_type": "code",
   "execution_count": 55,
   "metadata": {},
   "outputs": [],
   "source": [
    "source_content.article_list[3].preview_text = '為強化延攬外國專業人才，台立法院18日三讀通過《外國專業人才延攬及僱用法（攬才專法）》修正案，公告全球頂尖大學畢業生來台工作，得免除2年工作經驗，並延長特定專業人才租稅優惠。'"
   ]
  },
  {
   "cell_type": "code",
   "execution_count": 5,
   "metadata": {},
   "outputs": [],
   "source": [
    "# source_content.article_list[0].title = '疫情导致去年英国经济缩水创300年记录'"
   ]
  },
  {
   "cell_type": "code",
   "execution_count": 25,
   "metadata": {
    "scrolled": true
   },
   "outputs": [
    {
     "name": "stdout",
     "output_type": "stream",
     "text": [
      "【財商天下】動力電池污染 新能源汽車致命傷\n",
      "財商天下\n",
      "近年來，大陸的新能源汽車發展迅速，中國新能源汽車的生產和銷售已經連續六年全球第一，累計銷售超過了550萬輛。但是，新能源汽車的快速發展，卻伴隨著一個堪稱災難性的問題，那就是每輛車上那幾百公斤的電池將來要怎麼辦？\n",
      "https://i.epochtimes.com/assets/uploads/2021/07/id13065360-0703_1200x8001-600x400.jpg\n",
      "\n",
      "【馬克時空】精確制導炸彈 現代戰爭的寵兒\n",
      "軍事天地\n",
      "精確制導炸彈已是現代戰爭中最主要的武器之一，今天來談談精確制導炸彈（精確導引炸彈），包括電視制導炸彈、激光制導炸彈（雷射導引炸彈）和多模式混合制導炸彈－－聯合直接攻擊炸彈（Joint Direct Attack Munition, JDAM）和雷射導引聯合直接攻擊炸彈（Laser Joint Direct Attack Munition, LJDAM）。\n",
      "https://i.epochtimes.com/assets/uploads/2021/07/id13065396-c6371c6b61c8917bd3a0b3c45ac1f54c-600x400.jpg\n",
      "\n",
      "【拍案驚奇】習胡合作事未完 薄熙來弟上天安門\n",
      "新聞拍案驚奇\n",
      "大家好，歡迎收看《新聞拍案驚奇》，我是大宇。\n",
      "https://i.epochtimes.com/assets/uploads/2021/07/id13066112-ebc9ba94872013f3e3bfcd003d1fb6b4-600x400.jpg\n",
      "\n",
      "【未解之謎】唐山大地震生還者的瀕死體驗\n",
      "瀕死體驗\n",
      "大家好，我是扶搖。\n",
      "https://i.epochtimes.com/assets/uploads/2021/07/id13061603-1200x800-320x200.jpg\n",
      "\n"
     ]
    }
   ],
   "source": [
    "for article in source_content.video_list:\n",
    "    try:\n",
    "        print(article.title)\n",
    "        print(article.tag)\n",
    "        print(article.preview_text)\n",
    "        print(article.img_url)\n",
    "        print()\n",
    "    except:\n",
    "        pass"
   ]
  },
  {
   "cell_type": "code",
   "execution_count": 56,
   "metadata": {},
   "outputs": [],
   "source": [
    "source_content.video_list[1].img_url = 'https://i.ntdtv.com/assets/uploads/2021/06/maxresdefault-4-3-360x202.jpg'"
   ]
  },
  {
   "cell_type": "code",
   "execution_count": 10,
   "metadata": {},
   "outputs": [],
   "source": [
    "source_content.video_list[3].img_url = 'https://i.ntdtv.com/assets/uploads/2021/06/thumbnail_d-966-192x108.jpg'"
   ]
  },
  {
   "cell_type": "code",
   "execution_count": 26,
   "metadata": {},
   "outputs": [
    {
     "name": "stdout",
     "output_type": "stream",
     "text": [
      "https://i.epochtimes.com/assets/uploads/2021/07/id13065360-0703_1200x8001-600x400.jpg\n",
      "https://i.epochtimes.com/assets/uploads/2021/07/id13065396-c6371c6b61c8917bd3a0b3c45ac1f54c-600x400.jpg\n",
      "https://i.epochtimes.com/assets/uploads/2021/07/id13066112-ebc9ba94872013f3e3bfcd003d1fb6b4-600x400.jpg\n",
      "https://i.epochtimes.com/assets/uploads/2021/07/id13061603-1200x800-320x200.jpg\n"
     ]
    }
   ],
   "source": [
    "for video in source_content.video_list:\n",
    "    print(video.img_url)"
   ]
  },
  {
   "cell_type": "code",
   "execution_count": 27,
   "metadata": {},
   "outputs": [],
   "source": [
    "newsletter = nl.Jinja_Template()"
   ]
  },
  {
   "cell_type": "code",
   "execution_count": 28,
   "metadata": {},
   "outputs": [
    {
     "name": "stdout",
     "output_type": "stream",
     "text": [
      "newsletter rendered at: ../Exported HTML/rendered_newsletter.html\n"
     ]
    }
   ],
   "source": [
    "newsletter.render(source_content)"
   ]
  },
  {
   "cell_type": "code",
   "execution_count": 29,
   "metadata": {},
   "outputs": [],
   "source": [
    "newsletter.preview()"
   ]
  },
  {
   "cell_type": "markdown",
   "metadata": {},
   "source": [
    "# Connect to MailChimp"
   ]
  },
  {
   "cell_type": "markdown",
   "metadata": {},
   "source": [
    "## Test Campaign"
   ]
  },
  {
   "cell_type": "code",
   "execution_count": 30,
   "metadata": {},
   "outputs": [],
   "source": [
    "mailchimp_config_test = {\n",
    "    \"API_KEY\": cf.mailchimp_config_test.API_KEY,\n",
    "    \"template_id\": cf.mailchimp_config_test.template_id,\n",
    "    \"segment_id\": cf.mailchimp_config_test.segment_id, # recipients\n",
    "    \"list_id\": cf.mailchimp_config_test.list_id # members list\n",
    "}"
   ]
  },
  {
   "cell_type": "markdown",
   "metadata": {},
   "source": [
    "### Create MailChimp campaign"
   ]
  },
  {
   "cell_type": "code",
   "execution_count": 31,
   "metadata": {},
   "outputs": [],
   "source": [
    "test_campaign = nl.MailChimp_Campaign(newsletter, mailchimp_config_test, \n",
    "                                   from_name=cf.mailchimp_compaign.from_name, \n",
    "                                   reply_to=cf.mailchimp_compaign.reply_to)"
   ]
  },
  {
   "cell_type": "code",
   "execution_count": 32,
   "metadata": {},
   "outputs": [
    {
     "name": "stdout",
     "output_type": "stream",
     "text": [
      "MailChimp account connected!\n",
      "Template updated at: 2021-07-04T14:36:55+00:00\n",
      "recipients specified.\n",
      "Campaign created successfully!\n"
     ]
    }
   ],
   "source": [
    "test_campaign.create()"
   ]
  },
  {
   "cell_type": "code",
   "execution_count": 33,
   "metadata": {},
   "outputs": [
    {
     "data": {
      "text/plain": [
       "<Response [204]>"
      ]
     },
     "execution_count": 33,
     "metadata": {},
     "output_type": "execute_result"
    }
   ],
   "source": [
    "test_campaign.send()"
   ]
  },
  {
   "cell_type": "markdown",
   "metadata": {},
   "source": [
    "## Real Campaign"
   ]
  },
  {
   "cell_type": "code",
   "execution_count": 34,
   "metadata": {},
   "outputs": [],
   "source": [
    "mailchimp_config_real = {\n",
    "    \"API_KEY\": cf.mailchimp_config_real.API_KEY,\n",
    "    \"template_id\": cf.mailchimp_config_real.template_id,\n",
    "    \"segment_id\": cf.mailchimp_config_real.segment_id, # recipients\n",
    "    \"list_id\": cf.mailchimp_config_real.list_id # members list\n",
    "}"
   ]
  },
  {
   "cell_type": "code",
   "execution_count": 35,
   "metadata": {},
   "outputs": [],
   "source": [
    "real_campaign = nl.MailChimp_Campaign(newsletter, mailchimp_config_real, \n",
    "                                   from_name=cf.mailchimp_compaign.from_name, \n",
    "                                   reply_to=cf.mailchimp_compaign.reply_to)"
   ]
  },
  {
   "cell_type": "code",
   "execution_count": 36,
   "metadata": {
    "scrolled": true
   },
   "outputs": [
    {
     "name": "stdout",
     "output_type": "stream",
     "text": [
      "MailChimp account connected!\n",
      "Template updated at: 2021-07-04T14:37:09+00:00\n",
      "recipients specified.\n",
      "Campaign created successfully!\n"
     ]
    }
   ],
   "source": [
    "real_campaign.create()"
   ]
  },
  {
   "cell_type": "code",
   "execution_count": 37,
   "metadata": {},
   "outputs": [
    {
     "data": {
      "text/plain": [
       "<Response [204]>"
      ]
     },
     "execution_count": 37,
     "metadata": {},
     "output_type": "execute_result"
    }
   ],
   "source": [
    "real_campaign.send()"
   ]
  },
  {
   "cell_type": "markdown",
   "metadata": {},
   "source": [
    "## Drafts"
   ]
  },
  {
   "cell_type": "code",
   "execution_count": 200,
   "metadata": {
    "code_folding": []
   },
   "outputs": [],
   "source": [
    "# define article tag\n",
    "tag_list = ['英国新闻', '英国新闻', '英国新闻', '英国新闻']\n",
    "\n",
    "for index in range(len(tag_list)):\n",
    "    article_list[index].tag = tag_list[index]\n",
    "    \n",
    "# article_list[0].img_url = 'https://i.epochtimes.com/assets/uploads/2020/12/2012112056442124.jpg'"
   ]
  }
 ],
 "metadata": {
  "kernelspec": {
   "display_name": "Python 3",
   "language": "python",
   "name": "python3"
  },
  "language_info": {
   "codemirror_mode": {
    "name": "ipython",
    "version": 3
   },
   "file_extension": ".py",
   "mimetype": "text/x-python",
   "name": "python",
   "nbconvert_exporter": "python",
   "pygments_lexer": "ipython3",
   "version": "3.7.4"
  }
 },
 "nbformat": 4,
 "nbformat_minor": 2
}
