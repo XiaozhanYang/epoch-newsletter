{
 "cells": [
  {
   "cell_type": "code",
   "execution_count": 3,
   "metadata": {},
   "outputs": [],
   "source": [
    "import pynewsletter as nl\n",
    "from datetime import date\n",
    "import config as cf\n",
    "import importlib\n",
    "cf = importlib.reload(cf)\n",
    "nl = importlib.reload(nl)"
   ]
  },
  {
   "cell_type": "markdown",
   "metadata": {},
   "source": [
    "# Processing Part"
   ]
  },
  {
   "cell_type": "code",
   "execution_count": 1,
   "metadata": {},
   "outputs": [],
   "source": [
    "article_url_list = ['https://www.epochtimes.com/b5/21/9/23/n13256186.htm',\n",
    "                    'https://www.epochtimes.com/b5/21/9/23/n13256173.htm',\n",
    "                    'https://www.epochtimes.com/b5/21/9/24/n13257690.htm',\n",
    "                    'https://www.epochtimes.com/b5/21/9/21/n13250703.htm']\n",
    "\n",
    "video_url_list = ['https://www.epochtimes.com/gb/21/9/25/n13259312.htm',\n",
    "                  'https://www.epochtimes.com/gb/21/9/25/n13259836.htm',\n",
    "                  'https://www.epochtimes.com/gb/21/9/24/n13258734.htm',\n",
    "                  'https://www.epochtimes.com/gb/21/9/24/n13258671.htm']\n",
    "\n",
    "video_page_url = 'https://www.epochtimes.com/gb/ncid1247351.htm'"
   ]
  },
  {
   "cell_type": "code",
   "execution_count": 22,
   "metadata": {},
   "outputs": [],
   "source": [
    "advert = nl.Article('https://www.wu.com/wuagents', \n",
    "                    img_url='https://mcusercontent.com/8d91be20c499dcf471d03d2d1/images/9ee76107-70aa-4852-ffb7-9d45f04df6ba.png')"
   ]
  },
  {
   "cell_type": "code",
   "execution_count": 13,
   "metadata": {
    "collapsed": true
   },
   "outputs": [
    {
     "name": "stdout",
     "output_type": "stream",
     "text": [
      "Help on class Content in module pynewsletter.content_script:\n",
      "\n",
      "class Content(Article)\n",
      " |  Content(article_url_list, video_url_list, video_page_url=None, advert=None)\n",
      " |  \n",
      " |  Method resolution order:\n",
      " |      Content\n",
      " |      Article\n",
      " |      builtins.object\n",
      " |  \n",
      " |  Methods defined here:\n",
      " |  \n",
      " |  __init__(self, article_url_list, video_url_list, video_page_url=None, advert=None)\n",
      " |      Initialize self.  See help(type(self)) for accurate signature.\n",
      " |  \n",
      " |  ----------------------------------------------------------------------\n",
      " |  Data descriptors inherited from Article:\n",
      " |  \n",
      " |  __dict__\n",
      " |      dictionary for instance variables (if defined)\n",
      " |  \n",
      " |  __weakref__\n",
      " |      list of weak references to the object (if defined)\n",
      " |  \n",
      " |  img_url\n",
      " |  \n",
      " |  label\n",
      " |  \n",
      " |  preview_text\n",
      " |  \n",
      " |  tag\n",
      " |  \n",
      " |  title\n",
      " |  \n",
      " |  url\n",
      "\n"
     ]
    }
   ],
   "source": [
    "help(nl.Content)"
   ]
  },
  {
   "cell_type": "code",
   "execution_count": 4,
   "metadata": {},
   "outputs": [],
   "source": [
    "source_content = nl.Content(article_url_list, video_url_list, video_page_url=video_page_url, advert=None)"
   ]
  },
  {
   "cell_type": "code",
   "execution_count": 5,
   "metadata": {
    "scrolled": true
   },
   "outputs": [
    {
     "name": "stdout",
     "output_type": "stream",
     "text": [
      "英國簡化國際旅行規定\n",
      "社會新聞\n",
      "None\n",
      "英國政府宣布，10月初開始修改國際旅行規定，簡化國際旅行的信號燈系統，取消黃燈國家名單，保留紅燈和綠燈國家名單。英國人去大部份國家旅行回國後都不需要酒店隔離。\n",
      "\n",
      "聖安德魯斯大學首次英國排名第一\n",
      "教育新聞\n",
      "None\n",
      "英國《泰晤士報》近日公布的2022年《英國優秀大學指南》（Good University Guide）顯示，蘇格蘭的聖安德魯斯大學首次超過牛津和劍橋成為英國最好的大學，主要原因是這所學校的學生對於大學在疫情期間提供的課程比較滿意。\n",
      "\n",
      "英國國民保險加稅計畫詳解\n",
      "英倫生活\n",
      "None\n",
      "英國政府計劃通過加稅來解決由來已久的公費醫療經費不足和社會養老問題。提議已經獲得議會的初步同意，但是這個做法很有爭議。\n",
      "\n",
      "大學吸引力──Aura：在劍橋找到最棒的城市與鄉村生活\n",
      "新樓盤\n",
      "None\n",
      "作為一座城市，劍橋一直都是嚮往小城生活的人們的首選，這裡的生活方式──從優質餐廳和酒吧，到令人念念不忘的歷史遺跡，都常常被拿來與倫敦相提並論。現在，隨著越來越多的人想在首都以外定居、學習或工作，人們的目光已轉向劍橋。\n",
      "\n"
     ]
    }
   ],
   "source": [
    "for article in source_content.article_list:\n",
    "    print(article.title)\n",
    "    print(article.tag)\n",
    "    print(article.label)\n",
    "    print(article.preview_text)\n",
    "    print()"
   ]
  },
  {
   "cell_type": "code",
   "execution_count": 12,
   "metadata": {},
   "outputs": [],
   "source": [
    "source_content.article_list[0].img_url = 'https://i.epochtimes.com/assets/uploads/2021/07/id13111863-GettyImages-1330201450.jpg'"
   ]
  },
  {
   "cell_type": "code",
   "execution_count": 16,
   "metadata": {},
   "outputs": [],
   "source": [
    "source_content.article_list[2].preview_text = '馬來西亞海軍與英國海軍共同演習，英國航母正式進入了南海。中共的「山東號」航母早已配屬在海南三亞，應該不敢與美軍航母對峙或對戰，那麼是否與英國的「伊麗莎白女王號」航母有一拼呢？'"
   ]
  },
  {
   "cell_type": "code",
   "execution_count": 17,
   "metadata": {},
   "outputs": [],
   "source": [
    "source_content.article_list[3].preview_text = '近日英國議會的報告警告，英國應對中共病毒疫情耗資巨大，這些費用可能需要「幾十年」的時間才能還清。這意味著英國的納稅人將在「未來幾十年裡面臨顯著的經濟風險」。'"
   ]
  },
  {
   "cell_type": "code",
   "execution_count": 6,
   "metadata": {},
   "outputs": [],
   "source": [
    "# source_content.article_list[0].title = '疫情导致去年英国经济缩水创300年记录'"
   ]
  },
  {
   "cell_type": "code",
   "execution_count": 6,
   "metadata": {
    "scrolled": true
   },
   "outputs": [
    {
     "name": "stdout",
     "output_type": "stream",
     "text": [
      "【拍案驚奇】法重磅報告揭中共老底 數十媒體轉發\n",
      "新聞拍案驚奇\n",
      "大家好，歡迎收看《新聞拍案驚奇》，我是大宇。今天我加播一期節目，因為白天有事，製作時間比較短促，我是有稿件的，但來不及錄了，也來不及剪輯，咱們今天啊，就用這種直播的方式，跟大家分享。\n",
      "https://i.epochtimes.com/assets/uploads/2021/09/id13259314-aa6daf64fe45f51eaef6519bd5666289-600x400.jpg\n",
      "\n",
      "【十字路口】孟晚舟獲釋 美放棄引渡藏戰略目的\n",
      "世界的十字路口\n",
      "大家好，我是唐浩，今天都好嗎？\n",
      "https://i.epochtimes.com/assets/uploads/2021/09/id13259838-278e191d90e84fa038ccbcab13979ddd-600x400.jpg\n",
      "\n",
      "【新聞看點】美4動作踩紅線 戰狼嘆「回不去了」\n",
      "新聞看點\n",
      "大家好，歡迎大家關注《新聞看點》，我是李沐陽。今天是美東時間9月24日（星期五），亞洲時間是9月25日（星期六）。\n",
      "https://i.epochtimes.com/assets/uploads/2021/09/id13258867-0925-DJY-600x400.jpg\n",
      "\n",
      "【古韻流芳】陸游《釵頭鳳》感人肺腑相思意\n",
      "宋詞\n",
      "南宋初年，就有這麼一對年輕的夫妻，原本才華相當、兩心相許，但不過兩三年，丈夫迫於母親的壓力，不得不與妻子離婚，多年來兩人音訊全無。某一天，丈夫在一座「沈園」遊賞，偶然遇到了前妻和她現在的丈夫。\n",
      "https://i.epochtimes.com/assets/uploads/2021/09/id13258692-24-WZ-600x400.jpg\n",
      "\n"
     ]
    }
   ],
   "source": [
    "for article in source_content.video_list:\n",
    "    try:\n",
    "        print(article.title)\n",
    "        print(article.tag)\n",
    "        print(article.preview_text)\n",
    "        print(article.img_url)\n",
    "        print()\n",
    "    except:\n",
    "        pass"
   ]
  },
  {
   "cell_type": "code",
   "execution_count": 56,
   "metadata": {},
   "outputs": [],
   "source": [
    "source_content.video_list[1].img_url = 'https://i.ntdtv.com/assets/uploads/2021/06/maxresdefault-4-3-360x202.jpg'"
   ]
  },
  {
   "cell_type": "code",
   "execution_count": 10,
   "metadata": {},
   "outputs": [],
   "source": [
    "source_content.video_list[3].img_url = 'https://i.ntdtv.com/assets/uploads/2021/06/thumbnail_d-966-192x108.jpg'"
   ]
  },
  {
   "cell_type": "code",
   "execution_count": 7,
   "metadata": {},
   "outputs": [
    {
     "name": "stdout",
     "output_type": "stream",
     "text": [
      "https://i.epochtimes.com/assets/uploads/2021/09/id13259314-aa6daf64fe45f51eaef6519bd5666289-600x400.jpg\n",
      "https://i.epochtimes.com/assets/uploads/2021/09/id13259838-278e191d90e84fa038ccbcab13979ddd-600x400.jpg\n",
      "https://i.epochtimes.com/assets/uploads/2021/09/id13258867-0925-DJY-600x400.jpg\n",
      "https://i.epochtimes.com/assets/uploads/2021/09/id13258692-24-WZ-600x400.jpg\n"
     ]
    }
   ],
   "source": [
    "for video in source_content.video_list:\n",
    "    print(video.img_url)"
   ]
  },
  {
   "cell_type": "code",
   "execution_count": 8,
   "metadata": {},
   "outputs": [],
   "source": [
    "newsletter = nl.Jinja_Template()"
   ]
  },
  {
   "cell_type": "code",
   "execution_count": 9,
   "metadata": {},
   "outputs": [
    {
     "name": "stdout",
     "output_type": "stream",
     "text": [
      "newsletter rendered at: ../Exported HTML/rendered_newsletter.html\n"
     ]
    }
   ],
   "source": [
    "newsletter.render(source_content)"
   ]
  },
  {
   "cell_type": "code",
   "execution_count": 10,
   "metadata": {},
   "outputs": [],
   "source": [
    "newsletter.preview()"
   ]
  },
  {
   "cell_type": "markdown",
   "metadata": {},
   "source": [
    "# Connect to MailChimp"
   ]
  },
  {
   "cell_type": "markdown",
   "metadata": {},
   "source": [
    "## Test Campaign"
   ]
  },
  {
   "cell_type": "code",
   "execution_count": 11,
   "metadata": {},
   "outputs": [],
   "source": [
    "mailchimp_config_test = {\n",
    "    \"API_KEY\": cf.mailchimp_config_test.API_KEY,\n",
    "    \"template_id\": cf.mailchimp_config_test.template_id,\n",
    "    \"segment_id\": cf.mailchimp_config_test.segment_id, # recipients\n",
    "    \"list_id\": cf.mailchimp_config_test.list_id # members list\n",
    "}"
   ]
  },
  {
   "cell_type": "markdown",
   "metadata": {},
   "source": [
    "### Create MailChimp campaign"
   ]
  },
  {
   "cell_type": "code",
   "execution_count": 12,
   "metadata": {},
   "outputs": [],
   "source": [
    "test_campaign = nl.MailChimp_Campaign(newsletter, mailchimp_config_test, \n",
    "                                   from_name=cf.mailchimp_compaign.from_name, \n",
    "                                   reply_to=cf.mailchimp_compaign.reply_to)"
   ]
  },
  {
   "cell_type": "code",
   "execution_count": 13,
   "metadata": {},
   "outputs": [
    {
     "name": "stdout",
     "output_type": "stream",
     "text": [
      "MailChimp account connected!\n",
      "Template updated at: 2021-09-25T17:24:20+00:00\n",
      "recipients specified.\n",
      "Campaign created successfully!\n"
     ]
    }
   ],
   "source": [
    "test_campaign.create()"
   ]
  },
  {
   "cell_type": "code",
   "execution_count": 14,
   "metadata": {},
   "outputs": [
    {
     "data": {
      "text/plain": [
       "<Response [204]>"
      ]
     },
     "execution_count": 14,
     "metadata": {},
     "output_type": "execute_result"
    }
   ],
   "source": [
    "test_campaign.send()"
   ]
  },
  {
   "cell_type": "markdown",
   "metadata": {},
   "source": [
    "## Real Campaign"
   ]
  },
  {
   "cell_type": "code",
   "execution_count": 15,
   "metadata": {},
   "outputs": [],
   "source": [
    "mailchimp_config_real = {\n",
    "    \"API_KEY\": cf.mailchimp_config_real.API_KEY,\n",
    "    \"template_id\": cf.mailchimp_config_real.template_id,\n",
    "    \"segment_id\": cf.mailchimp_config_real.segment_id, # recipients\n",
    "    \"list_id\": cf.mailchimp_config_real.list_id # members list\n",
    "}"
   ]
  },
  {
   "cell_type": "code",
   "execution_count": 16,
   "metadata": {},
   "outputs": [],
   "source": [
    "real_campaign = nl.MailChimp_Campaign(newsletter, mailchimp_config_real, \n",
    "                                   from_name=cf.mailchimp_compaign.from_name, \n",
    "                                   reply_to=cf.mailchimp_compaign.reply_to)"
   ]
  },
  {
   "cell_type": "code",
   "execution_count": 17,
   "metadata": {
    "scrolled": true
   },
   "outputs": [
    {
     "name": "stdout",
     "output_type": "stream",
     "text": [
      "MailChimp account connected!\n",
      "Template updated at: 2021-09-25T17:24:36+00:00\n",
      "recipients specified.\n",
      "Campaign created successfully!\n"
     ]
    }
   ],
   "source": [
    "real_campaign.create()"
   ]
  },
  {
   "cell_type": "code",
   "execution_count": 18,
   "metadata": {},
   "outputs": [
    {
     "data": {
      "text/plain": [
       "<Response [204]>"
      ]
     },
     "execution_count": 18,
     "metadata": {},
     "output_type": "execute_result"
    }
   ],
   "source": [
    "real_campaign.send()"
   ]
  },
  {
   "cell_type": "markdown",
   "metadata": {},
   "source": [
    "## Drafts"
   ]
  },
  {
   "cell_type": "code",
   "execution_count": 200,
   "metadata": {
    "code_folding": []
   },
   "outputs": [],
   "source": [
    "# define article tag\n",
    "tag_list = ['英国新闻', '英国新闻', '英国新闻', '英国新闻']\n",
    "\n",
    "for index in range(len(tag_list)):\n",
    "    article_list[index].tag = tag_list[index]\n",
    "    \n",
    "# article_list[0].img_url = 'https://i.epochtimes.com/assets/uploads/2020/12/2012112056442124.jpg'"
   ]
  }
 ],
 "metadata": {
  "kernelspec": {
   "display_name": "Python 3",
   "language": "python",
   "name": "python3"
  },
  "language_info": {
   "codemirror_mode": {
    "name": "ipython",
    "version": 3
   },
   "file_extension": ".py",
   "mimetype": "text/x-python",
   "name": "python",
   "nbconvert_exporter": "python",
   "pygments_lexer": "ipython3",
   "version": "3.7.4"
  }
 },
 "nbformat": 4,
 "nbformat_minor": 2
}
