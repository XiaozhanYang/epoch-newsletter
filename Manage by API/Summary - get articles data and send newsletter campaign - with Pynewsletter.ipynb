{
 "cells": [
  {
   "cell_type": "code",
   "execution_count": 1,
   "metadata": {},
   "outputs": [],
   "source": [
    "import pynewsletter as nl\n",
    "from datetime import date\n",
    "import config as cf\n",
    "import importlib\n",
    "cf = importlib.reload(cf)\n",
    "nl = importlib.reload(nl)"
   ]
  },
  {
   "cell_type": "markdown",
   "metadata": {},
   "source": [
    "# Processing Part"
   ]
  },
  {
   "cell_type": "code",
   "execution_count": 2,
   "metadata": {},
   "outputs": [],
   "source": [
    "article_url_list = ['https://www.epochtimes.com/b5/21/5/27/n12980341.htm',\n",
    "                    'https://www.epochtimes.com/b5/21/5/27/n12980264.htm',\n",
    "                    'https://www.epochtimes.com/b5/21/5/28/n12981990.htm',\n",
    "                    'https://www.epochtimes.com/b5/21/5/27/n12980233.htm']\n",
    "\n",
    "video_url_list = ['https://www.ntdtv.com/b5/2021/05/29/a103130228.html',\n",
    "                  'https://www.epochtimes.com/b5/21/5/28/n12981371.htm',\n",
    "                  'https://www.epochtimes.com/b5/21/5/28/n12983334.htm',\n",
    "                  'https://www.ntdtv.com/b5/2021/05/28/a103129745.html']\n",
    "\n",
    "video_page_url = 'https://www.epochtimes.com/gb/ncid1247351.htm'"
   ]
  },
  {
   "cell_type": "code",
   "execution_count": 3,
   "metadata": {},
   "outputs": [],
   "source": [
    "source_content = nl.Content(article_url_list, video_url_list, video_page_url=video_page_url)"
   ]
  },
  {
   "cell_type": "code",
   "execution_count": 4,
   "metadata": {
    "scrolled": true
   },
   "outputs": [
    {
     "name": "stdout",
     "output_type": "stream",
     "text": [
      "黛安娜採訪醜聞 BBC面臨整肅\n",
      "社會新聞\n",
      "None\n",
      "黛安娜採訪醜聞的揭開，讓外界看到了BBC的管理層在其中掩蓋真相的活動，因此BBC將不可避免地面臨一些整肅，甚至可能是徹底整肅。\n",
      "\n",
      "慶祝解封 英國人上個週末消費12億鎊\n",
      "社會新聞\n",
      "None\n",
      "上週一（5月17日）開始，英格蘭允許人們到餐館、酒吧內消費，許多人在週末的時候湧入餐飲場所。據估計，這個週末英國人一個在這些場所消費了12億鎊。\n",
      "\n",
      "組圖：倫敦昔日拘留所改警察博物館對外開放\n",
      "軟性新聞\n",
      "None\n",
      "英國倫敦一間廢棄的警察局經過改造後，如今成為「弓街警察博物館」（Bow Street Police Museum），即昔日的拘留所也對民眾開放。\n",
      "\n",
      "2021年英國富豪排名 戴森退居第四位\n",
      "社會新聞\n",
      "None\n",
      "《星期日泰晤士報》近日公佈了英國最新的富豪排名，去年高居榜首的英國本土富豪戴森（James Dyson）今年排名第四。\n",
      "\n"
     ]
    }
   ],
   "source": [
    "for article in source_content.article_list:\n",
    "    print(article.title)\n",
    "    print(article.tag)\n",
    "    print(article.label)\n",
    "    print(article.preview_text)\n",
    "    print()"
   ]
  },
  {
   "cell_type": "code",
   "execution_count": 5,
   "metadata": {},
   "outputs": [],
   "source": [
    "# source_content.article_list[0].title = '疫情导致去年英国经济缩水创300年记录'"
   ]
  },
  {
   "cell_type": "code",
   "execution_count": 5,
   "metadata": {
    "scrolled": true
   },
   "outputs": [
    {
     "name": "stdout",
     "output_type": "stream",
     "text": [
      "\n",
      "【熱點互動】專訪王琛：神韻特別節目網絡首播帶來驚喜\n",
      "\n",
      "【拍案驚奇】新華社報官員沒錢了 廣州疫情嚴重\n",
      "新聞拍案驚奇\n",
      "大家好，歡迎收看《新聞拍案驚奇》，我是大宇。\n",
      "https://i.epochtimes.com/assets/uploads/2021/05/id12981426-29dbefd865c9bcdcd38f1da0b3909ab1-600x400.jpg\n",
      "\n",
      "【秦鵬直播】中國科學家起義？論文打臉石正麗\n",
      "每日新聞\n",
      "觀眾朋友大家好，今天是美東時間的5月28日，北京港台時間的5月29日。今天我和Iris一起來為大家做這一期節目。\n",
      "https://i.epochtimes.com/assets/uploads/2021/05/id12983387-1200-800-600x400.jpg\n",
      "\n",
      "【時事小品】文革2.0的好時代\n",
      "時事小品\n"
     ]
    }
   ],
   "source": [
    "for article in source_content.video_list:\n",
    "    try:\n",
    "        print(article.title)\n",
    "        print(article.tag)\n",
    "        print(article.preview_text)\n",
    "        print(article.img_url)\n",
    "        print()\n",
    "    except:\n",
    "        pass"
   ]
  },
  {
   "cell_type": "code",
   "execution_count": 6,
   "metadata": {},
   "outputs": [],
   "source": [
    "source_content.video_list[0].img_url = 'https://i.ntdtv.com/assets/uploads/2021/05/maxresdefault-70-800x450.jpg'"
   ]
  },
  {
   "cell_type": "code",
   "execution_count": 7,
   "metadata": {},
   "outputs": [],
   "source": [
    "source_content.video_list[3].img_url = 'https://i.ntdtv.com/assets/uploads/2021/05/maxresdefault-1-46-192x108.jpg'"
   ]
  },
  {
   "cell_type": "code",
   "execution_count": 8,
   "metadata": {},
   "outputs": [
    {
     "name": "stdout",
     "output_type": "stream",
     "text": [
      "https://i.ntdtv.com/assets/uploads/2021/05/maxresdefault-70-800x450.jpg\n",
      "https://i.epochtimes.com/assets/uploads/2021/05/id12981426-29dbefd865c9bcdcd38f1da0b3909ab1-600x400.jpg\n",
      "https://i.epochtimes.com/assets/uploads/2021/05/id12983387-1200-800-600x400.jpg\n",
      "https://i.ntdtv.com/assets/uploads/2021/05/maxresdefault-1-46-192x108.jpg\n"
     ]
    }
   ],
   "source": [
    "for video in source_content.video_list:\n",
    "    print(video.img_url)"
   ]
  },
  {
   "cell_type": "code",
   "execution_count": 9,
   "metadata": {},
   "outputs": [],
   "source": [
    "newsletter = nl.Jinja_Template()"
   ]
  },
  {
   "cell_type": "code",
   "execution_count": 10,
   "metadata": {},
   "outputs": [
    {
     "name": "stdout",
     "output_type": "stream",
     "text": [
      "newsletter rendered at: ../Exported HTML/rendered_newsletter.html\n"
     ]
    }
   ],
   "source": [
    "newsletter.render(source_content)"
   ]
  },
  {
   "cell_type": "code",
   "execution_count": 11,
   "metadata": {},
   "outputs": [],
   "source": [
    "newsletter.preview()"
   ]
  },
  {
   "cell_type": "markdown",
   "metadata": {},
   "source": [
    "# Connect to MailChimp"
   ]
  },
  {
   "cell_type": "markdown",
   "metadata": {},
   "source": [
    "## Test Campaign"
   ]
  },
  {
   "cell_type": "code",
   "execution_count": 12,
   "metadata": {},
   "outputs": [],
   "source": [
    "mailchimp_config_test = {\n",
    "    \"API_KEY\": cf.mailchimp_config_test.API_KEY,\n",
    "    \"template_id\": cf.mailchimp_config_test.template_id,\n",
    "    \"segment_id\": cf.mailchimp_config_test.segment_id, # recipients\n",
    "    \"list_id\": cf.mailchimp_config_test.list_id # members list\n",
    "}"
   ]
  },
  {
   "cell_type": "code",
   "execution_count": 13,
   "metadata": {},
   "outputs": [
    {
     "data": {
      "text/plain": [
       "<module 'pynewsletter' from '/Users/codyyang/Desktop/Dafa Projects/Epoch Times/Epoch Times Newsletters/20201024 - Template Design.git/Manage by API/pynewsletter/__init__.py'>"
      ]
     },
     "execution_count": 13,
     "metadata": {},
     "output_type": "execute_result"
    }
   ],
   "source": [
    "nl"
   ]
  },
  {
   "cell_type": "markdown",
   "metadata": {},
   "source": [
    "### Create MailChimp campaign"
   ]
  },
  {
   "cell_type": "code",
   "execution_count": 14,
   "metadata": {},
   "outputs": [],
   "source": [
    "test_campaign = nl.MailChimp_Campaign(newsletter, mailchimp_config_test, \n",
    "                                   from_name=cf.mailchimp_compaign.from_name, \n",
    "                                   reply_to=cf.mailchimp_compaign.reply_to)"
   ]
  },
  {
   "cell_type": "code",
   "execution_count": 15,
   "metadata": {},
   "outputs": [
    {
     "name": "stdout",
     "output_type": "stream",
     "text": [
      "MailChimp account connected!\n",
      "Template updated at: 2021-05-29T19:05:47+00:00\n",
      "recipients specified.\n",
      "Campaign created successfully!\n"
     ]
    }
   ],
   "source": [
    "test_campaign.create()"
   ]
  },
  {
   "cell_type": "code",
   "execution_count": 16,
   "metadata": {},
   "outputs": [
    {
     "data": {
      "text/plain": [
       "<Response [204]>"
      ]
     },
     "execution_count": 16,
     "metadata": {},
     "output_type": "execute_result"
    }
   ],
   "source": [
    "test_campaign.send()"
   ]
  },
  {
   "cell_type": "markdown",
   "metadata": {},
   "source": [
    "## Real Campaign"
   ]
  },
  {
   "cell_type": "code",
   "execution_count": 48,
   "metadata": {},
   "outputs": [],
   "source": [
    "mailchimp_config_real = {\n",
    "    \"API_KEY\": cf.mailchimp_config_real.API_KEY,\n",
    "    \"template_id\": cf.mailchimp_config_real.template_id,\n",
    "    \"segment_id\": cf.mailchimp_config_real.segment_id, # recipients\n",
    "    \"list_id\": cf.mailchimp_config_real.list_id # members list\n",
    "}"
   ]
  },
  {
   "cell_type": "code",
   "execution_count": 49,
   "metadata": {},
   "outputs": [],
   "source": [
    "real_campaign = MailChimp_Campaign(newsletter, mailchimp_config_real, \n",
    "                                   from_name=cf.mailchimp_compaign.from_name, \n",
    "                                   reply_to=cf.mailchimp_compaign.reply_to)"
   ]
  },
  {
   "cell_type": "code",
   "execution_count": 50,
   "metadata": {},
   "outputs": [
    {
     "name": "stdout",
     "output_type": "stream",
     "text": [
      "MailChimp account connected!\n",
      "Template updated at: 2021-05-29T16:58:52+00:00\n",
      "recipients specified.\n",
      "Campaign created successfully!\n"
     ]
    }
   ],
   "source": [
    "real_campaign.create()"
   ]
  },
  {
   "cell_type": "code",
   "execution_count": 51,
   "metadata": {},
   "outputs": [
    {
     "data": {
      "text/plain": [
       "<Response [204]>"
      ]
     },
     "execution_count": 51,
     "metadata": {},
     "output_type": "execute_result"
    }
   ],
   "source": [
    "real_campaign.send()"
   ]
  },
  {
   "cell_type": "markdown",
   "metadata": {},
   "source": [
    "## Drafts"
   ]
  },
  {
   "cell_type": "code",
   "execution_count": 200,
   "metadata": {
    "code_folding": []
   },
   "outputs": [],
   "source": [
    "# define article tag\n",
    "tag_list = ['英国新闻', '英国新闻', '英国新闻', '英国新闻']\n",
    "\n",
    "for index in range(len(tag_list)):\n",
    "    article_list[index].tag = tag_list[index]\n",
    "    \n",
    "# article_list[0].img_url = 'https://i.epochtimes.com/assets/uploads/2020/12/2012112056442124.jpg'"
   ]
  }
 ],
 "metadata": {
  "kernelspec": {
   "display_name": "Python 3",
   "language": "python",
   "name": "python3"
  },
  "language_info": {
   "codemirror_mode": {
    "name": "ipython",
    "version": 3
   },
   "file_extension": ".py",
   "mimetype": "text/x-python",
   "name": "python",
   "nbconvert_exporter": "python",
   "pygments_lexer": "ipython3",
   "version": "3.7.4"
  }
 },
 "nbformat": 4,
 "nbformat_minor": 2
}
