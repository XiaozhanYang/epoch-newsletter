{
 "cells": [
  {
   "cell_type": "code",
   "execution_count": 1,
   "metadata": {},
   "outputs": [],
   "source": [
    "import pynewsletter as nl\n",
    "from datetime import date\n",
    "import config as cf\n",
    "import importlib\n",
    "cf = importlib.reload(cf)\n",
    "nl = importlib.reload(nl)"
   ]
  },
  {
   "cell_type": "markdown",
   "metadata": {},
   "source": [
    "# Processing Part"
   ]
  },
  {
   "cell_type": "code",
   "execution_count": 31,
   "metadata": {},
   "outputs": [],
   "source": [
    "article_url_list = ['https://www.epochtimes.com/b5/21/6/17/n13028203.htm',\n",
    "                    'https://www.epochtimes.com/b5/21/6/17/n13027326.htm',\n",
    "                    'https://www.epochtimes.com/b5/21/6/17/n13028745.htm',\n",
    "                    'https://www.epochtimes.com/gb/21/6/18/n13031296.htm']\n",
    "\n",
    "video_url_list = ['https://www.epochtimes.com/gb/21/6/19/n13032472.htm',\n",
    "                  'https://www.ntdtv.com/b5/2021/06/18/a103145567.html',\n",
    "                  'https://www.epochtimes.com/gb/21/6/17/n13029029.htm',\n",
    "                  'https://www.epochtimes.com/gb/21/6/18/n13032045.htm']\n",
    "\n",
    "video_page_url = 'https://www.epochtimes.com/gb/ncid1247351.htm'"
   ]
  },
  {
   "cell_type": "code",
   "execution_count": 32,
   "metadata": {},
   "outputs": [],
   "source": [
    "advert = nl.Article('https://www.wu.com/wuagents', \n",
    "                    img_url='https://mcusercontent.com/8d91be20c499dcf471d03d2d1/images/9ee76107-70aa-4852-ffb7-9d45f04df6ba.png')"
   ]
  },
  {
   "cell_type": "code",
   "execution_count": 54,
   "metadata": {},
   "outputs": [],
   "source": [
    "source_content = nl.Content(article_url_list, video_url_list, video_page_url=video_page_url)"
   ]
  },
  {
   "cell_type": "code",
   "execution_count": 34,
   "metadata": {
    "scrolled": true
   },
   "outputs": [
    {
     "name": "stdout",
     "output_type": "stream",
     "text": [
      "組圖：英國脫歐後與澳洲簽署首個貿易協議\n",
      "國際要聞\n",
      "None\n",
      "6月15日，澳洲總理斯科特．莫里森（Scott Morrison）赴倫敦與英國首相鮑里斯．約翰遜（Boris Johnson）於唐寧街十號首相府舉行貿易會談，英國脫歐後與澳洲簽署了第一個貿易協議。\n",
      "\n",
      "【移民英國】英7月推畢業生移民方案\n",
      "香港要聞\n",
      "None\n",
      "英國將在7月1日起推出一項名為「畢業生移民方案」（The Graduate route），目的是吸引優秀人才在英國發展和貢獻。但有港人學生組織表示，相關方案僅幫助到家中經濟能力好的人士，對經濟能力一般的年輕人幫助不大。\n",
      "\n",
      "英國消費者團體警告：老舊Router有風險\n",
      "英倫生活\n",
      "None\n",
      "消費者團體Which?的調查發現，目前許多老舊的路由器（router）缺乏設備更新、密碼容易破解，存在被黑的風險。這個團體估計有幾百萬人使用的路由器存在這樣的風險。\n",
      "\n",
      "台攬才專法 放寬全球頂尖大學生來台工作條件\n",
      "台灣焦點\n",
      "None\n",
      "為強化延攬外國專業人才，台立法院18日三讀通過《外國專業人才延攬及僱用法（攬才專法）》修正案，公告全球前500大頂尖大學畢業生來台工作，得免除2年工作經驗，並延長特定專業人才租稅優惠；本次修法還增列健保納保免等待期對象，並放寬取得永久居留條件。\n",
      "\n"
     ]
    }
   ],
   "source": [
    "for article in source_content.article_list:\n",
    "    print(article.title)\n",
    "    print(article.tag)\n",
    "    print(article.label)\n",
    "    print(article.preview_text)\n",
    "    print()"
   ]
  },
  {
   "cell_type": "code",
   "execution_count": 6,
   "metadata": {},
   "outputs": [],
   "source": [
    "source_content.article_list[0].img_url = 'https://i.epochtimes.com/assets/uploads/2021/06/id13000951-GettyImages-1233263048-600x400.jpg'"
   ]
  },
  {
   "cell_type": "code",
   "execution_count": 55,
   "metadata": {},
   "outputs": [],
   "source": [
    "source_content.article_list[3].preview_text = '為強化延攬外國專業人才，台立法院18日三讀通過《外國專業人才延攬及僱用法（攬才專法）》修正案，公告全球頂尖大學畢業生來台工作，得免除2年工作經驗，並延長特定專業人才租稅優惠。'"
   ]
  },
  {
   "cell_type": "code",
   "execution_count": 5,
   "metadata": {},
   "outputs": [],
   "source": [
    "# source_content.article_list[0].title = '疫情导致去年英国经济缩水创300年记录'"
   ]
  },
  {
   "cell_type": "code",
   "execution_count": 36,
   "metadata": {
    "scrolled": true
   },
   "outputs": [
    {
     "name": "stdout",
     "output_type": "stream",
     "text": [
      "【拍案驚奇】台山核洩發酵之際 核電專家突跳樓\n",
      "新聞拍案驚奇\n",
      "大家好，歡迎收看《新聞拍案驚奇》，我是大宇。\n",
      "https://i.epochtimes.com/assets/uploads/2021/06/id13033144-tg0618-600x400.jpg\n",
      "\n",
      "【財商天下】土豬拱白菜 勵志還是可怕？\n",
      "財商天下\n",
      "這幾天，河北衡水中學張錫峰同學火了，他的演講刷爆網絡，裡面一句「我就是一隻來自鄉下的土豬，也要立志去拱大城市裡的白菜」讓人印象深刻，但是也成了巨大爭議的焦點。\n",
      "https://i.epochtimes.com/assets/uploads/2021/06/id13029031-0617_1200x800-320x200.jpg\n",
      "\n",
      "【橫河觀點】董經緯兩個報導 哪個是真的？\n",
      "每日新聞\n",
      "觀眾朋友們好，我是橫河，歡迎大家來到橫河觀點頻道，今天是6月18日，星期五。\n",
      "https://i.epochtimes.com/assets/uploads/2021/06/id13032055-674c9384deeb5c080108007627534d80-600x400.jpg\n",
      "\n"
     ]
    }
   ],
   "source": [
    "for article in source_content.video_list:\n",
    "    try:\n",
    "        print(article.title)\n",
    "        print(article.tag)\n",
    "        print(article.preview_text)\n",
    "        print(article.img_url)\n",
    "        print()\n",
    "    except:\n",
    "        pass"
   ]
  },
  {
   "cell_type": "code",
   "execution_count": 56,
   "metadata": {},
   "outputs": [],
   "source": [
    "source_content.video_list[1].img_url = 'https://i.ntdtv.com/assets/uploads/2021/06/maxresdefault-4-3-360x202.jpg'"
   ]
  },
  {
   "cell_type": "code",
   "execution_count": 10,
   "metadata": {},
   "outputs": [],
   "source": [
    "source_content.video_list[3].img_url = 'https://i.ntdtv.com/assets/uploads/2021/06/thumbnail_d-966-192x108.jpg'"
   ]
  },
  {
   "cell_type": "code",
   "execution_count": 38,
   "metadata": {},
   "outputs": [
    {
     "name": "stdout",
     "output_type": "stream",
     "text": [
      "https://i.epochtimes.com/assets/uploads/2021/06/id13033144-tg0618-600x400.jpg\n",
      "https://i.ntdtv.com/assets/uploads/2021/06/maxresdefault-4-3-360x202.jpg\n",
      "https://i.epochtimes.com/assets/uploads/2021/06/id13029031-0617_1200x800-320x200.jpg\n",
      "https://i.epochtimes.com/assets/uploads/2021/06/id13032055-674c9384deeb5c080108007627534d80-600x400.jpg\n"
     ]
    }
   ],
   "source": [
    "for video in source_content.video_list:\n",
    "    print(video.img_url)"
   ]
  },
  {
   "cell_type": "code",
   "execution_count": 57,
   "metadata": {},
   "outputs": [],
   "source": [
    "newsletter = nl.Jinja_Template()"
   ]
  },
  {
   "cell_type": "code",
   "execution_count": 58,
   "metadata": {},
   "outputs": [
    {
     "name": "stdout",
     "output_type": "stream",
     "text": [
      "newsletter rendered at: ../Exported HTML/rendered_newsletter.html\n"
     ]
    }
   ],
   "source": [
    "newsletter.render(source_content)"
   ]
  },
  {
   "cell_type": "code",
   "execution_count": 59,
   "metadata": {},
   "outputs": [],
   "source": [
    "newsletter.preview()"
   ]
  },
  {
   "cell_type": "markdown",
   "metadata": {},
   "source": [
    "# Connect to MailChimp"
   ]
  },
  {
   "cell_type": "markdown",
   "metadata": {},
   "source": [
    "## Test Campaign"
   ]
  },
  {
   "cell_type": "code",
   "execution_count": 46,
   "metadata": {},
   "outputs": [],
   "source": [
    "mailchimp_config_test = {\n",
    "    \"API_KEY\": cf.mailchimp_config_test.API_KEY,\n",
    "    \"template_id\": cf.mailchimp_config_test.template_id,\n",
    "    \"segment_id\": cf.mailchimp_config_test.segment_id, # recipients\n",
    "    \"list_id\": cf.mailchimp_config_test.list_id # members list\n",
    "}"
   ]
  },
  {
   "cell_type": "markdown",
   "metadata": {},
   "source": [
    "### Create MailChimp campaign"
   ]
  },
  {
   "cell_type": "code",
   "execution_count": 47,
   "metadata": {},
   "outputs": [],
   "source": [
    "test_campaign = nl.MailChimp_Campaign(newsletter, mailchimp_config_test, \n",
    "                                   from_name=cf.mailchimp_compaign.from_name, \n",
    "                                   reply_to=cf.mailchimp_compaign.reply_to)"
   ]
  },
  {
   "cell_type": "code",
   "execution_count": 48,
   "metadata": {},
   "outputs": [
    {
     "name": "stdout",
     "output_type": "stream",
     "text": [
      "MailChimp account connected!\n",
      "Template updated at: 2021-06-19T17:07:23+00:00\n",
      "recipients specified.\n",
      "Campaign created successfully!\n"
     ]
    }
   ],
   "source": [
    "test_campaign.create()"
   ]
  },
  {
   "cell_type": "code",
   "execution_count": 49,
   "metadata": {},
   "outputs": [
    {
     "data": {
      "text/plain": [
       "<Response [204]>"
      ]
     },
     "execution_count": 49,
     "metadata": {},
     "output_type": "execute_result"
    }
   ],
   "source": [
    "test_campaign.send()"
   ]
  },
  {
   "cell_type": "markdown",
   "metadata": {},
   "source": [
    "## Real Campaign"
   ]
  },
  {
   "cell_type": "code",
   "execution_count": 50,
   "metadata": {},
   "outputs": [],
   "source": [
    "mailchimp_config_real = {\n",
    "    \"API_KEY\": cf.mailchimp_config_real.API_KEY,\n",
    "    \"template_id\": cf.mailchimp_config_real.template_id,\n",
    "    \"segment_id\": cf.mailchimp_config_real.segment_id, # recipients\n",
    "    \"list_id\": cf.mailchimp_config_real.list_id # members list\n",
    "}"
   ]
  },
  {
   "cell_type": "code",
   "execution_count": 51,
   "metadata": {},
   "outputs": [],
   "source": [
    "real_campaign = nl.MailChimp_Campaign(newsletter, mailchimp_config_real, \n",
    "                                   from_name=cf.mailchimp_compaign.from_name, \n",
    "                                   reply_to=cf.mailchimp_compaign.reply_to)"
   ]
  },
  {
   "cell_type": "code",
   "execution_count": 52,
   "metadata": {
    "scrolled": true
   },
   "outputs": [
    {
     "name": "stdout",
     "output_type": "stream",
     "text": [
      "MailChimp account connected!\n",
      "Template updated at: 2021-06-19T17:09:20+00:00\n",
      "recipients specified.\n",
      "Campaign created successfully!\n"
     ]
    }
   ],
   "source": [
    "real_campaign.create()"
   ]
  },
  {
   "cell_type": "code",
   "execution_count": 53,
   "metadata": {},
   "outputs": [
    {
     "data": {
      "text/plain": [
       "<Response [204]>"
      ]
     },
     "execution_count": 53,
     "metadata": {},
     "output_type": "execute_result"
    }
   ],
   "source": [
    "real_campaign.send()"
   ]
  },
  {
   "cell_type": "markdown",
   "metadata": {},
   "source": [
    "## Drafts"
   ]
  },
  {
   "cell_type": "code",
   "execution_count": 200,
   "metadata": {
    "code_folding": []
   },
   "outputs": [],
   "source": [
    "# define article tag\n",
    "tag_list = ['英国新闻', '英国新闻', '英国新闻', '英国新闻']\n",
    "\n",
    "for index in range(len(tag_list)):\n",
    "    article_list[index].tag = tag_list[index]\n",
    "    \n",
    "# article_list[0].img_url = 'https://i.epochtimes.com/assets/uploads/2020/12/2012112056442124.jpg'"
   ]
  }
 ],
 "metadata": {
  "kernelspec": {
   "display_name": "Python 3",
   "language": "python",
   "name": "python3"
  },
  "language_info": {
   "codemirror_mode": {
    "name": "ipython",
    "version": 3
   },
   "file_extension": ".py",
   "mimetype": "text/x-python",
   "name": "python",
   "nbconvert_exporter": "python",
   "pygments_lexer": "ipython3",
   "version": "3.7.4"
  }
 },
 "nbformat": 4,
 "nbformat_minor": 2
}
