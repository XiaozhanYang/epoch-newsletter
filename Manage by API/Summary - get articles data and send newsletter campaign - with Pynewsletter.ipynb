{
 "cells": [
  {
   "cell_type": "code",
   "execution_count": 1,
   "metadata": {},
   "outputs": [],
   "source": [
    "import pynewsletter as nl\n",
    "from datetime import date\n",
    "import config as cf\n",
    "import importlib\n",
    "cf = importlib.reload(cf)\n",
    "nl = importlib.reload(nl)"
   ]
  },
  {
   "cell_type": "markdown",
   "metadata": {},
   "source": [
    "# Processing Part"
   ]
  },
  {
   "cell_type": "code",
   "execution_count": 12,
   "metadata": {},
   "outputs": [],
   "source": [
    "article_url_list = ['https://www.epochtimes.com/b5/21/6/13/n13018547.htm',\n",
    "                    'https://www.epochtimes.com/b5/21/6/10/n13012828.htm',\n",
    "                    'https://www.epochtimes.com/b5/21/6/9/n13008791.htm',\n",
    "                    'https://www.epochtimes.com/b5/21/6/10/n13012737.htm']\n",
    "\n",
    "video_url_list = ['https://www.epochtimes.com/b5/21/6/10/n13013976.htm',\n",
    "                  'https://www.epochtimes.com/b5/21/6/12/n13018008.htm',\n",
    "                  'https://www.ntdtv.com/b5/2021/06/13/a103141801.html',\n",
    "                  'https://www.ntdtv.com/b5/2021/06/13/a103141810.html']\n",
    "\n",
    "video_page_url = 'https://www.epochtimes.com/gb/ncid1247351.htm'"
   ]
  },
  {
   "cell_type": "code",
   "execution_count": 13,
   "metadata": {},
   "outputs": [],
   "source": [
    "source_content = nl.Content(article_url_list, video_url_list, video_page_url=video_page_url)"
   ]
  },
  {
   "cell_type": "code",
   "execution_count": 14,
   "metadata": {
    "scrolled": true
   },
   "outputs": [
    {
     "name": "stdout",
     "output_type": "stream",
     "text": [
      "6.12抗爭兩周年 居英港人齊發聲：勿忘初心 等待黎明\n",
      "國際\n",
      "None\n",
      "本週六（6月12日），全球多達20個國家、49個城市有多個活動以紀念香港6.12「反送中運動」兩周年，其中英國倫敦的第一場集會和遊行於當地時間12日中午舉行，逾三千人出席。英國政界工黨和保守黨放下政治分歧共同出席集會，表示與港人站在一起。據統計，今次活動參與人士是早前「六四晚會」的2到3倍，移居英國的千名港人再一次站出來，盡自己的責任，為香港發聲。\n",
      "\n",
      "英國逾八成最大公司讓員工在家半職上班\n",
      "英倫生活\n",
      "None\n",
      "BBC進行的調查發現，英國最大的50家公司中有43家表示，他們沒有計劃讓員工回公司全職上班，而是會讓他們每週在家工作兩至三天。\n",
      "\n",
      "足壇盛宴 歐洲盃登場 超級「死亡組」引關注\n",
      "國際足球\n",
      "None\n",
      "因疫情推遲一年舉辦的歐洲足球盃賽，將於當地時間6月11日至7月12日，在歐洲12座城市進行。24支晉級球隊被分成六個小組，每組前兩名以及四個成績最好的第三名晉級16強進行淘汰賽。衛冕冠軍葡萄牙、世界盃冠軍法國和三屆歐洲盃冠軍德國，組成了名副其實的「死亡之組」。\n",
      "\n",
      "印度變種擴散 英國解封計劃或推遲\n",
      "焦點新聞\n",
      "None\n",
      "中共病毒的印度變種目前已經成為英國最主要的變種。英國政府已經建議大曼徹斯特地區400萬人不要離開當地，英格蘭原定6月21日徹底解封的計劃也有可能推遲兩週。\n",
      "\n"
     ]
    }
   ],
   "source": [
    "for article in source_content.article_list:\n",
    "    print(article.title)\n",
    "    print(article.tag)\n",
    "    print(article.label)\n",
    "    print(article.preview_text)\n",
    "    print()"
   ]
  },
  {
   "cell_type": "code",
   "execution_count": 12,
   "metadata": {},
   "outputs": [],
   "source": [
    "source_content.article_list[0].img_url = 'https://i.epochtimes.com/assets/uploads/2021/06/id13000951-GettyImages-1233263048-600x400.jpg'"
   ]
  },
  {
   "cell_type": "code",
   "execution_count": 13,
   "metadata": {},
   "outputs": [],
   "source": [
    "source_content.article_list[2].preview_text = '本週六（6月12日），全球多達20個國家、49個城市有多個活動以紀念香港6.12「反送中運動」兩周年，其中英國倫敦的第一場集會和遊行於當地時間12日中午舉行，逾三千人出席。'"
   ]
  },
  {
   "cell_type": "code",
   "execution_count": 5,
   "metadata": {},
   "outputs": [],
   "source": [
    "# source_content.article_list[0].title = '疫情导致去年英国经济缩水创300年记录'"
   ]
  },
  {
   "cell_type": "code",
   "execution_count": 15,
   "metadata": {
    "scrolled": true
   },
   "outputs": [
    {
     "name": "stdout",
     "output_type": "stream",
     "text": [
      "【橫河觀點】美軍機降台灣 中共暴露致命弱點\n",
      "每日新聞\n",
      "觀眾朋友們好，我是橫河，歡迎大家來到橫河觀點頻道，今天是6月10日，星期四。\n",
      "https://i.epochtimes.com/assets/uploads/2021/06/id13013982-ba6f3a146167a51d697aed36fa83c96f-320x200.jpg\n",
      "\n",
      "【財商天下】敏感期爆學潮 為生存討說法\n",
      "財商天下\n",
      "最近幾天，江浙地區的學生抗議活動引人關注，原因是中共要把獨立學院降格為職業本科，但是，學生們拒絕文憑被貶值，為了生存和前途，被逼向校方討個說法。大家知道，在「過度競爭」的大環境中，大陸一些年輕人選擇了消極退出，但是這次，我們看到這些還在校園裡的學生們卻不甘願「躺平」，而是選擇了反抗。\n",
      "https://i.epochtimes.com/assets/uploads/2021/06/id13018009-0612_1200x800-320x200.jpg\n",
      "\n"
     ]
    }
   ],
   "source": [
    "for article in source_content.video_list:\n",
    "    try:\n",
    "        print(article.title)\n",
    "        print(article.tag)\n",
    "        print(article.preview_text)\n",
    "        print(article.img_url)\n",
    "        print()\n",
    "    except:\n",
    "        pass"
   ]
  },
  {
   "cell_type": "code",
   "execution_count": 17,
   "metadata": {},
   "outputs": [],
   "source": [
    "source_content.video_list[2].img_url = 'https://i.ntdtv.com/assets/uploads/2021/06/thumbnail_d-965-360x202.jpg'"
   ]
  },
  {
   "cell_type": "code",
   "execution_count": 16,
   "metadata": {},
   "outputs": [],
   "source": [
    "source_content.video_list[3].img_url = 'https://i.ntdtv.com/assets/uploads/2021/06/thumbnail_d-966-192x108.jpg'"
   ]
  },
  {
   "cell_type": "code",
   "execution_count": 18,
   "metadata": {},
   "outputs": [
    {
     "name": "stdout",
     "output_type": "stream",
     "text": [
      "https://i.epochtimes.com/assets/uploads/2021/06/id13013982-ba6f3a146167a51d697aed36fa83c96f-320x200.jpg\n",
      "https://i.epochtimes.com/assets/uploads/2021/06/id13018009-0612_1200x800-320x200.jpg\n",
      "https://i.ntdtv.com/assets/uploads/2021/06/thumbnail_d-965-360x202.jpg\n",
      "https://i.ntdtv.com/assets/uploads/2021/06/thumbnail_d-966-192x108.jpg\n"
     ]
    }
   ],
   "source": [
    "for video in source_content.video_list:\n",
    "    print(video.img_url)"
   ]
  },
  {
   "cell_type": "code",
   "execution_count": 19,
   "metadata": {},
   "outputs": [],
   "source": [
    "newsletter = nl.Jinja_Template()"
   ]
  },
  {
   "cell_type": "code",
   "execution_count": 20,
   "metadata": {},
   "outputs": [
    {
     "name": "stdout",
     "output_type": "stream",
     "text": [
      "newsletter rendered at: ../Exported HTML/rendered_newsletter.html\n"
     ]
    }
   ],
   "source": [
    "newsletter.render(source_content)"
   ]
  },
  {
   "cell_type": "code",
   "execution_count": 21,
   "metadata": {},
   "outputs": [],
   "source": [
    "newsletter.preview()"
   ]
  },
  {
   "cell_type": "markdown",
   "metadata": {},
   "source": [
    "# Connect to MailChimp"
   ]
  },
  {
   "cell_type": "markdown",
   "metadata": {},
   "source": [
    "## Test Campaign"
   ]
  },
  {
   "cell_type": "code",
   "execution_count": 17,
   "metadata": {},
   "outputs": [],
   "source": [
    "mailchimp_config_test = {\n",
    "    \"API_KEY\": cf.mailchimp_config_test.API_KEY,\n",
    "    \"template_id\": cf.mailchimp_config_test.template_id,\n",
    "    \"segment_id\": cf.mailchimp_config_test.segment_id, # recipients\n",
    "    \"list_id\": cf.mailchimp_config_test.list_id # members list\n",
    "}"
   ]
  },
  {
   "cell_type": "code",
   "execution_count": 18,
   "metadata": {},
   "outputs": [
    {
     "data": {
      "text/plain": [
       "<module 'pynewsletter' from '/Users/codyyang/Desktop/Dafa Projects/Epoch Times/Epoch Times Newsletters/20201024 - Template Design.git/Manage by API/pynewsletter/__init__.py'>"
      ]
     },
     "execution_count": 18,
     "metadata": {},
     "output_type": "execute_result"
    }
   ],
   "source": [
    "nl"
   ]
  },
  {
   "cell_type": "markdown",
   "metadata": {},
   "source": [
    "### Create MailChimp campaign"
   ]
  },
  {
   "cell_type": "code",
   "execution_count": 19,
   "metadata": {},
   "outputs": [],
   "source": [
    "test_campaign = nl.MailChimp_Campaign(newsletter, mailchimp_config_test, \n",
    "                                   from_name=cf.mailchimp_compaign.from_name, \n",
    "                                   reply_to=cf.mailchimp_compaign.reply_to)"
   ]
  },
  {
   "cell_type": "code",
   "execution_count": 20,
   "metadata": {},
   "outputs": [
    {
     "name": "stdout",
     "output_type": "stream",
     "text": [
      "MailChimp account connected!\n",
      "Template updated at: 2021-06-05T16:34:01+00:00\n",
      "recipients specified.\n",
      "Campaign created successfully!\n"
     ]
    }
   ],
   "source": [
    "test_campaign.create()"
   ]
  },
  {
   "cell_type": "code",
   "execution_count": 21,
   "metadata": {},
   "outputs": [
    {
     "data": {
      "text/plain": [
       "<Response [204]>"
      ]
     },
     "execution_count": 21,
     "metadata": {},
     "output_type": "execute_result"
    }
   ],
   "source": [
    "test_campaign.send()"
   ]
  },
  {
   "cell_type": "markdown",
   "metadata": {},
   "source": [
    "## Real Campaign"
   ]
  },
  {
   "cell_type": "code",
   "execution_count": 22,
   "metadata": {},
   "outputs": [],
   "source": [
    "mailchimp_config_real = {\n",
    "    \"API_KEY\": cf.mailchimp_config_real.API_KEY,\n",
    "    \"template_id\": cf.mailchimp_config_real.template_id,\n",
    "    \"segment_id\": cf.mailchimp_config_real.segment_id, # recipients\n",
    "    \"list_id\": cf.mailchimp_config_real.list_id # members list\n",
    "}"
   ]
  },
  {
   "cell_type": "code",
   "execution_count": 24,
   "metadata": {},
   "outputs": [],
   "source": [
    "real_campaign = nl.MailChimp_Campaign(newsletter, mailchimp_config_real, \n",
    "                                   from_name=cf.mailchimp_compaign.from_name, \n",
    "                                   reply_to=cf.mailchimp_compaign.reply_to)"
   ]
  },
  {
   "cell_type": "code",
   "execution_count": 25,
   "metadata": {},
   "outputs": [
    {
     "name": "stdout",
     "output_type": "stream",
     "text": [
      "MailChimp account connected!\n",
      "Template updated at: 2021-06-05T16:35:34+00:00\n",
      "recipients specified.\n",
      "Campaign created successfully!\n"
     ]
    }
   ],
   "source": [
    "real_campaign.create()"
   ]
  },
  {
   "cell_type": "code",
   "execution_count": 26,
   "metadata": {},
   "outputs": [
    {
     "data": {
      "text/plain": [
       "<Response [204]>"
      ]
     },
     "execution_count": 26,
     "metadata": {},
     "output_type": "execute_result"
    }
   ],
   "source": [
    "real_campaign.send()"
   ]
  },
  {
   "cell_type": "markdown",
   "metadata": {},
   "source": [
    "## Drafts"
   ]
  },
  {
   "cell_type": "code",
   "execution_count": 200,
   "metadata": {
    "code_folding": []
   },
   "outputs": [],
   "source": [
    "# define article tag\n",
    "tag_list = ['英国新闻', '英国新闻', '英国新闻', '英国新闻']\n",
    "\n",
    "for index in range(len(tag_list)):\n",
    "    article_list[index].tag = tag_list[index]\n",
    "    \n",
    "# article_list[0].img_url = 'https://i.epochtimes.com/assets/uploads/2020/12/2012112056442124.jpg'"
   ]
  }
 ],
 "metadata": {
  "kernelspec": {
   "display_name": "Python 3",
   "language": "python",
   "name": "python3"
  },
  "language_info": {
   "codemirror_mode": {
    "name": "ipython",
    "version": 3
   },
   "file_extension": ".py",
   "mimetype": "text/x-python",
   "name": "python",
   "nbconvert_exporter": "python",
   "pygments_lexer": "ipython3",
   "version": "3.7.4"
  }
 },
 "nbformat": 4,
 "nbformat_minor": 2
}
