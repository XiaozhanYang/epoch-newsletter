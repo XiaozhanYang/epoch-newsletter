{
 "cells": [
  {
   "cell_type": "code",
   "execution_count": 1,
   "metadata": {},
   "outputs": [],
   "source": [
    "import pynewsletter as nl\n",
    "from datetime import date\n",
    "import config as cf\n",
    "import importlib\n",
    "cf = importlib.reload(cf)\n",
    "nl = importlib.reload(nl)"
   ]
  },
  {
   "cell_type": "markdown",
   "metadata": {},
   "source": [
    "# Processing Part"
   ]
  },
  {
   "cell_type": "code",
   "execution_count": 2,
   "metadata": {},
   "outputs": [],
   "source": [
    "article_url_list = ['https://www.epochtimes.com/b5/21/6/5/n13000941.htm',\n",
    "                    'https://www.epochtimes.com/b5/21/6/4/n12998974.htm',\n",
    "                    'https://www.epochtimes.com/b5/21/6/1/n12990861.htm',\n",
    "                    'https://www.epochtimes.com/b5/21/6/3/n12996012.htm']\n",
    "\n",
    "video_url_list = ['https://www.epochtimes.com/b5/21/6/4/n12999710.htm',\n",
    "                  'https://www.epochtimes.com/b5/21/6/3/n12997346.htm',\n",
    "                  'https://www.ntdtv.com/b5/2021/06/04/a103135334.html',\n",
    "                  'https://www.epochtimes.com/b5/21/6/3/n12997112.htm']\n",
    "\n",
    "video_page_url = 'https://www.epochtimes.com/gb/ncid1247351.htm'"
   ]
  },
  {
   "cell_type": "code",
   "execution_count": 3,
   "metadata": {},
   "outputs": [],
   "source": [
    "source_content = nl.Content(article_url_list, video_url_list, video_page_url=video_page_url)"
   ]
  },
  {
   "cell_type": "code",
   "execution_count": 4,
   "metadata": {
    "scrolled": true
   },
   "outputs": [
    {
     "name": "stdout",
     "output_type": "stream",
     "text": [
      "組圖：維吾爾獨立法庭倫敦開庭 聽取證人證詞\n",
      "國際要聞\n",
      "None\n",
      "6月4日，「維吾爾獨立法庭」（Uyghur Tribunal）於英國倫敦召開為期四天的聽證會，陪審團要收集中共在新疆迫害維吾爾族人的證據，在會中聽取多位證人的證詞。\n",
      "\n",
      "組圖：G7衛生部長級會議 疫情為首要議題\n",
      "國際要聞\n",
      "None\n",
      "6月3日，七國集團（G7）於英國召開為期兩天的衛生部長級會議，會中將中共病毒（武漢肺炎）疫情列為首要議題。\n",
      "\n",
      "購買黃金白銀的最好方式，絕大多數人都不知道\n",
      "理財\n",
      "None\n",
      "由於新冠疫情給世界帶來的巨大的衝擊和不確定性，以及貨幣增發造成通貨膨脹的趨勢加劇，許多人希望可以購買黃金、白金、白銀等貴重金屬，達到避險保值的目的。但無論是購買實物丶炒貴金屬公司股票等常用方式，都有很多不方便丶不保險之處。那麼有沒有一種可以安全丶即時買賣實物黃金白銀丶又不需要擔憂儲存丶郵寄之類麻煩事的方法？\n",
      "\n",
      "英國首相約翰遜完婚 199年來唐寧街首次\n",
      "社會新聞\n",
      "None\n",
      "英國首相府證實，上週六（5月29日）英國首相約翰遜已經和未婚妻卡麗·西蒙茲（Carrie Symonds）舉行了婚禮。這個婚禮非常低調，沒有提前對外公佈消息。\n",
      "\n"
     ]
    }
   ],
   "source": [
    "for article in source_content.article_list:\n",
    "    print(article.title)\n",
    "    print(article.tag)\n",
    "    print(article.label)\n",
    "    print(article.preview_text)\n",
    "    print()"
   ]
  },
  {
   "cell_type": "code",
   "execution_count": 12,
   "metadata": {},
   "outputs": [],
   "source": [
    "source_content.article_list[0].img_url = 'https://i.epochtimes.com/assets/uploads/2021/06/id13000951-GettyImages-1233263048-600x400.jpg'"
   ]
  },
  {
   "cell_type": "code",
   "execution_count": 13,
   "metadata": {},
   "outputs": [],
   "source": [
    "source_content.article_list[2].preview_text = '由於新冠疫情給世界帶來的巨大的衝擊和不確定性，以及貨幣增發造成通貨膨脹的趨勢加劇，許多人希望可以購買黃金、白金、白銀等貴重金屬，達到避險保值的目的。'"
   ]
  },
  {
   "cell_type": "code",
   "execution_count": 5,
   "metadata": {},
   "outputs": [],
   "source": [
    "# source_content.article_list[0].title = '疫情导致去年英国经济缩水创300年记录'"
   ]
  },
  {
   "cell_type": "code",
   "execution_count": 5,
   "metadata": {
    "scrolled": true
   },
   "outputs": [
    {
     "name": "stdout",
     "output_type": "stream",
     "text": [
      "【財商天下】風過去了？大陸豬價閃崩\n",
      "財商天下\n",
      "去年一年，大陸豬肉價格漲上了天，養豬企業更是賺翻，像華為這樣的科技企業都表示要轉行養豬了。2月中國新年時，有大陸網民還在吐槽說，過年都不能安心吃上一頓紅燒肉。但是，現在應該能安心吃了，因為從3月分開始，大陸的豬肉價格就開始跌跌不休，進入5月份以來，東北和西北地區的生豬價格率先跌破了每斤10元，而且，像是黑、吉、遼、青海這些地方的豬肉價還領先進入了7元時代。\n",
      "https://i.epochtimes.com/assets/uploads/2021/06/id12999712-0604_1200x800-320x200.jpg\n",
      "\n",
      "【橫河觀點】福西大批電郵曝光 左媒為何轉向？\n",
      "每日新聞\n",
      "大家好，今天是6月3日，星期四。\n",
      "https://i.epochtimes.com/assets/uploads/2021/06/id12997492-8c78c4d26b0f9e553264a161275212c6-320x200.jpg\n",
      "\n",
      "【未解之謎】人類曾經與恐龍同行過嗎？\n",
      "考古發現 \n",
      "大家好，我是扶搖。\n",
      "https://i.epochtimes.com/assets/uploads/2021/06/id12997137-1200x800-320x200.jpg\n",
      "\n"
     ]
    }
   ],
   "source": [
    "for article in source_content.video_list:\n",
    "    try:\n",
    "        print(article.title)\n",
    "        print(article.tag)\n",
    "        print(article.preview_text)\n",
    "        print(article.img_url)\n",
    "        print()\n",
    "    except:\n",
    "        pass"
   ]
  },
  {
   "cell_type": "code",
   "execution_count": 6,
   "metadata": {},
   "outputs": [],
   "source": [
    "source_content.video_list[0].img_url = 'https://i.ntdtv.com/assets/uploads/2021/05/maxresdefault-70-800x450.jpg'"
   ]
  },
  {
   "cell_type": "code",
   "execution_count": 6,
   "metadata": {},
   "outputs": [],
   "source": [
    "source_content.video_list[2].img_url = 'https://i.ntdtv.com/assets/uploads/2021/06/maxresdefault-12-800x450.jpg'"
   ]
  },
  {
   "cell_type": "code",
   "execution_count": 7,
   "metadata": {},
   "outputs": [
    {
     "name": "stdout",
     "output_type": "stream",
     "text": [
      "https://i.epochtimes.com/assets/uploads/2021/06/id12999712-0604_1200x800-320x200.jpg\n",
      "https://i.epochtimes.com/assets/uploads/2021/06/id12997492-8c78c4d26b0f9e553264a161275212c6-320x200.jpg\n",
      "https://i.ntdtv.com/assets/uploads/2021/06/maxresdefault-12-800x450.jpg\n",
      "https://i.epochtimes.com/assets/uploads/2021/06/id12997137-1200x800-320x200.jpg\n"
     ]
    }
   ],
   "source": [
    "for video in source_content.video_list:\n",
    "    print(video.img_url)"
   ]
  },
  {
   "cell_type": "code",
   "execution_count": 14,
   "metadata": {},
   "outputs": [],
   "source": [
    "newsletter = nl.Jinja_Template()"
   ]
  },
  {
   "cell_type": "code",
   "execution_count": 15,
   "metadata": {},
   "outputs": [
    {
     "name": "stdout",
     "output_type": "stream",
     "text": [
      "newsletter rendered at: ../Exported HTML/rendered_newsletter.html\n"
     ]
    }
   ],
   "source": [
    "newsletter.render(source_content)"
   ]
  },
  {
   "cell_type": "code",
   "execution_count": 16,
   "metadata": {},
   "outputs": [],
   "source": [
    "newsletter.preview()"
   ]
  },
  {
   "cell_type": "markdown",
   "metadata": {},
   "source": [
    "# Connect to MailChimp"
   ]
  },
  {
   "cell_type": "markdown",
   "metadata": {},
   "source": [
    "## Test Campaign"
   ]
  },
  {
   "cell_type": "code",
   "execution_count": 17,
   "metadata": {},
   "outputs": [],
   "source": [
    "mailchimp_config_test = {\n",
    "    \"API_KEY\": cf.mailchimp_config_test.API_KEY,\n",
    "    \"template_id\": cf.mailchimp_config_test.template_id,\n",
    "    \"segment_id\": cf.mailchimp_config_test.segment_id, # recipients\n",
    "    \"list_id\": cf.mailchimp_config_test.list_id # members list\n",
    "}"
   ]
  },
  {
   "cell_type": "code",
   "execution_count": 18,
   "metadata": {},
   "outputs": [
    {
     "data": {
      "text/plain": [
       "<module 'pynewsletter' from '/Users/codyyang/Desktop/Dafa Projects/Epoch Times/Epoch Times Newsletters/20201024 - Template Design.git/Manage by API/pynewsletter/__init__.py'>"
      ]
     },
     "execution_count": 18,
     "metadata": {},
     "output_type": "execute_result"
    }
   ],
   "source": [
    "nl"
   ]
  },
  {
   "cell_type": "markdown",
   "metadata": {},
   "source": [
    "### Create MailChimp campaign"
   ]
  },
  {
   "cell_type": "code",
   "execution_count": 19,
   "metadata": {},
   "outputs": [],
   "source": [
    "test_campaign = nl.MailChimp_Campaign(newsletter, mailchimp_config_test, \n",
    "                                   from_name=cf.mailchimp_compaign.from_name, \n",
    "                                   reply_to=cf.mailchimp_compaign.reply_to)"
   ]
  },
  {
   "cell_type": "code",
   "execution_count": 20,
   "metadata": {},
   "outputs": [
    {
     "name": "stdout",
     "output_type": "stream",
     "text": [
      "MailChimp account connected!\n",
      "Template updated at: 2021-06-05T16:34:01+00:00\n",
      "recipients specified.\n",
      "Campaign created successfully!\n"
     ]
    }
   ],
   "source": [
    "test_campaign.create()"
   ]
  },
  {
   "cell_type": "code",
   "execution_count": 21,
   "metadata": {},
   "outputs": [
    {
     "data": {
      "text/plain": [
       "<Response [204]>"
      ]
     },
     "execution_count": 21,
     "metadata": {},
     "output_type": "execute_result"
    }
   ],
   "source": [
    "test_campaign.send()"
   ]
  },
  {
   "cell_type": "markdown",
   "metadata": {},
   "source": [
    "## Real Campaign"
   ]
  },
  {
   "cell_type": "code",
   "execution_count": 22,
   "metadata": {},
   "outputs": [],
   "source": [
    "mailchimp_config_real = {\n",
    "    \"API_KEY\": cf.mailchimp_config_real.API_KEY,\n",
    "    \"template_id\": cf.mailchimp_config_real.template_id,\n",
    "    \"segment_id\": cf.mailchimp_config_real.segment_id, # recipients\n",
    "    \"list_id\": cf.mailchimp_config_real.list_id # members list\n",
    "}"
   ]
  },
  {
   "cell_type": "code",
   "execution_count": 24,
   "metadata": {},
   "outputs": [],
   "source": [
    "real_campaign = nl.MailChimp_Campaign(newsletter, mailchimp_config_real, \n",
    "                                   from_name=cf.mailchimp_compaign.from_name, \n",
    "                                   reply_to=cf.mailchimp_compaign.reply_to)"
   ]
  },
  {
   "cell_type": "code",
   "execution_count": 25,
   "metadata": {},
   "outputs": [
    {
     "name": "stdout",
     "output_type": "stream",
     "text": [
      "MailChimp account connected!\n",
      "Template updated at: 2021-06-05T16:35:34+00:00\n",
      "recipients specified.\n",
      "Campaign created successfully!\n"
     ]
    }
   ],
   "source": [
    "real_campaign.create()"
   ]
  },
  {
   "cell_type": "code",
   "execution_count": 26,
   "metadata": {},
   "outputs": [
    {
     "data": {
      "text/plain": [
       "<Response [204]>"
      ]
     },
     "execution_count": 26,
     "metadata": {},
     "output_type": "execute_result"
    }
   ],
   "source": [
    "real_campaign.send()"
   ]
  },
  {
   "cell_type": "markdown",
   "metadata": {},
   "source": [
    "## Drafts"
   ]
  },
  {
   "cell_type": "code",
   "execution_count": 200,
   "metadata": {
    "code_folding": []
   },
   "outputs": [],
   "source": [
    "# define article tag\n",
    "tag_list = ['英国新闻', '英国新闻', '英国新闻', '英国新闻']\n",
    "\n",
    "for index in range(len(tag_list)):\n",
    "    article_list[index].tag = tag_list[index]\n",
    "    \n",
    "# article_list[0].img_url = 'https://i.epochtimes.com/assets/uploads/2020/12/2012112056442124.jpg'"
   ]
  }
 ],
 "metadata": {
  "kernelspec": {
   "display_name": "Python 3",
   "language": "python",
   "name": "python3"
  },
  "language_info": {
   "codemirror_mode": {
    "name": "ipython",
    "version": 3
   },
   "file_extension": ".py",
   "mimetype": "text/x-python",
   "name": "python",
   "nbconvert_exporter": "python",
   "pygments_lexer": "ipython3",
   "version": "3.7.4"
  }
 },
 "nbformat": 4,
 "nbformat_minor": 2
}
