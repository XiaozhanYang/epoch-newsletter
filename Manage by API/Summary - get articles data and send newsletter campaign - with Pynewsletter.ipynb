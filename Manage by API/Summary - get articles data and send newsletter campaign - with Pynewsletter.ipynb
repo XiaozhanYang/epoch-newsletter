{
 "cells": [
  {
   "cell_type": "code",
   "execution_count": 1,
   "metadata": {},
   "outputs": [],
   "source": [
    "import pynewsletter as nl\n",
    "from datetime import date\n",
    "import config as cf\n",
    "import importlib\n",
    "cf = importlib.reload(cf)\n",
    "nl = importlib.reload(nl)"
   ]
  },
  {
   "cell_type": "markdown",
   "metadata": {},
   "source": [
    "# Processing Part"
   ]
  },
  {
   "cell_type": "code",
   "execution_count": 2,
   "metadata": {},
   "outputs": [],
   "source": [
    "article_url_list = ['https://www.epochtimes.com/b5/21/6/24/n13044618.htm',\n",
    "                    'https://www.epochtimes.com/b5/21/6/24/n13045127.htm',\n",
    "                    'https://www.epochtimes.com/gb/21/6/25/n13047305.htm',\n",
    "                    'https://www.epochtimes.com/b5/21/6/24/n13045112.htm']\n",
    "\n",
    "video_url_list = ['https://www.epochtimes.com/gb/21/6/23/n13042993.htm',\n",
    "                  'https://www.epochtimes.com/gb/21/6/22/n13040050.htm',\n",
    "                  'https://www.epochtimes.com/gb/21/6/24/n13045812.htm',\n",
    "                  'https://www.epochtimes.com/gb/21/6/25/n13047893.htm']\n",
    "\n",
    "video_page_url = 'https://www.epochtimes.com/gb/ncid1247351.htm'"
   ]
  },
  {
   "cell_type": "code",
   "execution_count": 3,
   "metadata": {},
   "outputs": [],
   "source": [
    "advert = nl.Article('https://www.wu.com/wuagents', \n",
    "                    img_url='https://mcusercontent.com/8d91be20c499dcf471d03d2d1/images/9ee76107-70aa-4852-ffb7-9d45f04df6ba.png')"
   ]
  },
  {
   "cell_type": "code",
   "execution_count": 15,
   "metadata": {
    "collapsed": true
   },
   "outputs": [
    {
     "name": "stdout",
     "output_type": "stream",
     "text": [
      "Help on class Content in module pynewsletter.content_script:\n",
      "\n",
      "class Content(Article)\n",
      " |  Content(article_url_list, video_url_list, video_page_url=None, advert=None)\n",
      " |  \n",
      " |  Method resolution order:\n",
      " |      Content\n",
      " |      Article\n",
      " |      builtins.object\n",
      " |  \n",
      " |  Methods defined here:\n",
      " |  \n",
      " |  __init__(self, article_url_list, video_url_list, video_page_url=None, advert=None)\n",
      " |      Initialize self.  See help(type(self)) for accurate signature.\n",
      " |  \n",
      " |  ----------------------------------------------------------------------\n",
      " |  Data descriptors inherited from Article:\n",
      " |  \n",
      " |  __dict__\n",
      " |      dictionary for instance variables (if defined)\n",
      " |  \n",
      " |  __weakref__\n",
      " |      list of weak references to the object (if defined)\n",
      " |  \n",
      " |  img_url\n",
      " |  \n",
      " |  label\n",
      " |  \n",
      " |  preview_text\n",
      " |  \n",
      " |  tag\n",
      " |  \n",
      " |  title\n",
      " |  \n",
      " |  url\n",
      "\n"
     ]
    }
   ],
   "source": [
    "help(nl.Content)"
   ]
  },
  {
   "cell_type": "code",
   "execution_count": 16,
   "metadata": {},
   "outputs": [],
   "source": [
    "source_content = nl.Content(article_url_list, video_url_list, video_page_url=video_page_url, advert=None)"
   ]
  },
  {
   "cell_type": "code",
   "execution_count": 5,
   "metadata": {
    "scrolled": true
   },
   "outputs": [
    {
     "name": "stdout",
     "output_type": "stream",
     "text": [
      "組圖：英國高鐵二號線最大車站開始建設\n",
      "國際要聞\n",
      "None\n",
      "6月23日，英國交通大臣格蘭特‧沙普斯（Grant Shapps）和高速鐵路二號線（HS2）公司首席執行官馬克‧瑟斯頓（Mark Thurston）抵達老橡樹公有地（Old Oak Common）的建築工地，宣布將於此興建高速鐵路二號線的車站，未來完工後將成為英國最大的車站。\n",
      "\n",
      "英國哪些公立學校畢業生進牛劍最多\n",
      "教育新聞\n",
      "None\n",
      "能讓自己的孩子進入牛津大學或者劍橋大學，這是許多家長的願望，一些中學經常可以把學生送入牛劍。仔細閲讀本文，了解這些進入牛劍的「墊腳石」都有哪些。\n",
      "\n",
      "英國研究：疫情在去年一月或已蔓延全球\n",
      "國際要聞\n",
      "None\n",
      "(大紀元記者徐簡綜合報導）根據科學家們的一項最新研究，中共病毒（新冠狀病毒）可能在2019年10月至11月中旬就在中國傳播了，比中共公布的所謂「官方紀錄」早兩個月，而在2020年1月就可能已經蔓延全球。\n",
      "\n",
      "應對獨立公投新招？讓所有蘇格蘭人投票\n",
      "政治新聞\n",
      "None\n",
      "蘇格蘭民族黨最早可能從今年秋季開始推動舉行第二次獨立公投，英國政府大臣正在考慮新的辦法保護國家的完整，目前的一個主要想法就是讓所有在英國各地的蘇格蘭人都可以參與投票。\n",
      "\n"
     ]
    }
   ],
   "source": [
    "for article in source_content.article_list:\n",
    "    print(article.title)\n",
    "    print(article.tag)\n",
    "    print(article.label)\n",
    "    print(article.preview_text)\n",
    "    print()"
   ]
  },
  {
   "cell_type": "code",
   "execution_count": 6,
   "metadata": {},
   "outputs": [],
   "source": [
    "source_content.article_list[0].img_url = 'https://i.epochtimes.com/assets/uploads/2021/06/id13000951-GettyImages-1233263048-600x400.jpg'"
   ]
  },
  {
   "cell_type": "code",
   "execution_count": 55,
   "metadata": {},
   "outputs": [],
   "source": [
    "source_content.article_list[3].preview_text = '為強化延攬外國專業人才，台立法院18日三讀通過《外國專業人才延攬及僱用法（攬才專法）》修正案，公告全球頂尖大學畢業生來台工作，得免除2年工作經驗，並延長特定專業人才租稅優惠。'"
   ]
  },
  {
   "cell_type": "code",
   "execution_count": 5,
   "metadata": {},
   "outputs": [],
   "source": [
    "# source_content.article_list[0].title = '疫情导致去年英国经济缩水创300年记录'"
   ]
  },
  {
   "cell_type": "code",
   "execution_count": 6,
   "metadata": {
    "scrolled": true
   },
   "outputs": [
    {
     "name": "stdout",
     "output_type": "stream",
     "text": [
      "【探索時分】中美艦載機殲15vsF18 誰勝算？\n",
      "軍事天地\n",
      "我們今天就來比較一下，中美艦載機誰更厲害。\n",
      "https://i.epochtimes.com/assets/uploads/2021/06/id13042998-a8c1c02ea3737599fa3bb84df92faee5-320x200.jpg\n",
      "\n",
      "【未解之謎】神祕的蘇美爾文明\n",
      "考古發現 \n",
      "大家好，我是扶搖。\n",
      "https://i.epochtimes.com/assets/uploads/2021/06/id13040052-1200x800-320x200.jpg\n",
      "\n",
      "【秦鵬直播】蘋果絕唱感動華人 中共刪基因數據\n",
      "每日新聞\n",
      "大家好，現在是美東時間6月24日晚上6:30，北京時間6月25日。歡迎收看時事天天聊，我是Sydney（王愉賀）；我是秦鵬。\n",
      "https://i.epochtimes.com/assets/uploads/2021/06/id13045831-1200-800-320x200.jpg\n",
      "\n",
      "【財商天下】經濟復甦強勁 美聯儲何時加息？\n",
      "財商天下\n",
      "在一週前的美聯儲議息會議上，美聯儲上調了對美國經濟增長的預測。專業分析認為，美國經濟雖然受到疫情衝擊，但正在展現前所未有的復甦跡象，而這離不開「政府發錢」模式的拉動。\n",
      "https://i.epochtimes.com/assets/uploads/2021/06/id13047896-0625_1200x800-600x400.jpg\n",
      "\n"
     ]
    }
   ],
   "source": [
    "for article in source_content.video_list:\n",
    "    try:\n",
    "        print(article.title)\n",
    "        print(article.tag)\n",
    "        print(article.preview_text)\n",
    "        print(article.img_url)\n",
    "        print()\n",
    "    except:\n",
    "        pass"
   ]
  },
  {
   "cell_type": "code",
   "execution_count": 56,
   "metadata": {},
   "outputs": [],
   "source": [
    "source_content.video_list[1].img_url = 'https://i.ntdtv.com/assets/uploads/2021/06/maxresdefault-4-3-360x202.jpg'"
   ]
  },
  {
   "cell_type": "code",
   "execution_count": 10,
   "metadata": {},
   "outputs": [],
   "source": [
    "source_content.video_list[3].img_url = 'https://i.ntdtv.com/assets/uploads/2021/06/thumbnail_d-966-192x108.jpg'"
   ]
  },
  {
   "cell_type": "code",
   "execution_count": 38,
   "metadata": {},
   "outputs": [
    {
     "name": "stdout",
     "output_type": "stream",
     "text": [
      "https://i.epochtimes.com/assets/uploads/2021/06/id13033144-tg0618-600x400.jpg\n",
      "https://i.ntdtv.com/assets/uploads/2021/06/maxresdefault-4-3-360x202.jpg\n",
      "https://i.epochtimes.com/assets/uploads/2021/06/id13029031-0617_1200x800-320x200.jpg\n",
      "https://i.epochtimes.com/assets/uploads/2021/06/id13032055-674c9384deeb5c080108007627534d80-600x400.jpg\n"
     ]
    }
   ],
   "source": [
    "for video in source_content.video_list:\n",
    "    print(video.img_url)"
   ]
  },
  {
   "cell_type": "code",
   "execution_count": 7,
   "metadata": {},
   "outputs": [],
   "source": [
    "newsletter = nl.Jinja_Template()"
   ]
  },
  {
   "cell_type": "code",
   "execution_count": 8,
   "metadata": {},
   "outputs": [
    {
     "name": "stdout",
     "output_type": "stream",
     "text": [
      "newsletter rendered at: ../Exported HTML/rendered_newsletter.html\n"
     ]
    }
   ],
   "source": [
    "newsletter.render(source_content)"
   ]
  },
  {
   "cell_type": "code",
   "execution_count": 9,
   "metadata": {},
   "outputs": [],
   "source": [
    "newsletter.preview()"
   ]
  },
  {
   "cell_type": "markdown",
   "metadata": {},
   "source": [
    "# Connect to MailChimp"
   ]
  },
  {
   "cell_type": "markdown",
   "metadata": {},
   "source": [
    "## Test Campaign"
   ]
  },
  {
   "cell_type": "code",
   "execution_count": 10,
   "metadata": {},
   "outputs": [],
   "source": [
    "mailchimp_config_test = {\n",
    "    \"API_KEY\": cf.mailchimp_config_test.API_KEY,\n",
    "    \"template_id\": cf.mailchimp_config_test.template_id,\n",
    "    \"segment_id\": cf.mailchimp_config_test.segment_id, # recipients\n",
    "    \"list_id\": cf.mailchimp_config_test.list_id # members list\n",
    "}"
   ]
  },
  {
   "cell_type": "markdown",
   "metadata": {},
   "source": [
    "### Create MailChimp campaign"
   ]
  },
  {
   "cell_type": "code",
   "execution_count": 11,
   "metadata": {},
   "outputs": [],
   "source": [
    "test_campaign = nl.MailChimp_Campaign(newsletter, mailchimp_config_test, \n",
    "                                   from_name=cf.mailchimp_compaign.from_name, \n",
    "                                   reply_to=cf.mailchimp_compaign.reply_to)"
   ]
  },
  {
   "cell_type": "code",
   "execution_count": 12,
   "metadata": {},
   "outputs": [
    {
     "name": "stdout",
     "output_type": "stream",
     "text": [
      "MailChimp account connected!\n",
      "Template updated at: 2021-06-26T21:42:50+00:00\n",
      "recipients specified.\n",
      "Campaign created successfully!\n"
     ]
    }
   ],
   "source": [
    "test_campaign.create()"
   ]
  },
  {
   "cell_type": "code",
   "execution_count": 13,
   "metadata": {},
   "outputs": [
    {
     "data": {
      "text/plain": [
       "<Response [204]>"
      ]
     },
     "execution_count": 13,
     "metadata": {},
     "output_type": "execute_result"
    }
   ],
   "source": [
    "test_campaign.send()"
   ]
  },
  {
   "cell_type": "markdown",
   "metadata": {},
   "source": [
    "## Real Campaign"
   ]
  },
  {
   "cell_type": "code",
   "execution_count": 14,
   "metadata": {},
   "outputs": [],
   "source": [
    "mailchimp_config_real = {\n",
    "    \"API_KEY\": cf.mailchimp_config_real.API_KEY,\n",
    "    \"template_id\": cf.mailchimp_config_real.template_id,\n",
    "    \"segment_id\": cf.mailchimp_config_real.segment_id, # recipients\n",
    "    \"list_id\": cf.mailchimp_config_real.list_id # members list\n",
    "}"
   ]
  },
  {
   "cell_type": "code",
   "execution_count": 17,
   "metadata": {},
   "outputs": [],
   "source": [
    "real_campaign = nl.MailChimp_Campaign(newsletter, mailchimp_config_real, \n",
    "                                   from_name=cf.mailchimp_compaign.from_name, \n",
    "                                   reply_to=cf.mailchimp_compaign.reply_to)"
   ]
  },
  {
   "cell_type": "code",
   "execution_count": 18,
   "metadata": {
    "scrolled": true
   },
   "outputs": [
    {
     "name": "stdout",
     "output_type": "stream",
     "text": [
      "MailChimp account connected!\n",
      "Template updated at: 2021-06-26T21:43:59+00:00\n",
      "recipients specified.\n",
      "Campaign created successfully!\n"
     ]
    }
   ],
   "source": [
    "real_campaign.create()"
   ]
  },
  {
   "cell_type": "code",
   "execution_count": 19,
   "metadata": {},
   "outputs": [
    {
     "data": {
      "text/plain": [
       "<Response [204]>"
      ]
     },
     "execution_count": 19,
     "metadata": {},
     "output_type": "execute_result"
    }
   ],
   "source": [
    "real_campaign.send()"
   ]
  },
  {
   "cell_type": "markdown",
   "metadata": {},
   "source": [
    "## Drafts"
   ]
  },
  {
   "cell_type": "code",
   "execution_count": 200,
   "metadata": {
    "code_folding": []
   },
   "outputs": [],
   "source": [
    "# define article tag\n",
    "tag_list = ['英国新闻', '英国新闻', '英国新闻', '英国新闻']\n",
    "\n",
    "for index in range(len(tag_list)):\n",
    "    article_list[index].tag = tag_list[index]\n",
    "    \n",
    "# article_list[0].img_url = 'https://i.epochtimes.com/assets/uploads/2020/12/2012112056442124.jpg'"
   ]
  }
 ],
 "metadata": {
  "kernelspec": {
   "display_name": "Python 3",
   "language": "python",
   "name": "python3"
  },
  "language_info": {
   "codemirror_mode": {
    "name": "ipython",
    "version": 3
   },
   "file_extension": ".py",
   "mimetype": "text/x-python",
   "name": "python",
   "nbconvert_exporter": "python",
   "pygments_lexer": "ipython3",
   "version": "3.7.4"
  }
 },
 "nbformat": 4,
 "nbformat_minor": 2
}
